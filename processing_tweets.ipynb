{
 "cells": [
  {
   "cell_type": "code",
   "execution_count": 1,
   "metadata": {},
   "outputs": [
    {
     "name": "stderr",
     "output_type": "stream",
     "text": [
      "/tmp/ipykernel_31961/1232358823.py:1: DeprecationWarning: \n",
      "Pyarrow will become a required dependency of pandas in the next major release of pandas (pandas 3.0),\n",
      "(to allow more performant data types, such as the Arrow string type, and better interoperability with other libraries)\n",
      "but was not found to be installed on your system.\n",
      "If this would cause problems for you,\n",
      "please provide us feedback at https://github.com/pandas-dev/pandas/issues/54466\n",
      "        \n",
      "  import pandas as pd\n",
      "/tmp/ipykernel_31961/1232358823.py:3: DtypeWarning: Columns (0,1,6,7,8,10,16,17,18,20,21,25,28) have mixed types. Specify dtype option on import or set low_memory=False.\n",
      "  ukrainian_tweets = pd.read_csv('data/ukrainian_only/ukrainian_tweets.csv')\n"
     ]
    },
    {
     "data": {
      "text/plain": [
       "(1490795, 30)"
      ]
     },
     "execution_count": 1,
     "metadata": {},
     "output_type": "execute_result"
    }
   ],
   "source": [
    "import pandas as pd \n",
    "\n",
    "ukrainian_tweets = pd.read_csv('data/ukrainian_only/ukrainian_tweets.csv')\n",
    "ukrainian_tweets.shape"
   ]
  },
  {
   "cell_type": "markdown",
   "metadata": {},
   "source": [
    "### drop rows with empty text and duplicates"
   ]
  },
  {
   "cell_type": "code",
   "execution_count": 2,
   "metadata": {},
   "outputs": [
    {
     "data": {
      "text/plain": [
       "(779836, 30)"
      ]
     },
     "execution_count": 2,
     "metadata": {},
     "output_type": "execute_result"
    }
   ],
   "source": [
    "ukrainian_tweets = ukrainian_tweets.dropna(subset=['text'])\n",
    "ukrainian_tweets = ukrainian_tweets.drop_duplicates(subset=['text'])\n",
    "ukrainian_tweets['text'] = ukrainian_tweets.text.apply(lambda x : x.lower())\n",
    "ukrainian_tweets.shape"
   ]
  },
  {
   "cell_type": "markdown",
   "metadata": {},
   "source": [
    "### Remove stopwords and punctuation"
   ]
  },
  {
   "cell_type": "code",
   "execution_count": 3,
   "metadata": {},
   "outputs": [
    {
     "data": {
      "text/plain": [
       "['а', 'аби', 'абиде', 'абиким', 'абикого']"
      ]
     },
     "execution_count": 3,
     "metadata": {},
     "output_type": "execute_result"
    }
   ],
   "source": [
    "with open('stopwords_ua.txt', 'r', encoding='utf-8') as file:\n",
    "    stopwords = file.read().splitlines()\n",
    "\n",
    "stopwords[:5]"
   ]
  },
  {
   "cell_type": "code",
   "execution_count": 4,
   "metadata": {},
   "outputs": [
    {
     "data": {
      "text/plain": [
       "True"
      ]
     },
     "execution_count": 4,
     "metadata": {},
     "output_type": "execute_result"
    }
   ],
   "source": [
    "\"це\" in stopwords"
   ]
  },
  {
   "cell_type": "code",
   "execution_count": 5,
   "metadata": {},
   "outputs": [],
   "source": [
    "import re\n",
    "\n",
    "def remove_stopwords_and_punctuation(text : str):\n",
    "    \"\"\"Split text by space char and remove stopwords\"\"\"\n",
    "\n",
    "    text_no_punctuation = re.sub(r'[^\\w\\s]', '', text)\n",
    "    words = text_no_punctuation.split()  # Split text into words\n",
    "    filtered_words = [word for word in words if word not in stopwords]  # Keep words that are not in stopwords\n",
    "    return ' '.join(filtered_words)  # Join words back into a string"
   ]
  },
  {
   "cell_type": "code",
   "execution_count": 6,
   "metadata": {},
   "outputs": [],
   "source": [
    "ukrainian_tweets['text_processed'] =  ukrainian_tweets['text'].apply(remove_stopwords_and_punctuation)"
   ]
  },
  {
   "cell_type": "code",
   "execution_count": 7,
   "metadata": {},
   "outputs": [
    {
     "data": {
      "text/plain": [
       "0          urijah_ghor xaviercrab шо федора комікса 7 кар...\n",
       "1          польща заборонила ввозити україни десятки найм...\n",
       "2          вкажіть вік опублікувавши гру вийшла 18 httpst...\n",
       "3          україна закупила обладнання відбору зберігання...\n",
       "4          baldreview оффтоп взагалі обурює ліниві вибляд...\n",
       "                                 ...                        \n",
       "1490790                                         coricciv бля\n",
       "1490791                     емоційно узагальнила здвиги фазі\n",
       "1490792               charlotta_cos швидкого мовити одужання\n",
       "1490793    ідіть ебать путін ukrainian putinswar putinwar...\n",
       "1490794    запаси 1 2 3 4 груп крові закінчились повідомл...\n",
       "Name: text_processed, Length: 779836, dtype: object"
      ]
     },
     "execution_count": 7,
     "metadata": {},
     "output_type": "execute_result"
    }
   ],
   "source": [
    "ukrainian_tweets['text_processed']"
   ]
  },
  {
   "cell_type": "code",
   "execution_count": 14,
   "metadata": {},
   "outputs": [],
   "source": [
    "ukrainian_tweets = ukrainian_tweets[~ukrainian_tweets['text_processed'].isna()]"
   ]
  },
  {
   "cell_type": "markdown",
   "metadata": {},
   "source": [
    "### remove emoji"
   ]
  },
  {
   "cell_type": "code",
   "execution_count": 15,
   "metadata": {},
   "outputs": [],
   "source": [
    "try:\n",
    "    import emoji\n",
    "except ModuleNotFoundError:\n",
    "    !python -m pip install emoji --upgrade\n",
    "    import emoji\n",
    "    \n",
    "def give_emoji_free_text(text):\n",
    "    return emoji.replace_emoji(text,replace='')"
   ]
  },
  {
   "cell_type": "code",
   "execution_count": 18,
   "metadata": {},
   "outputs": [],
   "source": [
    "ukrainian_tweets['text_processed'] =  ukrainian_tweets['text_processed'].apply(lambda x : give_emoji_free_text(x))"
   ]
  },
  {
   "cell_type": "markdown",
   "metadata": {},
   "source": [
    "### remove english characters ?"
   ]
  },
  {
   "cell_type": "code",
   "execution_count": 19,
   "metadata": {},
   "outputs": [],
   "source": [
    "def remove_english_characters(text):\n",
    "    return re.sub(r'[a-zA-Z]', '', text)"
   ]
  },
  {
   "cell_type": "code",
   "execution_count": 20,
   "metadata": {},
   "outputs": [],
   "source": [
    "ukrainian_tweets['text_processed'] = ukrainian_tweets['text_processed'].apply(remove_english_characters)"
   ]
  },
  {
   "cell_type": "code",
   "execution_count": 21,
   "metadata": {},
   "outputs": [
    {
     "data": {
      "text/plain": [
       "0          _  шо федора комікса 7 карт знаю чесно шось за...\n",
       "1          польща заборонила ввозити україни десятки найм...\n",
       "2              вкажіть вік опублікувавши гру вийшла 18 39 04\n",
       "3          україна закупила обладнання відбору зберігання...\n",
       "4           оффтоп взагалі обурює ліниві виблядки кріслах...\n",
       "                                 ...                        \n",
       "1490790                                                  бля\n",
       "1490791                     емоційно узагальнила здвиги фазі\n",
       "1490792                           _ швидкого мовити одужання\n",
       "1490793                               ідіть ебать путін     \n",
       "1490794    запаси 1 2 3 4 груп крові закінчились повідомл...\n",
       "Name: text_processed, Length: 779836, dtype: object"
      ]
     },
     "execution_count": 21,
     "metadata": {},
     "output_type": "execute_result"
    }
   ],
   "source": [
    "ukrainian_tweets['text_processed']"
   ]
  },
  {
   "cell_type": "markdown",
   "metadata": {},
   "source": [
    "### remove numbers and remove extra spaces"
   ]
  },
  {
   "cell_type": "code",
   "execution_count": 22,
   "metadata": {},
   "outputs": [],
   "source": [
    "def remove_numbers(text):\n",
    "    return re.sub(r'\\d+', '', text)"
   ]
  },
  {
   "cell_type": "code",
   "execution_count": 23,
   "metadata": {},
   "outputs": [],
   "source": [
    "def remove_extra_spaces(text):\n",
    "    text = re.sub(r'\\s+', ' ', text).strip()\n",
    "    return text.replace('_','') "
   ]
  },
  {
   "cell_type": "code",
   "execution_count": 24,
   "metadata": {},
   "outputs": [],
   "source": [
    "ukrainian_tweets['text_processed'] = ukrainian_tweets['text_processed'].apply(remove_numbers)"
   ]
  },
  {
   "cell_type": "code",
   "execution_count": 25,
   "metadata": {},
   "outputs": [
    {
     "data": {
      "text/plain": [
       "0          _  шо федора комікса  карт знаю чесно шось зай...\n",
       "1          польща заборонила ввозити україни десятки найм...\n",
       "2                    вкажіть вік опублікувавши гру вийшла   \n",
       "3          україна закупила обладнання відбору зберігання...\n",
       "4           оффтоп взагалі обурює ліниві виблядки кріслах...\n",
       "                                 ...                        \n",
       "1490790                                                  бля\n",
       "1490791                     емоційно узагальнила здвиги фазі\n",
       "1490792                           _ швидкого мовити одужання\n",
       "1490793                               ідіть ебать путін     \n",
       "1490794    запаси     груп крові закінчились повідомляє х...\n",
       "Name: text_processed, Length: 779836, dtype: object"
      ]
     },
     "execution_count": 25,
     "metadata": {},
     "output_type": "execute_result"
    }
   ],
   "source": [
    "ukrainian_tweets['text_processed'] "
   ]
  },
  {
   "cell_type": "code",
   "execution_count": 26,
   "metadata": {},
   "outputs": [],
   "source": [
    "ukrainian_tweets['text_processed'] = ukrainian_tweets['text_processed'].apply(remove_extra_spaces)"
   ]
  },
  {
   "cell_type": "code",
   "execution_count": 27,
   "metadata": {},
   "outputs": [
    {
     "data": {
      "text/plain": [
       "0           шо федора комікса карт знаю чесно шось зайшло...\n",
       "1          польща заборонила ввозити україни десятки найм...\n",
       "2                       вкажіть вік опублікувавши гру вийшла\n",
       "3          україна закупила обладнання відбору зберігання...\n",
       "4          оффтоп взагалі обурює ліниві виблядки кріслах ...\n",
       "                                 ...                        \n",
       "1490790                                                  бля\n",
       "1490791                     емоційно узагальнила здвиги фазі\n",
       "1490792                             швидкого мовити одужання\n",
       "1490793                                    ідіть ебать путін\n",
       "1490794    запаси груп крові закінчились повідомляє харкі...\n",
       "Name: text_processed, Length: 779836, dtype: object"
      ]
     },
     "execution_count": 27,
     "metadata": {},
     "output_type": "execute_result"
    }
   ],
   "source": [
    "ukrainian_tweets['text_processed']"
   ]
  },
  {
   "cell_type": "markdown",
   "metadata": {},
   "source": [
    "### lemmatization"
   ]
  },
  {
   "cell_type": "code",
   "execution_count": 24,
   "metadata": {},
   "outputs": [
    {
     "name": "stdout",
     "output_type": "stream",
     "text": [
      "Collecting pymorphy3\n",
      "  Obtaining dependency information for pymorphy3 from https://files.pythonhosted.org/packages/ee/53/862f7b7f3e488e5420bebd5cf59362cb175463ad3cfddd61ade15a738dc7/pymorphy3-2.0.1-py3-none-any.whl.metadata\n",
      "  Downloading pymorphy3-2.0.1-py3-none-any.whl.metadata (1.8 kB)\n",
      "Requirement already satisfied: dawg-python>=0.7.1 in ./env/lib/python3.11/site-packages (from pymorphy3) (0.7.2)\n",
      "Collecting pymorphy3-dicts-ru (from pymorphy3)\n",
      "  Obtaining dependency information for pymorphy3-dicts-ru from https://files.pythonhosted.org/packages/b0/67/469e9e52d046863f5959928794d3067d455a77f580bf4a662630a43eb426/pymorphy3_dicts_ru-2.4.417150.4580142-py2.py3-none-any.whl.metadata\n",
      "  Downloading pymorphy3_dicts_ru-2.4.417150.4580142-py2.py3-none-any.whl.metadata (2.0 kB)\n",
      "Downloading pymorphy3-2.0.1-py3-none-any.whl (53 kB)\n",
      "\u001b[2K   \u001b[90m━━━━━━━━━━━━━━━━━━━━━━━━━━━━━━━━━━━━━━━━\u001b[0m \u001b[32m53.2/53.2 kB\u001b[0m \u001b[31m965.5 kB/s\u001b[0m eta \u001b[36m0:00:00\u001b[0m\u001b[36m0:00:01\u001b[0m\n",
      "\u001b[?25hDownloading pymorphy3_dicts_ru-2.4.417150.4580142-py2.py3-none-any.whl (8.4 MB)\n",
      "\u001b[2K   \u001b[90m━━━━━━━━━━━━━━━━━━━━━━━━━━━━━━━━━━━━━━━━\u001b[0m \u001b[32m8.4/8.4 MB\u001b[0m \u001b[31m6.3 MB/s\u001b[0m eta \u001b[36m0:00:00\u001b[0m00:01\u001b[0m00:01\u001b[0m\n",
      "\u001b[?25hInstalling collected packages: pymorphy3-dicts-ru, pymorphy3\n",
      "Successfully installed pymorphy3-2.0.1 pymorphy3-dicts-ru-2.4.417150.4580142\n",
      "\n",
      "\u001b[1m[\u001b[0m\u001b[34;49mnotice\u001b[0m\u001b[1;39;49m]\u001b[0m\u001b[39;49m A new release of pip is available: \u001b[0m\u001b[31;49m23.2.1\u001b[0m\u001b[39;49m -> \u001b[0m\u001b[32;49m24.0\u001b[0m\n",
      "\u001b[1m[\u001b[0m\u001b[34;49mnotice\u001b[0m\u001b[1;39;49m]\u001b[0m\u001b[39;49m To update, run: \u001b[0m\u001b[32;49mpip install --upgrade pip\u001b[0m\n"
     ]
    }
   ],
   "source": [
    "try :\n",
    "    import pymorphy3\n",
    "except ModuleNotFoundError:\n",
    "    ! pip install pymorphy3\n",
    "    ! pip install pymorphy3-dicts-uk\n",
    "    import pymorphy3\n",
    "except Exception as e:\n",
    "    print(f\"Error occured during importing pymorphy {e}\")\n",
    "    "
   ]
  },
  {
   "cell_type": "code",
   "execution_count": 30,
   "metadata": {},
   "outputs": [],
   "source": [
    "# Create a morphological analyzer for Ukrainian\n",
    "morph = pymorphy3.MorphAnalyzer(lang='uk')\n",
    "\n",
    "\n",
    "def lemmatize_text_uk(text):\n",
    "    words = text.split()  \n",
    "    lemmatized_words = [morph.parse(word)[0].normal_form for word in words]\n",
    "    return ' '.join(lemmatized_words)"
   ]
  },
  {
   "cell_type": "code",
   "execution_count": 31,
   "metadata": {},
   "outputs": [],
   "source": [
    "ukrainian_tweets['text_processed'] = ukrainian_tweets['text_processed'].apply(lemmatize_text_uk) "
   ]
  },
  {
   "cell_type": "code",
   "execution_count": 32,
   "metadata": {},
   "outputs": [
    {
     "data": {
      "text/plain": [
       "0          _ здаватися шо федора комікс карта знати чесно...\n",
       "1          польща заборонити ввозити україна десятка найм...\n",
       "2                       вказати віка опублікувавши гру вийти\n",
       "3          україна закупити обладнання відбір зберігання ...\n",
       "4          та оффтоп взагалі мен обурювати лінивий вибляд...\n",
       "                                 ...                        \n",
       "1490790                                               та бля\n",
       "1490791                      емоційно узагальнити здвиг фаза\n",
       "1490792                         _ це швидкий мовити одужання\n",
       "1490793                                      іти ебати путін\n",
       "1490794    запас група кров закінчитися повідомляти харкі...\n",
       "Name: text_processed, Length: 779836, dtype: object"
      ]
     },
     "execution_count": 32,
     "metadata": {},
     "output_type": "execute_result"
    }
   ],
   "source": [
    "ukrainian_tweets['text_processed'] "
   ]
  },
  {
   "cell_type": "code",
   "execution_count": null,
   "metadata": {},
   "outputs": [],
   "source": [
    "ukrainian_tweets.to_csv('./data/processed/ukrainian_tweets_processed.csv',index=False)"
   ]
  }
 ],
 "metadata": {
  "kernelspec": {
   "display_name": "env",
   "language": "python",
   "name": "python3"
  },
  "language_info": {
   "codemirror_mode": {
    "name": "ipython",
    "version": 3
   },
   "file_extension": ".py",
   "mimetype": "text/x-python",
   "name": "python",
   "nbconvert_exporter": "python",
   "pygments_lexer": "ipython3",
   "version": "3.11.6"
  }
 },
 "nbformat": 4,
 "nbformat_minor": 2
}
