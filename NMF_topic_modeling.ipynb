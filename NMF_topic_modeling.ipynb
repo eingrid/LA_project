{
 "cells": [
  {
   "cell_type": "code",
   "execution_count": 30,
   "metadata": {},
   "outputs": [],
   "source": [
    "import pandas as pd\n",
    "import re\n",
    "import string\n",
    "\n",
    "#change dataset path\n",
    "df = pd.read_csv('0819_UkraineCombinedTweetsDeduped.csv')"
   ]
  },
  {
   "cell_type": "code",
   "execution_count": 31,
   "metadata": {},
   "outputs": [],
   "source": [
    "df = df[df['language']=='en']\n",
    "documents = df['text'].tolist()\n"
   ]
  },
  {
   "cell_type": "code",
   "execution_count": 32,
   "metadata": {},
   "outputs": [],
   "source": [
    "def remove_links_content(text):\n",
    "    text = re.sub(r\"http\\S+\", \"\", text)\n",
    "    return text\n",
    "\n",
    "\n",
    "def remove_emails(text):\n",
    "    return re.sub('\\S*@\\S*\\s?', '', text)  # noqa\n",
    "\n",
    "\n",
    "def remove_punctuation(text):\n",
    "    \"\"\"https://stackoverflow.com/a/37221663\"\"\"\n",
    "    table = str.maketrans({key: None for key in string.punctuation})\n",
    "    return text.translate(table)\n",
    "\n",
    "def remove_multiple_space(text):\n",
    "    return re.sub(\"\\s\\s+\", \" \", text)"
   ]
  },
  {
   "cell_type": "code",
   "execution_count": 39,
   "metadata": {},
   "outputs": [
    {
     "name": "stdout",
     "output_type": "stream",
     "text": [
      "Collecting cleantext\n",
      "  Downloading cleantext-1.1.4-py3-none-any.whl (4.9 kB)\n",
      "Requirement already satisfied: nltk in ./env/lib/python3.11/site-packages (from cleantext) (3.8.1)\n",
      "Requirement already satisfied: click in ./env/lib/python3.11/site-packages (from nltk->cleantext) (8.1.7)\n",
      "Requirement already satisfied: joblib in ./env/lib/python3.11/site-packages (from nltk->cleantext) (1.3.2)\n",
      "Requirement already satisfied: regex>=2021.8.3 in ./env/lib/python3.11/site-packages (from nltk->cleantext) (2023.12.25)\n",
      "Requirement already satisfied: tqdm in ./env/lib/python3.11/site-packages (from nltk->cleantext) (4.66.2)\n",
      "Installing collected packages: cleantext\n",
      "Successfully installed cleantext-1.1.4\n",
      "\n",
      "\u001b[1m[\u001b[0m\u001b[34;49mnotice\u001b[0m\u001b[1;39;49m]\u001b[0m\u001b[39;49m A new release of pip is available: \u001b[0m\u001b[31;49m23.2.1\u001b[0m\u001b[39;49m -> \u001b[0m\u001b[32;49m24.0\u001b[0m\n",
      "\u001b[1m[\u001b[0m\u001b[34;49mnotice\u001b[0m\u001b[1;39;49m]\u001b[0m\u001b[39;49m To update, run: \u001b[0m\u001b[32;49mpip install --upgrade pip\u001b[0m\n"
     ]
    }
   ],
   "source": [
    "!pip install cleantext"
   ]
  },
  {
   "cell_type": "code",
   "execution_count": 40,
   "metadata": {},
   "outputs": [
    {
     "name": "stderr",
     "output_type": "stream",
     "text": [
      "[nltk_data] Downloading package punkt to /home/eingrid/nltk_data...\n",
      "[nltk_data]   Package punkt is already up-to-date!\n",
      "[nltk_data] Downloading package stopwords to\n",
      "[nltk_data]     /home/eingrid/nltk_data...\n",
      "[nltk_data]   Package stopwords is already up-to-date!\n",
      "[nltk_data] Downloading package wordnet to /home/eingrid/nltk_data...\n",
      "[nltk_data]   Package wordnet is already up-to-date!\n"
     ]
    }
   ],
   "source": [
    "import nltk\n",
    "from nltk.corpus import stopwords\n",
    "from nltk.stem import WordNetLemmatizer\n",
    "from nltk.tokenize import word_tokenize\n",
    "from cleantext import clean\n",
    "\n",
    "nltk.download('punkt')\n",
    "nltk.download('stopwords')\n",
    "nltk.download('wordnet')\n",
    "\n",
    "stop_words = set(stopwords.words('english'))\n",
    "lemmatizer = WordNetLemmatizer()\n",
    "\n",
    "# Function to preprocess documents\n",
    "def preprocess(document):\n",
    "    # Tokenize\n",
    "    document = remove_links_content(document)\n",
    "    document = remove_emails(document)\n",
    "    document = remove_punctuation(document)\n",
    "    document = remove_multiple_space(document)\n",
    "    \n",
    "    words = word_tokenize(document.lower())\n",
    "    # Remove stopwords and punctuations\n",
    "    filtered_words = [word for word in words if word.isalnum() and not word in stop_words]\n",
    "    # Lemmatize\n",
    "    lemmatized_words = [lemmatizer.lemmatize(word) for word in filtered_words]\n",
    "    return ' '.join(lemmatized_words)\n",
    "\n",
    "# Preprocess all documents\n",
    "preprocessed_documents = [preprocess(doc) for doc in documents]\n"
   ]
  },
  {
   "cell_type": "code",
   "execution_count": 60,
   "metadata": {},
   "outputs": [],
   "source": [
    "from sklearn.feature_extraction.text import TfidfVectorizer\n",
    "from sklearn.decomposition import NMF\n",
    "from gensim.models.coherencemodel import CoherenceModel\n",
    "from gensim.corpora.dictionary import Dictionary\n",
    "from gensim import matutils\n",
    "\n",
    "tfidf_vectorizer = TfidfVectorizer(max_df=0.95, min_df=4, stop_words='english')\n",
    "tfidf = tfidf_vectorizer.fit_transform(preprocessed_documents)\n",
    "tfidf_feature_names = tfidf_vectorizer.get_feature_names_out()\n",
    "\n",
    "\n",
    "\n",
    "\n"
   ]
  },
  {
   "cell_type": "code",
   "execution_count": 61,
   "metadata": {},
   "outputs": [],
   "source": [
    "model = NMF(n_components=5, init='random', random_state=0)\n",
    "W = model.fit_transform(tfidf)\n",
    "H = model.components_"
   ]
  },
  {
   "cell_type": "code",
   "execution_count": 62,
   "metadata": {},
   "outputs": [],
   "source": [
    "# Extract the top words for each topic\n",
    "n_top_words = 10\n",
    "topics = []\n",
    "for topic_idx, topic in enumerate(H):\n",
    "    top_features_ind = topic.argsort()[:-n_top_words - 1:-1]\n",
    "    top_features = [tfidf_feature_names[i] for i in top_features_ind]\n",
    "    topics.append(top_features)\n"
   ]
  },
  {
   "cell_type": "code",
   "execution_count": 63,
   "metadata": {},
   "outputs": [
    {
     "name": "stdout",
     "output_type": "stream",
     "text": [
      "Coherence Score: 0.719928770541528\n"
     ]
    }
   ],
   "source": [
    "# Convert the list of top words into a list of lists of words\n",
    "texts = [[word for word in doc.lower().split() if word in tfidf_feature_names] for doc in preprocessed_documents]\n",
    "\n",
    "# Create a Gensim dictionary\n",
    "dictionary = Dictionary(texts)\n",
    "\n",
    "# Convert the dictionary and the corpus\n",
    "corpus = [dictionary.doc2bow(text) for text in texts]\n",
    "\n",
    "# Calculate the coherence score using Gensim\n",
    "coherence_model = CoherenceModel(topics=topics, texts=texts, dictionary=dictionary, coherence='c_v')\n",
    "coherence_score = coherence_model.get_coherence()\n",
    "\n",
    "print('Coherence Score:', coherence_score)"
   ]
  },
  {
   "cell_type": "code",
   "execution_count": 64,
   "metadata": {},
   "outputs": [
    {
     "data": {
      "text/plain": [
       "[['ukraine',\n",
       "  'russia',\n",
       "  'russian',\n",
       "  'war',\n",
       "  'ukrainian',\n",
       "  'russiaisaterroriststate',\n",
       "  'ukrainerussiawar',\n",
       "  'nuclear',\n",
       "  'plant',\n",
       "  'military'],\n",
       " ['china',\n",
       "  'putin',\n",
       "  'biden',\n",
       "  'russia',\n",
       "  'india',\n",
       "  'usa',\n",
       "  'news',\n",
       "  'world',\n",
       "  'sweden',\n",
       "  'uk'],\n",
       " ['armukrainenow',\n",
       "  'germany',\n",
       "  'missile',\n",
       "  'save',\n",
       "  'airdefence',\n",
       "  'speed',\n",
       "  'militaryaid',\n",
       "  'defense',\n",
       "  'transfer',\n",
       "  'norway'],\n",
       " ['standwithukraine',\n",
       "  'playing',\n",
       "  'video',\n",
       "  'rock',\n",
       "  'thank',\n",
       "  'ukrainerussiawar',\n",
       "  'slavaukraini',\n",
       "  'ukraineunderattack',\n",
       "  'russianwarcrimes',\n",
       "  'radio'],\n",
       " ['hire',\n",
       "  'passive',\n",
       "  'awesome',\n",
       "  'term',\n",
       "  'income',\n",
       "  'website',\n",
       "  'create',\n",
       "  'autopilot',\n",
       "  'long',\n",
       "  'affiliate']]"
      ]
     },
     "execution_count": 64,
     "metadata": {},
     "output_type": "execute_result"
    }
   ],
   "source": [
    "topics"
   ]
  },
  {
   "cell_type": "code",
   "execution_count": 59,
   "metadata": {},
   "outputs": [
    {
     "data": {
      "text/plain": [
       "extractedts\n",
       "2022-08-19    17663\n",
       "2022-08-20     5516\n",
       "Name: count, dtype: int64"
      ]
     },
     "execution_count": 59,
     "metadata": {},
     "output_type": "execute_result"
    }
   ],
   "source": [
    "df['extractedts'].apply(lambda x : x.split(' ')[0]).value_counts()"
   ]
  },
  {
   "cell_type": "code",
   "execution_count": null,
   "metadata": {},
   "outputs": [],
   "source": []
  }
 ],
 "metadata": {
  "kernelspec": {
   "display_name": "env",
   "language": "python",
   "name": "python3"
  },
  "language_info": {
   "codemirror_mode": {
    "name": "ipython",
    "version": 3
   },
   "file_extension": ".py",
   "mimetype": "text/x-python",
   "name": "python",
   "nbconvert_exporter": "python",
   "pygments_lexer": "ipython3",
   "version": "3.11.6"
  }
 },
 "nbformat": 4,
 "nbformat_minor": 2
}
