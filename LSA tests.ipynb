{
 "cells": [
  {
   "cell_type": "code",
   "execution_count": 2,
   "id": "0309b447-c1b6-46ee-b676-554a8da813e1",
   "metadata": {},
   "outputs": [],
   "source": [
    "import gzip\n",
    "from io import StringIO\n",
    "import pandas as pd\n",
    "from datetime import datetime, timedelta\n",
    "import re\n",
    "import string"
   ]
  },
  {
   "cell_type": "code",
   "execution_count": 3,
   "id": "d2500bbc-9268-4ea6-9ebb-c72f8aab4853",
   "metadata": {},
   "outputs": [],
   "source": [
    "def gzip_file_to_documents_list(file_name, languages_filter=['en']):\n",
    "    with gzip.open(file_name, 'rb') as f:\n",
    "        decompressed_data = f.read()\n",
    "    df_data = pd.read_csv(StringIO(str(decompressed_data,'utf-8')), index_col=0)\n",
    "    documents = df_data[df_data['language'].isin(languages_filter)]['text'].tolist()\n",
    "    return documents"
   ]
  },
  {
   "cell_type": "code",
   "execution_count": 4,
   "id": "434db22e-05c4-49a8-88f7-b68f28349fbf",
   "metadata": {},
   "outputs": [],
   "source": [
    "def uctd_file_name_by_date(month, day):\n",
    "    return '0'*int(month < 10) + str(month) + '0'*int(day < 10) + str(day) + \"_UkraineCombinedTweetsDeduped.csv.gzip\""
   ]
  },
  {
   "cell_type": "code",
   "execution_count": 5,
   "id": "b6a217fd-6621-423e-96e8-37375acd9da1",
   "metadata": {},
   "outputs": [],
   "source": [
    "def get_uctd_documents_between_dates(start: str, end: str,\n",
    "                                     languages_filter=['en'], verbose: int = 0):\n",
    "    # Dates in the 'YYYY-DD-MM' format\n",
    "    date_start = datetime.strptime(start, '%Y-%m-%d')\n",
    "    date_end = datetime.strptime(end, '%Y-%m-%d')\n",
    "    delta_days = date_end - date_start\n",
    "    all_documents = []\n",
    "    for i_d in range(delta_days.days + 1):\n",
    "        date_current = date_start + timedelta(days=i_d)\n",
    "        uctd_file_name = uctd_file_name_by_date(date_current.month, date_current.day)\n",
    "        all_documents += gzip_file_to_documents_list(uctd_file_name, languages_filter=languages_filter)\n",
    "        if verbose == 1:\n",
    "            print(f'--Documents for the day {date_current.date()} processed')\n",
    "    return all_documents"
   ]
  },
  {
   "cell_type": "code",
   "execution_count": 6,
   "id": "52c02b59-1670-410a-be1b-591dff909e63",
   "metadata": {},
   "outputs": [
    {
     "name": "stdout",
     "output_type": "stream",
     "text": [
      "--Documents for the day 2023-08-19 processed\n",
      "--Documents for the day 2023-08-20 processed\n",
      "--Documents for the day 2023-08-21 processed\n",
      "--Documents for the day 2023-08-22 processed\n",
      "--Documents for the day 2023-08-23 processed\n"
     ]
    }
   ],
   "source": [
    "all_documents = get_uctd_documents_between_dates('2023-08-19','2023-08-23',verbose=1)"
   ]
  },
  {
   "cell_type": "code",
   "execution_count": 7,
   "id": "4a4a53d9-c1b9-4d75-9ea7-7d0580f13911",
   "metadata": {},
   "outputs": [
    {
     "data": {
      "text/plain": [
       "'Dear vaccine advocate\\n\\nDo take the COVID19 mRNA shot and boosters, but do know that @OurWorldInData data shows it offers zero protection, actually accelerates death of vaccinated.\\n\\nRegards\\n#Pfizer #AstraZeneca #Moderna #NWO #Agenda2030 #COP27 #Biden #Obama #Trudeau #Jacinda #life https://t.co/VTbfuqiDvu'"
      ]
     },
     "execution_count": 7,
     "metadata": {},
     "output_type": "execute_result"
    }
   ],
   "source": [
    "all_documents[0]"
   ]
  },
  {
   "cell_type": "code",
   "execution_count": 41,
   "id": "b783b52b-9d02-4613-ac43-6c748a4770e8",
   "metadata": {},
   "outputs": [],
   "source": [
    "def remove_links_content(text):\n",
    "    text = re.sub(r\"http\\S+\", \"\", text)\n",
    "    return text\n",
    "\n",
    "def remove_emails(text):\n",
    "    return re.sub('\\S+@\\S*\\s?', '', text)  # noqa\n",
    "\n",
    "def remove_punctuation(text):\n",
    "    \"\"\"https://stackoverflow.com/a/37221663\"\"\"\n",
    "    table = str.maketrans({key: None for key in string.punctuation})\n",
    "    return text.translate(table)\n",
    "\n",
    "def remove_multiple_space(text):\n",
    "    return re.sub(\"\\s\\s+\", \" \", text)"
   ]
  },
  {
   "cell_type": "code",
   "execution_count": null,
   "id": "a690fc4c-fc45-406a-a20b-24eb3a1375d1",
   "metadata": {},
   "outputs": [],
   "source": [
    "document = remove_links_content(document)\n",
    "    document = remove_emails(document)\n",
    "    document = remove_multiple_space(document)\n",
    "    document = remove_hashtags(document)\n",
    "    document = remove_punctuation(document)\n",
    "    document = remove_multiple_space(document)"
   ]
  },
  {
   "cell_type": "code",
   "execution_count": 48,
   "id": "44d78ab0-c6ef-4fae-8b6d-317dbde70a0e",
   "metadata": {},
   "outputs": [],
   "source": [
    "def remove_hashtags(text):\n",
    "    old_text = text + '\\n'\n",
    "    new_text = text\n",
    "    while len(new_text) < len(old_text):\n",
    "        old_text = new_text\n",
    "        new_text = re.sub('(?<=[\\s\\n])#\\S+\\s*$', '', new_text)\n",
    "    return new_text"
   ]
  },
  {
   "cell_type": "code",
   "execution_count": 23,
   "id": "d18db9ff-cc23-4990-8278-afb74da53406",
   "metadata": {},
   "outputs": [
    {
     "data": {
      "text/plain": [
       "['Dear vaccine advocate\\n\\nDo take the COVID19 mRNA shot and boosters, but do know that @OurWorldInData data shows it offers zero protection, actually accelerates death of vaccinated.\\n\\nRegards\\n#Pfizer #AstraZeneca #Moderna #NWO #Agenda2030 #COP27 #Biden #Obama #Trudeau #Jacinda #life https://t.co/VTbfuqiDvu',\n",
       " 'Animal shelter Dogs and Cats, we need your help!\\nRaising funds food for animals.\\nPayPal: dogandcat.helper@gmail.com\\nhttps://t.co/Z3re0ItTfy\\nhttps://t.co/I9dbwRrtg0\\nhttps://t.co/71pErM8xBZ\\n\\n#Ukraine #Patreon #dogsoftwitter #Shelter #Dogs #Cats #Cute #Pets #Funny\\n#Dogsarefamily https://t.co/HLEnTp9yk7',\n",
       " 'Welcome to our shelter!\\nLocated in Ukraine, Kyiv\\nOur shelter needs your help!\\nRaising funds food for animals.\\nPayPal: dogandcat.helper@gmail.com\\nhttps://t.co/RH0peqvaXT\\nhttps://t.co/rTtTVpoCi1\\n\\n#Ukraine #Kyiv #Shelter #Dogs #Cats #Pets #DogsofTwittter #patreoncreator #Patreon https://t.co/rRWH17R813',\n",
       " '👇 Good news you may have missed: First @WFP shipment of wheat for #humanitarian operations left #Ukraine on 17 Aug \\n\\nKey milestone to assist the most vulnerable &amp; affected by the global #food crisis https://t.co/jvkZWi9FBg',\n",
       " 'Opinion: The Ukraine war is also being fought over language - CNN \\n\\n#Ukraine🇺🇦 #Freedom🇺🇲 #KeepKyivFree✊🏽 #Zelenskyy #FuckPutin\\n \\nhttps://t.co/8IGIQT5uoY',\n",
       " \"Ethereum's spot setup looks grim, but derivatives data tells a different story\\n#cryptocurrency #ukraine #gold #litecoin\\nhttps://t.co/32ZmMbOTfy\",\n",
       " \"🛢 Today's Crude Oil Prices:\\r📈 WTI: $90.63 (+0.15)\\r📉 Brent: $96.38 (-0.17)\\r⏱️ 08:00:05 PM EST\\r#putin #petroleumengineering #bakerhughes\",\n",
       " 'Rain delay no problem! Pound for Pound best #poutine in #Winnipeg #shawpark @Wpg_Goldeyes @bwynne13 https://t.co/gnyx6BB2kj',\n",
       " 'Olena Osadcha and her organization I Know You Can have teamed up with @novaukraine to ensure that one of the most impacted demographics in Ukraine are getting the help and support they need. \\nTo read more: https://t.co/jLwDW8bTuF\\n#NovaUkriane #StandwithUkraine #disabledpeople https://t.co/nJ9umOWWCM',\n",
       " '@TimInHonolulu The only answer can be #Article5 and send #NATO Airforce to finish the job. Period']"
      ]
     },
     "execution_count": 23,
     "metadata": {},
     "output_type": "execute_result"
    }
   ],
   "source": [
    "all_documents[:10]"
   ]
  },
  {
   "cell_type": "code",
   "execution_count": 64,
   "id": "aad68de2-0fb6-45d2-a570-c1a48c8ca5d7",
   "metadata": {},
   "outputs": [
    {
     "name": "stdout",
     "output_type": "stream",
     "text": [
      "@RBReich Some day other countries will make really interesting movies about this country, and they won't have to make it up. \n",
      "#movie #usa #italy #france #russia\n",
      "-----\n",
      "@RBReich Some day other countries will make really interesting movies about this country, and they won't have to make it up. #movie #usa #italy #france #russia\n",
      "-----\n",
      "@RBReich Some day other countries will make really interesting movies about this country, and they won't have to make it up. \n"
     ]
    }
   ],
   "source": [
    "document = all_documents[13]\n",
    "print(document)\n",
    "print('-----')\n",
    "document = remove_multiple_space(remove_links_content(remove_emails(document)))\n",
    "print(document)\n",
    "print('-----')\n",
    "print(remove_hashtags(document))"
   ]
  },
  {
   "cell_type": "code",
   "execution_count": null,
   "id": "00b2e5ce-efd9-4a42-88a0-c98b341606e2",
   "metadata": {},
   "outputs": [],
   "source": []
  }
 ],
 "metadata": {
  "kernelspec": {
   "display_name": "Python 3 (ipykernel)",
   "language": "python",
   "name": "python3"
  },
  "language_info": {
   "codemirror_mode": {
    "name": "ipython",
    "version": 3
   },
   "file_extension": ".py",
   "mimetype": "text/x-python",
   "name": "python",
   "nbconvert_exporter": "python",
   "pygments_lexer": "ipython3",
   "version": "3.9.18"
  }
 },
 "nbformat": 4,
 "nbformat_minor": 5
}
