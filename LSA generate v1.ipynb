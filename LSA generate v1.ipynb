{
 "cells": [
  {
   "cell_type": "code",
   "execution_count": 2,
   "id": "54208f14-599d-47a5-9e22-b4b0fcd95a81",
   "metadata": {},
   "outputs": [],
   "source": [
    "import gzip\n",
    "from io import StringIO\n",
    "import pandas as pd\n",
    "from datetime import datetime, timedelta\n",
    "import numpy as np\n",
    "import re\n",
    "import string\n",
    "import json\n",
    "import matplotlib.pyplot as plt\n",
    "import nltk\n",
    "from nltk.corpus import stopwords\n",
    "from nltk.stem import WordNetLemmatizer\n",
    "from nltk.tokenize import word_tokenize\n",
    "from nltk import ngrams\n",
    "from sklearn.feature_extraction.text import TfidfVectorizer\n",
    "from sklearn.decomposition import TruncatedSVD\n",
    "from gensim.models.coherencemodel import CoherenceModel\n",
    "from gensim.corpora.dictionary import Dictionary\n",
    "from gensim import matutils"
   ]
  },
  {
   "cell_type": "code",
   "execution_count": 3,
   "id": "dc2e0648-debf-4308-a1cb-1289830eef19",
   "metadata": {},
   "outputs": [],
   "source": [
    "def gzip_file_to_documents_list(file_name, languages_filter=['en']):\n",
    "    with gzip.open(file_name, 'rb') as f:\n",
    "        decompressed_data = f.read()\n",
    "    df_data = pd.read_csv(StringIO(str(decompressed_data,'utf-8')), index_col=0)\n",
    "    documents = df_data[df_data['language'].isin(languages_filter)]['text'].tolist()\n",
    "    return documents"
   ]
  },
  {
   "cell_type": "code",
   "execution_count": 4,
   "id": "23cbce61-a7ac-4b27-9e3a-9c56aa9e47a2",
   "metadata": {},
   "outputs": [],
   "source": [
    "def uctd_file_name_by_date(month, day):\n",
    "    return '0'*int(month < 10) + str(month) + '0'*int(day < 10) + str(day) + \"_UkraineCombinedTweetsDeduped.csv.gzip\""
   ]
  },
  {
   "cell_type": "code",
   "execution_count": 5,
   "id": "a01a9042-1c83-42af-9b2a-455ea4c765be",
   "metadata": {},
   "outputs": [],
   "source": [
    "def get_uctd_documents_between_dates(start: str, end: str,\n",
    "                                     languages_filter=['en'], verbose: int = 0):\n",
    "    # Dates in the 'YYYY-DD-MM' format\n",
    "    date_start = datetime.strptime(start, '%Y-%m-%d')\n",
    "    date_end = datetime.strptime(end, '%Y-%m-%d')\n",
    "    delta_days = date_end - date_start\n",
    "    all_documents = []\n",
    "    for i_d in range(delta_days.days + 1):\n",
    "        date_current = date_start + timedelta(days=i_d)\n",
    "        uctd_file_name = uctd_file_name_by_date(date_current.month, date_current.day)\n",
    "        all_documents += gzip_file_to_documents_list(uctd_file_name, languages_filter=languages_filter)\n",
    "        if verbose == 1:\n",
    "            print(f'--Documents for the day {date_current.date()} processed')\n",
    "    return all_documents"
   ]
  },
  {
   "cell_type": "code",
   "execution_count": 6,
   "id": "d0fdf27f-e844-45cc-9e8e-6b3301bd798c",
   "metadata": {},
   "outputs": [
    {
     "name": "stderr",
     "output_type": "stream",
     "text": [
      "[nltk_data] Downloading package punkt to /home/oleksii/nltk_data...\n",
      "[nltk_data]   Package punkt is already up-to-date!\n",
      "[nltk_data] Downloading package stopwords to\n",
      "[nltk_data]     /home/oleksii/nltk_data...\n",
      "[nltk_data]   Package stopwords is already up-to-date!\n",
      "[nltk_data] Downloading package wordnet to /home/oleksii/nltk_data...\n",
      "[nltk_data]   Package wordnet is already up-to-date!\n"
     ]
    }
   ],
   "source": [
    "nltk.download('punkt')\n",
    "nltk.download('stopwords')\n",
    "nltk.download('wordnet')\n",
    "\n",
    "stop_words = set(stopwords.words('english'))\n",
    "lemmatizer = WordNetLemmatizer()"
   ]
  },
  {
   "cell_type": "code",
   "execution_count": 7,
   "id": "15b1c9f4-f7f3-4c64-9a7f-85288a987431",
   "metadata": {},
   "outputs": [],
   "source": [
    "class LSAPipelineEnglish:\n",
    "    def __init__(self, documents_list, tf_idf_max_df=1.0, tf_idf_min_df=1,\n",
    "                 lsa_components: int = 100, svd_n_iter: int = 5,\n",
    "                 n_top_words: int = 10, ngram_range: tuple = (1, 1),\n",
    "                 import_preprocessed_documents: bool = False, random_state: int = -1):\n",
    "        self.import_documents_list = EnglishPreprocessor().preprocess_documents(documents_list)\n",
    "        if not import_preprocessed_documents:\n",
    "            self.import_documents_list = EnglishPreprocessor().preprocess_documents(documents_list,)\n",
    "        else:\n",
    "            self.import_documents_list = documents_list\n",
    "        self.tf_idf_max_df = tf_idf_max_df\n",
    "        self.tf_idf_min_df = tf_idf_min_df\n",
    "        self.lsa_components = lsa_components\n",
    "        self.svd_n_iter = svd_n_iter\n",
    "        self.n_top_words = n_top_words\n",
    "        self.ngram_range = ngram_range\n",
    "        self.random_state = random_state\n",
    "        self.coherence_texts_calculated = False\n",
    "\n",
    "    def run_topics_detection(self):\n",
    "        tfidf_documents = self.TF_IDF()\n",
    "        self.TruncatedSVD(tfidf_documents)\n",
    "        self.topics = self.find_topics()\n",
    "        return self.topics\n",
    "\n",
    "    def transform_documents(self, new_documents_list: list):\n",
    "        return list(map(np.argmax, self.svd_model.transform(\n",
    "            self.tfidf_vectorizer.transform(new_documents_list))))\n",
    "\n",
    "    def import_ready_documents(self, documents_list, texts, dictionary, corpus):\n",
    "        self.import_documents_list = documents_list\n",
    "        self.texts = texts\n",
    "        self.dictionary = dictionary\n",
    "        self.corpus = corpus\n",
    "        self.coherence_texts_calculated = True\n",
    "\n",
    "    def TF_IDF(self):\n",
    "        self.tfidf_vectorizer = TfidfVectorizer(max_df=self.tf_idf_max_df,\n",
    "                                                min_df=self.tf_idf_min_df,\n",
    "                                                ngram_range=self.ngram_range,\n",
    "                                                stop_words='english')\n",
    "        return self.tfidf_vectorizer.fit_transform(self.import_documents_list)\n",
    "        # tfidf_feature_names = self.tfidf_vectorizer.get_feature_names_out()\n",
    "    \n",
    "    def TruncatedSVD(self, tfidf_documents):\n",
    "        if self.random_state != -1:\n",
    "            self.svd_model = TruncatedSVD(n_components=self.lsa_components,\n",
    "                                 n_iter=self.svd_n_iter, random_state=self.random_state)\n",
    "        else:\n",
    "            self.svd_model = TruncatedSVD(n_components=self.lsa_components,\n",
    "                                 n_iter=self.svd_n_iter)\n",
    "        self.svd_model.fit_transform(tfidf_documents)\n",
    "\n",
    "    def find_topics(self):\n",
    "        # Extract the top words for each topic\n",
    "        topics = []\n",
    "        tfidf_feature_names = self.tfidf_vectorizer.get_feature_names_out()\n",
    "        for topic_idx, topic in enumerate(self.svd_model.components_):\n",
    "            top_features_ind = topic.argsort()[:-self.n_top_words - 1:-1]\n",
    "            top_features = [tfidf_feature_names[i] for i in top_features_ind]\n",
    "            topics.append(top_features)\n",
    "        return topics\n",
    "\n",
    "    def calculate_coherence_score(self, recalculate_texts: bool = False, verbose: int = 0):\n",
    "        if not self.coherence_texts_calculated or recalculate_texts:\n",
    "            self.calculate_coherence_texts(verbose=verbose)\n",
    "        # Calculate the coherence score using Gensim\n",
    "        coherence_model = CoherenceModel(topics=self.topics,\n",
    "                                         texts=self.texts,\n",
    "                                         dictionary=self.dictionary,\n",
    "                                         coherence='c_v')\n",
    "        if verbose == 1:\n",
    "            print(f'--Calculating the coherence score')\n",
    "        self.coherence_score = coherence_model.get_coherence()\n",
    "        return self.coherence_score\n",
    "\n",
    "    def calculate_coherence_texts(self, verbose: int = 0):\n",
    "        # Convert the list of top words into a list of lists of words\n",
    "        tfidf_feature_names = set(self.tfidf_vectorizer.get_feature_names_out())\n",
    "        if verbose == 1:\n",
    "            print(f'--Starting forming the texts')\n",
    "        self.texts = [[word for word in doc.lower().split() if (\n",
    "            word in tfidf_feature_names)] for doc in self.import_documents_list]\n",
    "        # Create a Gensim dictionary\n",
    "        if verbose == 1:\n",
    "            print(f'--Creating the Gensim dectionary')\n",
    "        self.dictionary = Dictionary(self.texts)\n",
    "        # Convert the dictionary and the corpus\n",
    "        if verbose == 1:\n",
    "            print(f'--Converting to the corpus')\n",
    "        self.corpus = [dictionary.doc2bow(text) for text in self.texts]\n",
    "        self.coherence_texts_calculated = True"
   ]
  },
  {
   "cell_type": "code",
   "execution_count": 8,
   "id": "da74b03f-c5ed-44ff-a4c5-dea28b578498",
   "metadata": {},
   "outputs": [],
   "source": [
    "class EnglishPreprocessor:\n",
    "    def preprocess_documents(self, documents_list: list, return_strings: bool = True):\n",
    "        return [self.preprocess(doc, return_string=return_strings) for doc in documents_list]\n",
    "    \n",
    "    # Function to preprocess documents\n",
    "    def preprocess(self, document, return_string: bool = True):\n",
    "        # Tokenize\n",
    "        document = self.remove_links_content(document)\n",
    "        document = self.remove_emails(document)\n",
    "        document = self.remove_multiple_space(document)\n",
    "        document = self.remove_hashtags(document)\n",
    "        document = self.remove_punctuation(document)\n",
    "        document = self.remove_multiple_space(document)\n",
    "        \n",
    "        words = word_tokenize(document.lower())\n",
    "        # Remove stopwords and punctuations\n",
    "        filtered_words = [word for word in words if word.isalnum() and not word in stop_words]\n",
    "        # Lemmatize\n",
    "        lemmatized_words = [lemmatizer.lemmatize(word) for word in filtered_words]\n",
    "        if return_string:\n",
    "            return ' '.join(lemmatized_words)\n",
    "        else:\n",
    "            return lemmatized_words\n",
    "    \n",
    "    def remove_links_content(self, text):\n",
    "        text = re.sub(r\"http\\S+\", \"\", text)\n",
    "        return text\n",
    "    \n",
    "    def remove_emails(self, text):\n",
    "        return re.sub('\\S+@\\S*\\s?', '', text)\n",
    "    \n",
    "    def remove_punctuation(self, text):\n",
    "        \"\"\"https://stackoverflow.com/a/37221663\"\"\"\n",
    "        table = str.maketrans({key: None for key in string.punctuation})\n",
    "        return text.translate(table)\n",
    "    \n",
    "    def remove_multiple_space(self, text):\n",
    "        return re.sub(\"\\s\\s+\", \" \", text)\n",
    "\n",
    "    def remove_hashtags(self, text):\n",
    "        old_text = text + '\\n'\n",
    "        new_text = text\n",
    "        while len(new_text) < len(old_text):\n",
    "            old_text = new_text\n",
    "            new_text = re.sub('(?<=[\\s\\n])#\\S+\\s*$', '', new_text)\n",
    "        return new_text"
   ]
  },
  {
   "cell_type": "code",
   "execution_count": 9,
   "id": "68022fcb-0bf8-4268-b3f3-dea9116080d6",
   "metadata": {},
   "outputs": [],
   "source": [
    "def tokenize_ngrams(document, n_g):\n",
    "    return [' '.join(ngram) for ngram in ngrams(document.lower().split(), n_g)]"
   ]
  },
  {
   "cell_type": "code",
   "execution_count": 10,
   "id": "28f2047b-1cd1-4077-82ce-189e82889acc",
   "metadata": {},
   "outputs": [
    {
     "name": "stdout",
     "output_type": "stream",
     "text": [
      "--Documents for the day 2023-09-01 processed\n",
      "--Documents for the day 2023-09-02 processed\n",
      "--Documents for the day 2023-09-03 processed\n",
      "--Documents for the day 2023-09-04 processed\n",
      "--Documents for the day 2023-09-05 processed\n",
      "--Documents for the day 2023-09-06 processed\n",
      "--Documents for the day 2023-09-07 processed\n"
     ]
    }
   ],
   "source": [
    "all_documents_092022 = get_uctd_documents_between_dates('2023-09-01','2023-09-07',verbose=1)"
   ]
  },
  {
   "cell_type": "code",
   "execution_count": 11,
   "id": "5fc4cf5d-f258-4d03-a291-b6a2c13b3cdf",
   "metadata": {},
   "outputs": [],
   "source": [
    "LSAPipeline = LSAPipelineEnglish(all_documents_092022, tf_idf_max_df=0.9, tf_idf_min_df=4,\n",
    "                                 lsa_components=5, svd_n_iter=5,\n",
    "                                 n_top_words=10, ngram_range=(1,2),\n",
    "                                 random_state=47)\n",
    "topics_v6 = LSAPipeline.run_topics_detection()"
   ]
  },
  {
   "cell_type": "code",
   "execution_count": 12,
   "id": "f2d9002e-f567-403b-9207-43680103179a",
   "metadata": {
    "scrolled": true
   },
   "outputs": [
    {
     "data": {
      "text/plain": [
       "[['ukraine',\n",
       "  'russia',\n",
       "  'russian',\n",
       "  'war',\n",
       "  'ukrainian',\n",
       "  'putin',\n",
       "  'amp',\n",
       "  'force',\n",
       "  'people',\n",
       "  'biden'],\n",
       " ['psg',\n",
       "  'juventus',\n",
       "  'psg juventus',\n",
       "  'celtic',\n",
       "  'sevilla',\n",
       "  'realmadrid',\n",
       "  'juventus sevilla',\n",
       "  'celtic realmadrid',\n",
       "  'manchestercity',\n",
       "  'madrid'],\n",
       " ['barbarism limit',\n",
       "  'ukrainewillwin crimeabelongstoukraine',\n",
       "  'limit peace',\n",
       "  'zaporizhzhiabelongstoukraine russia',\n",
       "  'crimeabelongstoukraine zaporizhzhiabelongstoukraine',\n",
       "  'peace possible',\n",
       "  'zaporizhzhiabelongstoukraine',\n",
       "  'defeated ukrainian',\n",
       "  'russian barbarism',\n",
       "  'crimeabelongstoukraine'],\n",
       " ['biden',\n",
       "  'trump',\n",
       "  'putin',\n",
       "  'amp',\n",
       "  'russia',\n",
       "  'speech',\n",
       "  'president',\n",
       "  'maga',\n",
       "  'china',\n",
       "  'like'],\n",
       " ['russian',\n",
       "  'biden',\n",
       "  'ukrainian',\n",
       "  'kherson',\n",
       "  'force',\n",
       "  'region',\n",
       "  'trump',\n",
       "  'soldier',\n",
       "  'city',\n",
       "  'armed']]"
      ]
     },
     "execution_count": 12,
     "metadata": {},
     "output_type": "execute_result"
    }
   ],
   "source": [
    "topics_v6"
   ]
  },
  {
   "cell_type": "code",
   "execution_count": 13,
   "id": "2527fbce-42a7-4070-bbb7-71b1f2853972",
   "metadata": {},
   "outputs": [],
   "source": [
    "tfidf_feature_names = set(LSAPipeline.tfidf_vectorizer.get_feature_names_out())\n",
    "preprocessed_documents = LSAPipeline.import_documents_list"
   ]
  },
  {
   "cell_type": "code",
   "execution_count": 14,
   "id": "7612aeac-59ed-4fec-bcb8-226dd28d6613",
   "metadata": {},
   "outputs": [],
   "source": [
    "# Convert the list of ngrams into a list of lists of words\n",
    "texts_v6 = [[word for word in doc.lower().split() if (\n",
    "    word in tfidf_feature_names)] + tokenize_ngrams(doc, 2) for doc in preprocessed_documents]\n",
    "\n",
    "# Create a Gensim dictionary\n",
    "dictionary_v6 = Dictionary(texts_v6)\n",
    "\n",
    "# Convert the dictionary and the corpus\n",
    "corpus_v6 = [dictionary_v6.doc2bow(text) for text in texts_v6]"
   ]
  },
  {
   "cell_type": "markdown",
   "id": "d31416d1-1fb7-444a-b817-21d6ba822b1d",
   "metadata": {},
   "source": [
    "## 1- and 2-grams: optimal topics number\n",
    "\n",
    "Model that uses both 1- and 2-grams for the different topics numbers for the data for September 2022."
   ]
  },
  {
   "cell_type": "code",
   "execution_count": 15,
   "id": "7c3b915c-4048-4403-9a08-fff6c2495a3e",
   "metadata": {
    "scrolled": true
   },
   "outputs": [
    {
     "name": "stdout",
     "output_type": "stream",
     "text": [
      "--Topic number 2 coherence score: 0.691398020766523\n",
      "--Topic number 3 coherence score: 0.7942653009700834\n",
      "--Topic number 4 coherence score: 0.7160588274053125\n",
      "--Topic number 5 coherence score: 0.6600930556317682\n",
      "--Topic number 6 coherence score: 0.6280567932849495\n",
      "--Topic number 7 coherence score: 0.5746005482969287\n",
      "--Topic number 8 coherence score: 0.5375397500208946\n",
      "--Topic number 9 coherence score: 0.5730298850163672\n",
      "--Topic number 10 coherence score: 0.5562080118155334\n",
      "--Topic number 11 coherence score: 0.581543046806252\n",
      "--Topic number 12 coherence score: 0.585344329648921\n",
      "--Topic number 13 coherence score: 0.5655677584956507\n",
      "--Topic number 14 coherence score: 0.5661272625162456\n",
      "--Topic number 20 coherence score: 0.4892754981112586\n",
      "--Topic number 30 coherence score: 0.4707701776372751\n",
      "--Topic number 40 coherence score: 0.4103981700800386\n",
      "--Topic number 50 coherence score: 0.4329878603503856\n",
      "--Topic number 100 coherence score: 0.3935700536387348\n",
      "--Topic number 150 coherence score: 0.37648523677339624\n",
      "--Topic number 200 coherence score: 0.3667282717076463\n"
     ]
    }
   ],
   "source": [
    "topic_numbers_12grams = list(range(2,15)) + [20,30,40,50,100,150,200]\n",
    "coherences_12grams = []\n",
    "predicted_topics_counts_12grams = []\n",
    "for topic_number in topic_numbers_12grams:\n",
    "    LSAPipeline = LSAPipelineEnglish(preprocessed_documents, tf_idf_max_df=0.9, tf_idf_min_df=4,\n",
    "                                 lsa_components=topic_number, svd_n_iter=5,\n",
    "                                 n_top_words=10, ngram_range=(1,2),\n",
    "                                 import_preprocessed_documents=True, random_state=47)\n",
    "    topics_12grams = LSAPipeline.run_topics_detection()\n",
    "    tfidf_feature_names = set(LSAPipeline.tfidf_vectorizer.get_feature_names_out())\n",
    "    # Calculate the coherence score using Gensim\n",
    "    coherence_model = CoherenceModel(topics=topics_12grams,\n",
    "                                     texts=texts_v6,\n",
    "                                     dictionary=dictionary_v6,\n",
    "                                     corpus=corpus_v6,\n",
    "                                     coherence='c_v')\n",
    "    coherence_score = coherence_model.get_coherence()\n",
    "    predicted_topics = LSAPipeline.transform_documents(LSAPipeline.import_documents_list)\n",
    "    predicted_topics_count = [predicted_topics.count(x) for x in np.sort(np.unique(predicted_topics))]\n",
    "    \n",
    "    print(f'--Topic number {topic_number} coherence score: {coherence_score}')\n",
    "    coherences_12grams.append(coherence_score)\n",
    "    predicted_topics_counts_12grams.append(predicted_topics_count)"
   ]
  },
  {
   "cell_type": "code",
   "execution_count": 16,
   "id": "d01531dd-da76-4717-a15c-4da6d319e112",
   "metadata": {},
   "outputs": [],
   "source": [
    "with open('coherences_12grams.json','w') as json_file:\n",
    "    json.dump({'coherences': coherences_12grams,\n",
    "               'predicted_topics': predicted_topics_counts_12grams}, json_file)"
   ]
  },
  {
   "cell_type": "code",
   "execution_count": 17,
   "id": "c416b427-3771-46ea-9944-c3ffe1671f89",
   "metadata": {},
   "outputs": [
    {
     "data": {
      "image/png": "[encoded data removed]",
      "text/plain": [
       "<Figure size 640x480 with 1 Axes>"
      ]
     },
     "metadata": {},
     "output_type": "display_data"
    }
   ],
   "source": [
    "plt.plot(topic_numbers_12grams, coherences_12grams)\n",
    "plt.title('Coherence for different n_topics | 12grams model')\n",
    "plt.xlabel('Topics number')\n",
    "plt.ylabel('Coherence (c_v) score')\n",
    "plt.grid()\n",
    "plt.show()"
   ]
  },
  {
   "cell_type": "code",
   "execution_count": null,
   "id": "8bd645e6-a2bb-46d3-bb1c-dce78d3d4720",
   "metadata": {},
   "outputs": [],
   "source": []
  }
 ],
 "metadata": {
  "kernelspec": {
   "display_name": "Python 3 (ipykernel)",
   "language": "python",
   "name": "python3"
  },
  "language_info": {
   "codemirror_mode": {
    "name": "ipython",
    "version": 3
   },
   "file_extension": ".py",
   "mimetype": "text/x-python",
   "name": "python",
   "nbconvert_exporter": "python",
   "pygments_lexer": "ipython3",
   "version": "3.9.18"
  }
 },
 "nbformat": 4,
 "nbformat_minor": 5
}
