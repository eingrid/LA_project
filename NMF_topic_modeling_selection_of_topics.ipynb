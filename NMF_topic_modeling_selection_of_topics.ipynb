{
 "cells": [
  {
   "cell_type": "code",
   "execution_count": 18,
   "metadata": {},
   "outputs": [],
   "source": [
    "import pandas as pd\n",
    "import re\n",
    "import string\n",
    "\n",
    "#change dataset path\n",
    "df = pd.read_csv('data/processed/en_tweets_processed.csv')\n",
    "df = df[df.language == 'en']\n",
    "df = df[~df['text'].isna()]\n",
    "preprocessed_documents = df['text'].tolist()\n"
   ]
  },
  {
   "cell_type": "markdown",
   "metadata": {},
   "source": [
    "## Topic Modeling per month (not all data used)"
   ]
  },
  {
   "cell_type": "code",
   "execution_count": 19,
   "metadata": {},
   "outputs": [],
   "source": [
    "from src.nnmf_pipeline import NNMFPipelineEnglish\n",
    "from src.lsa_pipeline import LSAPipelineEnglish"
   ]
  },
  {
   "cell_type": "code",
   "execution_count": 25,
   "metadata": {},
   "outputs": [
    {
     "data": {
      "text/plain": [
       "0.7048616049254075"
      ]
     },
     "execution_count": 25,
     "metadata": {},
     "output_type": "execute_result"
    }
   ],
   "source": [
    "NNMFPipeline =  NNMFPipelineEnglish(preprocessed_documents,ngram_range=(1,2),n_components=5,max_iter=1000,tf_idf_max_df=0.9,tf_idf_min_df=4,random_state=0)\n",
    "topics1 = NNMFPipeline.run_topics_detection()\n",
    "NNMFPipeline.calculate_coherence_score()"
   ]
  },
  {
   "cell_type": "code",
   "execution_count": 22,
   "metadata": {},
   "outputs": [
    {
     "data": {
      "text/plain": [
       "0.7562434732130454"
      ]
     },
     "execution_count": 22,
     "metadata": {},
     "output_type": "execute_result"
    }
   ],
   "source": [
    "lsa_pipeline = LSAPipelineEnglish(preprocessed_documents,ngram_range=(1,2),lsa_components=5,svd_n_iter=200,tf_idf_max_df=0.9,tf_idf_min_df=4,random_state=0)\n",
    "topics2 = lsa_pipeline.run_topics_detection()\n",
    "lsa_pipeline.calculate_coherence_score()"
   ]
  },
  {
   "cell_type": "code",
   "execution_count": 26,
   "metadata": {},
   "outputs": [
    {
     "data": {
      "text/plain": [
       "[['nuclear',\n",
       "  'plant',\n",
       "  'power',\n",
       "  'power plant',\n",
       "  'nuclear power',\n",
       "  'nuclear plant',\n",
       "  'zaporizhzhia',\n",
       "  'russia',\n",
       "  'zaporizhzhia nuclear',\n",
       "  'disaster'],\n",
       " ['ukraine',\n",
       "  'russia',\n",
       "  'support',\n",
       "  'support ukraine',\n",
       "  'glory',\n",
       "  'help',\n",
       "  'aid',\n",
       "  'glory ukraine',\n",
       "  'war ukraine',\n",
       "  'people ukraine'],\n",
       " ['russian',\n",
       "  'ukrainian',\n",
       "  'video',\n",
       "  'force',\n",
       "  'military',\n",
       "  'air',\n",
       "  'defense',\n",
       "  'soldier',\n",
       "  'region',\n",
       "  'air defense'],\n",
       " ['passive',\n",
       "  'awesome',\n",
       "  'hire',\n",
       "  'term',\n",
       "  'website',\n",
       "  'income',\n",
       "  'long term',\n",
       "  'term passive',\n",
       "  'create',\n",
       "  'autopilot'],\n",
       " ['war',\n",
       "  'russia',\n",
       "  'like',\n",
       "  'people',\n",
       "  'putin',\n",
       "  'world',\n",
       "  'country',\n",
       "  'need',\n",
       "  'day',\n",
       "  'time']]"
      ]
     },
     "execution_count": 26,
     "metadata": {},
     "output_type": "execute_result"
    }
   ],
   "source": [
    "topics1"
   ]
  },
  {
   "cell_type": "code",
   "execution_count": 24,
   "metadata": {},
   "outputs": [
    {
     "data": {
      "text/plain": [
       "[['passive',\n",
       "  'awesome',\n",
       "  'hire',\n",
       "  'term',\n",
       "  'website',\n",
       "  'income',\n",
       "  'long term',\n",
       "  'term passive',\n",
       "  'create',\n",
       "  'autopilot'],\n",
       " ['ukraine',\n",
       "  'russian',\n",
       "  'russia',\n",
       "  'war',\n",
       "  'nuclear',\n",
       "  'plant',\n",
       "  'ukrainian',\n",
       "  'putin',\n",
       "  'people',\n",
       "  'power'],\n",
       " ['nuclear',\n",
       "  'plant',\n",
       "  'power',\n",
       "  'power plant',\n",
       "  'nuclear power',\n",
       "  'nuclear plant',\n",
       "  'zaporizhzhia',\n",
       "  'zaporizhzhia nuclear',\n",
       "  'russia',\n",
       "  'disaster'],\n",
       " ['russian',\n",
       "  'video',\n",
       "  'ukrainian',\n",
       "  'force',\n",
       "  'air',\n",
       "  'defense',\n",
       "  'military',\n",
       "  'air defense',\n",
       "  'soldier',\n",
       "  'region'],\n",
       " ['ukraine',\n",
       "  'russian',\n",
       "  'force',\n",
       "  'armed force',\n",
       "  'armed',\n",
       "  'ukrainian',\n",
       "  'force ukraine',\n",
       "  'military',\n",
       "  'glory',\n",
       "  'air']]"
      ]
     },
     "execution_count": 24,
     "metadata": {},
     "output_type": "execute_result"
    }
   ],
   "source": [
    "topics2"
   ]
  },
  {
   "cell_type": "code",
   "execution_count": null,
   "metadata": {},
   "outputs": [],
   "source": [
    "pd.read_csv('data/processed/en_tweets_processed.csv')"
   ]
  },
  {
   "cell_type": "code",
   "execution_count": null,
   "metadata": {},
   "outputs": [],
   "source": [
    "0.7048616049254076"
   ]
  }
 ],
 "metadata": {
  "kernelspec": {
   "display_name": "env",
   "language": "python",
   "name": "python3"
  },
  "language_info": {
   "codemirror_mode": {
    "name": "ipython",
    "version": 3
   },
   "file_extension": ".py",
   "mimetype": "text/x-python",
   "name": "python",
   "nbconvert_exporter": "python",
   "pygments_lexer": "ipython3",
   "version": "3.11.6"
  }
 },
 "nbformat": 4,
 "nbformat_minor": 2
}
