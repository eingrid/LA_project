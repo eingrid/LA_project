{
 "cells": [
  {
   "cell_type": "code",
   "execution_count": 39,
   "id": "56260026-24a7-45f9-9fb8-7f421fc2fdf0",
   "metadata": {},
   "outputs": [],
   "source": [
    "import json\n",
    "import numpy as np\n",
    "from gensim.corpora.dictionary import Dictionary\n",
    "from gensim.models.coherencemodel import CoherenceModel"
   ]
  },
  {
   "cell_type": "markdown",
   "id": "f8811bce-5873-46cf-aa78-72ef9eefd44b",
   "metadata": {},
   "source": [
    "# Custom LSA example usage notebook\n",
    "\n",
    "In this notebook, we present usage examples of the Custom LSA final algorithm version on the example of Ukrainian. At the same time, most of the experiments carried out during the work duration are in the next notebooks (together with their brief descriptions):\n",
    "\n",
    "- for Ukrainian:\n",
    "    - `LSA Ukrainian.ipynb` (initial exploration)\n",
    "    - `LSA Ukrainian tests.ipynb` (preprocessing and algorithm exploration)\n",
    "    - `LSA Ukrainian tests generate.ipynb` (this and the next - proprecessing variants coherence generations)\n",
    "    - `LSA Ukrainian tests generate v1.ipynb`\n",
    "- for English:\n",
    "    - `LSA.ipynb` (initial exploration)\n",
    "    - `LSA generate v1.ipynb` (proprecessing variants coherence generations)\n",
    "\n",
    "----\n",
    "## Requirements for this script\n",
    "\n",
    "To run this script on the default dataset (UCTW dataset as provided below) via the `DataLoader` module, follow the next steps.\n",
    "\n",
    "* Download the daily data files in `.gzip.zip` format from the [Ukraine Conflict Twitter Dataset](https://www.kaggle.com/datasets/bwandowando/ukraine-russian-crisis-twitter-dataset-1-2-m-rows).\n",
    "* Unzip the outer level (so that the files have the `.gzip` extention)\n",
    "* Place them in the same folder as this notebook\n",
    "* That's it! Our program will do everything else for you.\n",
    "\n",
    "Note that our pipeline can work with any text documents, providing that they are formatted as a list of strings before passing them to the `LSAPipeline`."
   ]
  },
  {
   "cell_type": "code",
   "execution_count": 1,
   "id": "86532a14-a48f-492a-a836-b18707e1c173",
   "metadata": {},
   "outputs": [
    {
     "data": {
      "application/vnd.jupyter.widget-view+json": {
       "model_id": "fd30f31b0cef4fdca3afa5bb3e1ccb99",
       "version_major": 2,
       "version_minor": 0
      },
      "text/plain": [
       "Downloading https://raw.githubusercontent.com/stanfordnlp/stanza-resources/main/resources_1.6.0.json:   0%|   …"
      ]
     },
     "metadata": {},
     "output_type": "display_data"
    },
    {
     "name": "stderr",
     "output_type": "stream",
     "text": [
      "2024-03-25 21:00:20 INFO: Downloading default packages for language: uk (Ukrainian) ...\n",
      "2024-03-25 21:00:21 INFO: File exists: /home/oleksii/stanza_resources/uk/default.zip\n",
      "2024-03-25 21:00:25 INFO: Finished downloading models and saved to /home/oleksii/stanza_resources.\n",
      "2024-03-25 21:00:25 INFO: Checking for updates to resources.json in case models have been updated.  Note: this behavior can be turned off with download_method=None or download_method=DownloadMethod.REUSE_RESOURCES\n"
     ]
    },
    {
     "data": {
      "application/vnd.jupyter.widget-view+json": {
       "model_id": "996bc92d67a5433c889efeb871bb92ea",
       "version_major": 2,
       "version_minor": 0
      },
      "text/plain": [
       "Downloading https://raw.githubusercontent.com/stanfordnlp/stanza-resources/main/resources_1.6.0.json:   0%|   …"
      ]
     },
     "metadata": {},
     "output_type": "display_data"
    },
    {
     "name": "stderr",
     "output_type": "stream",
     "text": [
      "2024-03-25 21:00:25 INFO: Loading these models for language: uk (Ukrainian):\n",
      "===========================\n",
      "| Processor | Package     |\n",
      "---------------------------\n",
      "| tokenize  | iu          |\n",
      "| mwt       | iu          |\n",
      "| pos       | iu_charlm   |\n",
      "| lemma     | iu_nocharlm |\n",
      "===========================\n",
      "\n",
      "2024-03-25 21:00:25 INFO: Using device: cpu\n",
      "2024-03-25 21:00:25 INFO: Loading: tokenize\n",
      "2024-03-25 21:00:26 INFO: Loading: mwt\n",
      "2024-03-25 21:00:26 INFO: Loading: pos\n",
      "2024-03-25 21:00:26 INFO: Loading: lemma\n",
      "2024-03-25 21:00:26 INFO: Done loading processors!\n"
     ]
    }
   ],
   "source": [
    "from src.LSA_Ukrainian import LSAPipelineUkrainian"
   ]
  },
  {
   "cell_type": "code",
   "execution_count": 29,
   "id": "4e3f814c-5911-47e5-b5cb-fd02fd64262d",
   "metadata": {},
   "outputs": [],
   "source": [
    "from src.LSA_Ukrainian import tokenize_ngrams"
   ]
  },
  {
   "cell_type": "code",
   "execution_count": 31,
   "id": "37f39967-b70d-46a9-be25-030be6f23b67",
   "metadata": {},
   "outputs": [],
   "source": [
    "from src.data_loader import DataLoader"
   ]
  },
  {
   "cell_type": "code",
   "execution_count": 52,
   "id": "a3c3ad80-2115-429c-8dee-3b59c53cacae",
   "metadata": {},
   "outputs": [],
   "source": [
    "from src.lsa_topics_plotter import Plotter"
   ]
  },
  {
   "cell_type": "code",
   "execution_count": 8,
   "id": "ed1e1a9a-c50b-43c7-971b-25b59fa11915",
   "metadata": {
    "scrolled": true
   },
   "outputs": [
    {
     "name": "stdout",
     "output_type": "stream",
     "text": [
      "--Documents for the day 2022-09-01 processed\n",
      "--Documents for the day 2022-09-02 processed\n",
      "--Documents for the day 2022-09-03 processed\n"
     ]
    }
   ],
   "source": [
    "all_documents_0103_0922_uk = DataLoader().get_uctd_documents_between_dates('2022-09-01','2022-09-03',\n",
    "                                                         languages_filter=['uk'],verbose=1)"
   ]
  },
  {
   "cell_type": "code",
   "execution_count": 9,
   "id": "5564b23b-3e92-4a2f-af31-34bf8e6e9c7a",
   "metadata": {
    "scrolled": true
   },
   "outputs": [
    {
     "name": "stdout",
     "output_type": "stream",
     "text": [
      "--Preprocessed documents: 1/9024\n",
      "--Preprocessed documents: 100/9024\n",
      "--Preprocessed documents: 200/9024\n",
      "--Preprocessed documents: 300/9024\n",
      "--Preprocessed documents: 400/9024\n",
      "--Preprocessed documents: 500/9024\n",
      "--Preprocessed documents: 600/9024\n",
      "--Preprocessed documents: 700/9024\n",
      "--Preprocessed documents: 800/9024\n",
      "--Preprocessed documents: 900/9024\n",
      "--Preprocessed documents: 1000/9024\n",
      "--Preprocessed documents: 1100/9024\n",
      "--Preprocessed documents: 1200/9024\n",
      "--Preprocessed documents: 1300/9024\n",
      "--Preprocessed documents: 1400/9024\n",
      "--Preprocessed documents: 1500/9024\n",
      "--Preprocessed documents: 1600/9024\n",
      "--Preprocessed documents: 1700/9024\n",
      "--Preprocessed documents: 1800/9024\n",
      "--Preprocessed documents: 1900/9024\n",
      "--Preprocessed documents: 2000/9024\n",
      "--Preprocessed documents: 2100/9024\n",
      "--Preprocessed documents: 2200/9024\n",
      "--Preprocessed documents: 2300/9024\n",
      "--Preprocessed documents: 2400/9024\n",
      "--Preprocessed documents: 2500/9024\n",
      "--Preprocessed documents: 2600/9024\n",
      "--Preprocessed documents: 2700/9024\n",
      "--Preprocessed documents: 2800/9024\n",
      "--Preprocessed documents: 2900/9024\n",
      "--Preprocessed documents: 3000/9024\n",
      "--Preprocessed documents: 3100/9024\n",
      "--Preprocessed documents: 3200/9024\n",
      "--Preprocessed documents: 3300/9024\n",
      "--Preprocessed documents: 3400/9024\n",
      "--Preprocessed documents: 3500/9024\n",
      "--Preprocessed documents: 3600/9024\n",
      "--Preprocessed documents: 3700/9024\n",
      "--Preprocessed documents: 3800/9024\n",
      "--Preprocessed documents: 3900/9024\n",
      "--Preprocessed documents: 4000/9024\n",
      "--Preprocessed documents: 4100/9024\n",
      "--Preprocessed documents: 4200/9024\n",
      "--Preprocessed documents: 4300/9024\n",
      "--Preprocessed documents: 4400/9024\n",
      "--Preprocessed documents: 4500/9024\n",
      "--Preprocessed documents: 4600/9024\n",
      "--Preprocessed documents: 4700/9024\n",
      "--Preprocessed documents: 4800/9024\n",
      "--Preprocessed documents: 4900/9024\n",
      "--Preprocessed documents: 5000/9024\n",
      "--Preprocessed documents: 5100/9024\n",
      "--Preprocessed documents: 5200/9024\n",
      "--Preprocessed documents: 5300/9024\n",
      "--Preprocessed documents: 5400/9024\n",
      "--Preprocessed documents: 5500/9024\n",
      "--Preprocessed documents: 5600/9024\n",
      "--Preprocessed documents: 5700/9024\n",
      "--Preprocessed documents: 5800/9024\n",
      "--Preprocessed documents: 5900/9024\n",
      "--Preprocessed documents: 6000/9024\n",
      "--Preprocessed documents: 6100/9024\n",
      "--Preprocessed documents: 6200/9024\n",
      "--Preprocessed documents: 6300/9024\n",
      "--Preprocessed documents: 6400/9024\n",
      "--Preprocessed documents: 6500/9024\n",
      "--Preprocessed documents: 6600/9024\n",
      "--Preprocessed documents: 6700/9024\n",
      "--Preprocessed documents: 6800/9024\n",
      "--Preprocessed documents: 6900/9024\n",
      "--Preprocessed documents: 7000/9024\n",
      "--Preprocessed documents: 7100/9024\n",
      "--Preprocessed documents: 7200/9024\n",
      "--Preprocessed documents: 7300/9024\n",
      "--Preprocessed documents: 7400/9024\n",
      "--Preprocessed documents: 7500/9024\n",
      "--Preprocessed documents: 7600/9024\n",
      "--Preprocessed documents: 7700/9024\n",
      "--Preprocessed documents: 7800/9024\n",
      "--Preprocessed documents: 7900/9024\n",
      "--Preprocessed documents: 8000/9024\n",
      "--Preprocessed documents: 8100/9024\n",
      "--Preprocessed documents: 8200/9024\n",
      "--Preprocessed documents: 8300/9024\n",
      "--Preprocessed documents: 8400/9024\n",
      "--Preprocessed documents: 8500/9024\n",
      "--Preprocessed documents: 8600/9024\n",
      "--Preprocessed documents: 8700/9024\n",
      "--Preprocessed documents: 8800/9024\n",
      "--Preprocessed documents: 8900/9024\n",
      "--Preprocessed documents: 9000/9024\n",
      "--LSA topics detection: TF-IDF calculated\n",
      "--LSA topics detection: truncated SVD calculated\n"
     ]
    },
    {
     "name": "stderr",
     "output_type": "stream",
     "text": [
      "/home/oleksii/UCU/ucu_env/lib/python3.9/site-packages/sklearn/feature_extraction/text.py:408: UserWarning: Your stop_words may be inconsistent with your preprocessing. Tokenizing the stop words generated tokens ['дев', 'ласка', 'разу', 'ятий', 'ятнадцятий', 'ятнадцять', 'ять', 'ім'] not in stop_words.\n",
      "  warnings.warn(\n"
     ]
    }
   ],
   "source": [
    "# Initializing and running the LSAPipeline for all documents in all_documents_0103_0922_uk\n",
    "# If import_preprocessed_documents is not set to True during the initialization,\n",
    "# the pipeline will perform the preprocessing of all of the documents. If it is set,\n",
    "# it will assume that the documents are already preprocessed and will skip this step\n",
    "LSAPipeline = LSAPipelineUkrainian(all_documents_0103_0922_uk, tf_idf_max_df=0.9, tf_idf_min_df=4,\n",
    "                                   lsa_components=5, svd_n_iter=5,\n",
    "                                   n_top_words=10, ngram_range=(1,2),\n",
    "                                   filter_by_pos=['NOUN','PNOUN','VERB','ADJ','ADV'],\n",
    "                                   lemmatize=True,\n",
    "                                   random_state=47, verbose=1)\n",
    "topics = LSAPipeline.run_topics_detection()"
   ]
  },
  {
   "cell_type": "code",
   "execution_count": 12,
   "id": "caa64aac-b844-435b-b727-e00189cfb07e",
   "metadata": {},
   "outputs": [],
   "source": [
    "# Saving the preprocessed documents just in case we want to later reuse them for some experiments\n",
    "with open('preprocessed_documents_092022_uk_pos.json','w') as json_file:\n",
    "    json.dump({'preprocessed_documents': LSAPipeline.import_documents_list}, json_file)"
   ]
  },
  {
   "cell_type": "code",
   "execution_count": 13,
   "id": "081af841-87d0-4858-9bad-795bf6a240ef",
   "metadata": {},
   "outputs": [],
   "source": [
    "# And loadimg them back for reusage\n",
    "with open('preprocessed_documents_092022_uk_pos.json','r') as json_file:\n",
    "    preprocessed_documents_pos = json.load(json_file)['preprocessed_documents']"
   ]
  },
  {
   "cell_type": "code",
   "execution_count": 20,
   "id": "280b7160-b98e-49e1-8906-b7843db8196a",
   "metadata": {},
   "outputs": [
    {
     "name": "stdout",
     "output_type": "stream",
     "text": [
      "--Original document:\n",
      " Міноборони передало до парламенту пропозиції змін до закону про військовий обов’язок щодо добровільності постановки на військовий облік жінок https://t.co/Sh7QfRjxqG #ukraine\n",
      "--Preprocessed document:\n",
      " міноборони передати парламент пропозиція зміна закон військовий добровільність постановка військовий облік жінка\n"
     ]
    }
   ],
   "source": [
    "# Example of a document and its preprocessed version\n",
    "print('--Original document:\\n', all_documents_0103_0922_uk[0])\n",
    "print('--Preprocessed document:\\n', preprocessed_documents_pos[0])"
   ]
  },
  {
   "cell_type": "code",
   "execution_count": 22,
   "id": "531dd122-8a07-4533-8d9c-a33469c72c9d",
   "metadata": {
    "scrolled": true
   },
   "outputs": [
    {
     "data": {
      "text/plain": [
       "[['дякувати',\n",
       "  'приємно',\n",
       "  'увага',\n",
       "  'забути',\n",
       "  'зса',\n",
       "  'підтримка',\n",
       "  'дякувати підтримка',\n",
       "  'пане',\n",
       "  'пані',\n",
       "  'дякувати зса'],\n",
       " ['іти',\n",
       "  'путін',\n",
       "  'ебать путін',\n",
       "  'іти ебать',\n",
       "  'ебать',\n",
       "  'нахувати',\n",
       "  'клас',\n",
       "  'новий',\n",
       "  'російський',\n",
       "  'школа'],\n",
       " ['знати',\n",
       "  'робити',\n",
       "  'казати',\n",
       "  'вересень',\n",
       "  'немати',\n",
       "  'бачити',\n",
       "  'думати',\n",
       "  'новий',\n",
       "  'розуміти',\n",
       "  'дитина'],\n",
       " ['знати',\n",
       "  'звідки',\n",
       "  'слава',\n",
       "  'підписатися',\n",
       "  'питання',\n",
       "  'факт',\n",
       "  'розмовляти',\n",
       "  'дякувати',\n",
       "  'звучати',\n",
       "  'опубликувати'],\n",
       " ['робити',\n",
       "  'бачити',\n",
       "  'думати',\n",
       "  'зробити',\n",
       "  'любити',\n",
       "  'твітер',\n",
       "  'жити',\n",
       "  'слово',\n",
       "  'твіт',\n",
       "  'перемога']]"
      ]
     },
     "execution_count": 22,
     "metadata": {},
     "output_type": "execute_result"
    }
   ],
   "source": [
    "# And we already have some basic topic which we later can improve upon with the correct topics number\n",
    "topics"
   ]
  },
  {
   "cell_type": "code",
   "execution_count": 35,
   "id": "b0a0bfde-8b55-4aca-903a-2a01f0cc5e04",
   "metadata": {},
   "outputs": [],
   "source": [
    "tfidf_feature_names = set(LSAPipeline.tfidf_vectorizer.get_feature_names_out())\n",
    "\n",
    "# Convert the list of ngrams into a list of lists of words\n",
    "texts = [[word for word in doc.lower().split() if (\n",
    "    word in tfidf_feature_names)] + tokenize_ngrams(doc, 2) for doc in preprocessed_documents_pos]\n",
    "\n",
    "# Create a Gensim dictionary\n",
    "dictionary = Dictionary(texts)\n",
    "\n",
    "# Convert the dictionary and the corpus\n",
    "corpus = [dictionary.doc2bow(text) for text in texts]"
   ]
  },
  {
   "cell_type": "code",
   "execution_count": 40,
   "id": "39acac58-3309-4d22-aae6-1e1de28d387c",
   "metadata": {},
   "outputs": [
    {
     "name": "stdout",
     "output_type": "stream",
     "text": [
      "Coherence Score: 0.36369629552084665\n"
     ]
    }
   ],
   "source": [
    "# Calculate the coherence score using Gensim\n",
    "coherence_model = CoherenceModel(topics=topics,\n",
    "                                 texts=texts,\n",
    "                                 dictionary=dictionary,\n",
    "                                 corpus=corpus,\n",
    "                                 coherence='c_v')\n",
    "coherence_score = coherence_model.get_coherence()\n",
    "\n",
    "print('Coherence Score:', coherence_score)"
   ]
  },
  {
   "cell_type": "markdown",
   "id": "3bdf4336-f94f-4fe0-91b4-1ec0f4ddf2b1",
   "metadata": {},
   "source": [
    "Note that the 5 PoS algorithm presented above usually works better for the large time periods, as for the smaller ones it can focus too much on the generally popular nouns/verbs due to the lower amount of topics being discussed. Here we used the data for only 3 days for the swiftness of the example.\n",
    "\n",
    "Therefore, let's use a bit different model here: no lemmatization, all of the PoS, words that appear in the 80% of the documents or more are cutoff from the consideration. The latest condition should remove some of the very frequent terms in such a short time period."
   ]
  },
  {
   "cell_type": "code",
   "execution_count": 23,
   "id": "d0cf6bce-eca3-4721-9d36-570bf5069158",
   "metadata": {
    "scrolled": true
   },
   "outputs": [
    {
     "name": "stdout",
     "output_type": "stream",
     "text": [
      "--Preprocessed documents: 1/9024\n",
      "--Preprocessed documents: 100/9024\n",
      "--Preprocessed documents: 200/9024\n",
      "--Preprocessed documents: 300/9024\n",
      "--Preprocessed documents: 400/9024\n",
      "--Preprocessed documents: 500/9024\n",
      "--Preprocessed documents: 600/9024\n",
      "--Preprocessed documents: 700/9024\n",
      "--Preprocessed documents: 800/9024\n",
      "--Preprocessed documents: 900/9024\n",
      "--Preprocessed documents: 1000/9024\n",
      "--Preprocessed documents: 1100/9024\n",
      "--Preprocessed documents: 1200/9024\n",
      "--Preprocessed documents: 1300/9024\n",
      "--Preprocessed documents: 1400/9024\n",
      "--Preprocessed documents: 1500/9024\n",
      "--Preprocessed documents: 1600/9024\n",
      "--Preprocessed documents: 1700/9024\n",
      "--Preprocessed documents: 1800/9024\n",
      "--Preprocessed documents: 1900/9024\n",
      "--Preprocessed documents: 2000/9024\n",
      "--Preprocessed documents: 2100/9024\n",
      "--Preprocessed documents: 2200/9024\n",
      "--Preprocessed documents: 2300/9024\n",
      "--Preprocessed documents: 2400/9024\n",
      "--Preprocessed documents: 2500/9024\n",
      "--Preprocessed documents: 2600/9024\n",
      "--Preprocessed documents: 2700/9024\n",
      "--Preprocessed documents: 2800/9024\n",
      "--Preprocessed documents: 2900/9024\n",
      "--Preprocessed documents: 3000/9024\n",
      "--Preprocessed documents: 3100/9024\n",
      "--Preprocessed documents: 3200/9024\n",
      "--Preprocessed documents: 3300/9024\n",
      "--Preprocessed documents: 3400/9024\n",
      "--Preprocessed documents: 3500/9024\n",
      "--Preprocessed documents: 3600/9024\n",
      "--Preprocessed documents: 3700/9024\n",
      "--Preprocessed documents: 3800/9024\n",
      "--Preprocessed documents: 3900/9024\n",
      "--Preprocessed documents: 4000/9024\n",
      "--Preprocessed documents: 4100/9024\n",
      "--Preprocessed documents: 4200/9024\n",
      "--Preprocessed documents: 4300/9024\n",
      "--Preprocessed documents: 4400/9024\n",
      "--Preprocessed documents: 4500/9024\n",
      "--Preprocessed documents: 4600/9024\n",
      "--Preprocessed documents: 4700/9024\n",
      "--Preprocessed documents: 4800/9024\n",
      "--Preprocessed documents: 4900/9024\n",
      "--Preprocessed documents: 5000/9024\n",
      "--Preprocessed documents: 5100/9024\n",
      "--Preprocessed documents: 5200/9024\n",
      "--Preprocessed documents: 5300/9024\n",
      "--Preprocessed documents: 5400/9024\n",
      "--Preprocessed documents: 5500/9024\n",
      "--Preprocessed documents: 5600/9024\n",
      "--Preprocessed documents: 5700/9024\n",
      "--Preprocessed documents: 5800/9024\n",
      "--Preprocessed documents: 5900/9024\n",
      "--Preprocessed documents: 6000/9024\n",
      "--Preprocessed documents: 6100/9024\n",
      "--Preprocessed documents: 6200/9024\n",
      "--Preprocessed documents: 6300/9024\n",
      "--Preprocessed documents: 6400/9024\n",
      "--Preprocessed documents: 6500/9024\n",
      "--Preprocessed documents: 6600/9024\n",
      "--Preprocessed documents: 6700/9024\n",
      "--Preprocessed documents: 6800/9024\n",
      "--Preprocessed documents: 6900/9024\n",
      "--Preprocessed documents: 7000/9024\n",
      "--Preprocessed documents: 7100/9024\n",
      "--Preprocessed documents: 7200/9024\n",
      "--Preprocessed documents: 7300/9024\n",
      "--Preprocessed documents: 7400/9024\n",
      "--Preprocessed documents: 7500/9024\n",
      "--Preprocessed documents: 7600/9024\n",
      "--Preprocessed documents: 7700/9024\n",
      "--Preprocessed documents: 7800/9024\n",
      "--Preprocessed documents: 7900/9024\n",
      "--Preprocessed documents: 8000/9024\n",
      "--Preprocessed documents: 8100/9024\n",
      "--Preprocessed documents: 8200/9024\n",
      "--Preprocessed documents: 8300/9024\n",
      "--Preprocessed documents: 8400/9024\n",
      "--Preprocessed documents: 8500/9024\n",
      "--Preprocessed documents: 8600/9024\n",
      "--Preprocessed documents: 8700/9024\n",
      "--Preprocessed documents: 8800/9024\n",
      "--Preprocessed documents: 8900/9024\n",
      "--Preprocessed documents: 9000/9024\n",
      "--LSA topics detection: TF-IDF calculated\n",
      "--LSA topics detection: truncated SVD calculated\n"
     ]
    }
   ],
   "source": [
    "LSAPipeline_v2 = LSAPipelineUkrainian(all_documents_0103_0922_uk, tf_idf_max_df=0.8, tf_idf_min_df=4,\n",
    "                                      lsa_components=5, svd_n_iter=5,\n",
    "                                      n_top_words=10, ngram_range=(1,2),\n",
    "                                      lemmatize=False,\n",
    "                                      random_state=47, verbose=1)\n",
    "topics_v2 = LSAPipeline_v2.run_topics_detection()"
   ]
  },
  {
   "cell_type": "code",
   "execution_count": 24,
   "id": "630007ae-9a81-41a2-87bb-ebfceb2e20ae",
   "metadata": {},
   "outputs": [],
   "source": [
    "with open('preprocessed_documents_092022_uk_pos_v2.json','w') as json_file:\n",
    "    json.dump({'preprocessed_documents': LSAPipeline_v2.import_documents_list}, json_file)"
   ]
  },
  {
   "cell_type": "code",
   "execution_count": 25,
   "id": "9cf0ef6c-98d5-446e-a07b-e347d82de6fb",
   "metadata": {},
   "outputs": [],
   "source": [
    "with open('preprocessed_documents_092022_uk_pos_v2.json','r') as json_file:\n",
    "    preprocessed_documents_pos_v2 = json.load(json_file)['preprocessed_documents']"
   ]
  },
  {
   "cell_type": "code",
   "execution_count": 27,
   "id": "602edfc9-06ba-48bd-bbb2-1f59b2f905a4",
   "metadata": {},
   "outputs": [
    {
     "name": "stdout",
     "output_type": "stream",
     "text": [
      "--Original document:\n",
      " Міноборони передало до парламенту пропозиції змін до закону про військовий обов’язок щодо добровільності постановки на військовий облік жінок https://t.co/Sh7QfRjxqG #ukraine\n",
      "--Preprocessed document:\n",
      " міноборони передати парламент пропозиція зміна закон військовий добровільність постановка військовий облік жінка\n",
      "--Preprocessed document, v2:\n",
      " міноборони передало парламенту пропозиції змін закону військовий щодо добровільності постановки військовий облік жінок\n"
     ]
    }
   ],
   "source": [
    "# Example of the preprocessing for this algorithm version compared with the first one\n",
    "print('--Original document:\\n', all_documents_0103_0922_uk[0])\n",
    "print('--Preprocessed document:\\n', preprocessed_documents_pos[0])\n",
    "print('--Preprocessed document, v2:\\n', preprocessed_documents_pos_v2[0])"
   ]
  },
  {
   "cell_type": "code",
   "execution_count": 42,
   "id": "99279c93-1352-42c7-9753-36e2f3d766a3",
   "metadata": {},
   "outputs": [],
   "source": [
    "tfidf_feature_names_v2 = set(LSAPipeline_v2.tfidf_vectorizer.get_feature_names_out())\n",
    "\n",
    "# Convert the list of ngrams into a list of lists of words\n",
    "texts_v2 = [[word for word in doc.lower().split() if (\n",
    "    word in tfidf_feature_names)] + tokenize_ngrams(doc, 2) for doc in preprocessed_documents_pos_v2]\n",
    "\n",
    "# Create a Gensim dictionary\n",
    "dictionary_v2 = Dictionary(texts_v2)\n",
    "\n",
    "# Convert the dictionary and the corpus\n",
    "corpus_v2 = [dictionary.doc2bow(text) for text in texts_v2]"
   ]
  },
  {
   "cell_type": "code",
   "execution_count": 43,
   "id": "03e5a343-23a7-47e8-bcd5-da4394d97352",
   "metadata": {},
   "outputs": [
    {
     "name": "stdout",
     "output_type": "stream",
     "text": [
      "Coherence Score: 0.8259214178002564\n"
     ]
    }
   ],
   "source": [
    "# Calculate the coherence score using Gensim\n",
    "coherence_model_v2 = CoherenceModel(topics=topics_v2,\n",
    "                                    texts=texts_v2,\n",
    "                                    dictionary=dictionary_v2,\n",
    "                                    corpus=corpus_v2,\n",
    "                                    coherence='c_v')\n",
    "coherence_score_v2 = coherence_model_v2.get_coherence()\n",
    "\n",
    "print('Coherence Score:', coherence_score_v2)"
   ]
  },
  {
   "cell_type": "markdown",
   "id": "3ad61afc-91f4-40ce-8fd3-f27542da9c3b",
   "metadata": {},
   "source": [
    "Now that we've created our model for the initial value of 5 topics, let's determine the optimal topics number for this model:"
   ]
  },
  {
   "cell_type": "code",
   "execution_count": 61,
   "id": "21dbcd76-6684-40c0-ba5a-cffe653f2539",
   "metadata": {},
   "outputs": [],
   "source": [
    "TOPICS_NUMBERS_CALCULATE = list(range(2,16))"
   ]
  },
  {
   "cell_type": "code",
   "execution_count": 65,
   "id": "093cb124-b498-4dc6-9552-0e86c5c99330",
   "metadata": {
    "scrolled": true
   },
   "outputs": [
    {
     "name": "stdout",
     "output_type": "stream",
     "text": [
      "--Topic number 2 coherence score: 0.9999608307347104\n",
      "--Topic number 3 coherence score: 0.9981794463937623\n",
      "--Topic number 4 coherence score: 0.9986345847953217\n",
      "--Topic number 5 coherence score: 0.8259214178002564\n",
      "--Topic number 6 coherence score: 0.8336750395638756\n",
      "--Topic number 7 coherence score: 0.7824439039653388\n",
      "--Topic number 8 coherence score: 0.820213902738918\n",
      "--Topic number 9 coherence score: 0.763129095166132\n",
      "--Topic number 10 coherence score: 0.7368027591854313\n",
      "--Topic number 11 coherence score: 0.7343719315553201\n",
      "--Topic number 12 coherence score: 0.6452925284652508\n",
      "--Topic number 13 coherence score: 0.6821403938848134\n",
      "--Topic number 14 coherence score: 0.6620154686704048\n",
      "--Topic number 15 coherence score: 0.6102044394209938\n"
     ]
    }
   ],
   "source": [
    "coherences_list_v2, predicted_topics_counts_v2 = Plotter().calculate_coherence_for_plots(\n",
    "    topic_numbers=TOPICS_NUMBERS_CALCULATE,\n",
    "    texts=texts_v2,\n",
    "    dictionary=dictionary_v2,\n",
    "    lsa_pipeline=LSAPipelineUkrainian,\n",
    "    preprocessed_documents_list=preprocessed_documents_pos_v2,\n",
    "    n_top_words=10,\n",
    "    ngram_range=(1,2),\n",
    "    lemmatize=False,\n",
    "    tf_idf_max_df=0.8,\n",
    "    tf_idf_min_df=4,\n",
    "    coherence_type='c_v',\n",
    "    processes=4,\n",
    "    random_state=47,\n",
    "    save_name='0103_0922_uk_pos_example_v2',\n",
    "    verbose=1\n",
    ")"
   ]
  },
  {
   "cell_type": "code",
   "execution_count": 66,
   "id": "fd78b3f8-b2db-4a55-9dac-9a6f22607f05",
   "metadata": {},
   "outputs": [
    {
     "data": {
      "image/png": "[encoded data removed]",
      "text/plain": [
       "<Figure size 640x480 with 1 Axes>"
      ]
     },
     "metadata": {},
     "output_type": "display_data"
    }
   ],
   "source": [
    "Plotter().plot_coherences(\n",
    "    topic_numbers=TOPICS_NUMBERS_CALCULATE,\n",
    "    coherences=coherences_list_v2,\n",
    "    plot_description='12grams model, 01-03.09.2022, no lemm., tf_idf_max_df 0.8',\n",
    "    lang_description='Ukrainian'\n",
    ")"
   ]
  },
  {
   "cell_type": "markdown",
   "id": "88cada37-6eff-4621-96f9-3ae0054da054",
   "metadata": {},
   "source": [
    "As we can see, the optimal topics number for this model is 4 from the Elbow method, as the coherencescore drops off massively after it. Let's find these topics:"
   ]
  },
  {
   "cell_type": "code",
   "execution_count": 68,
   "id": "b4d1d30b-420e-4f51-8c53-1fc212255401",
   "metadata": {},
   "outputs": [],
   "source": [
    "LSAPipeline_v2_optimal = LSAPipelineUkrainian(preprocessed_documents_pos_v2, tf_idf_max_df=0.8, tf_idf_min_df=4,\n",
    "                                      lsa_components=4, svd_n_iter=5,\n",
    "                                      n_top_words=10, ngram_range=(1,2),\n",
    "                                      lemmatize=False,\n",
    "                                      import_preprocessed_documents=True,\n",
    "                                      random_state=47)\n",
    "topics_v2_optimal = LSAPipeline_v2_optimal.run_topics_detection()"
   ]
  },
  {
   "cell_type": "code",
   "execution_count": 69,
   "id": "67f18387-3ed8-40cb-b34e-cd234fb143eb",
   "metadata": {
    "scrolled": true
   },
   "outputs": [
    {
     "data": {
      "text/plain": [
       "[['путін',\n",
       "  'путін ukrainian',\n",
       "  'ідіть ебать',\n",
       "  'ебать путін',\n",
       "  'ukrainian',\n",
       "  'ебать',\n",
       "  'ідіть',\n",
       "  'всі',\n",
       "  'helpukraine',\n",
       "  'ukraine'],\n",
       " ['шо',\n",
       "  'бо',\n",
       "  'всі',\n",
       "  'фото',\n",
       "  'щось',\n",
       "  'хочу',\n",
       "  'ukraine',\n",
       "  'вересня',\n",
       "  'те',\n",
       "  'людей'],\n",
       " ['фото',\n",
       "  'ukraine',\n",
       "  'kyiv',\n",
       "  'kyiv ukraine',\n",
       "  'только что',\n",
       "  'опубликовано',\n",
       "  'что опубликовано',\n",
       "  'опубликовано фото',\n",
       "  'что',\n",
       "  'только'],\n",
       " ['бо',\n",
       "  'всі',\n",
       "  'щось',\n",
       "  'хочу',\n",
       "  'вересня',\n",
       "  'зсу',\n",
       "  'те',\n",
       "  'із',\n",
       "  'україні',\n",
       "  'люблю']]"
      ]
     },
     "execution_count": 69,
     "metadata": {},
     "output_type": "execute_result"
    }
   ],
   "source": [
    "topics_v2_optimal"
   ]
  },
  {
   "cell_type": "markdown",
   "id": "3a945931-76c4-4f76-8c38-6423ccb6b604",
   "metadata": {},
   "source": [
    "As we can see, there is clear thematic closeness between the topics keywords, though at the 4 topics the topcs 2 and 4 are already becoming close. This highlights of the features of the algorithm - in order to find more topics it is important to also review the semantic closeness of the topics in the several first keywords."
   ]
  }
 ],
 "metadata": {
  "kernelspec": {
   "display_name": "Python 3 (ipykernel)",
   "language": "python",
   "name": "python3"
  },
  "language_info": {
   "codemirror_mode": {
    "name": "ipython",
    "version": 3
   },
   "file_extension": ".py",
   "mimetype": "text/x-python",
   "name": "python",
   "nbconvert_exporter": "python",
   "pygments_lexer": "ipython3",
   "version": "3.9.18"
  }
 },
 "nbformat": 4,
 "nbformat_minor": 5
}
