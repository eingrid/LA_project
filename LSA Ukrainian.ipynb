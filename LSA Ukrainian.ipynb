{
 "cells": [
  {
   "cell_type": "code",
   "execution_count": 67,
   "id": "fd56e2a4-8bd2-4f8e-a3e8-1924d449cb2b",
   "metadata": {},
   "outputs": [],
   "source": [
    "import gzip\n",
    "from io import StringIO\n",
    "import pandas as pd\n",
    "from datetime import datetime, timedelta\n",
    "import numpy as np\n",
    "import re\n",
    "import string\n",
    "import json\n",
    "import matplotlib.pyplot as plt\n",
    "import nltk\n",
    "from nltk.corpus import stopwords\n",
    "from nltk.stem import WordNetLemmatizer\n",
    "from nltk.tokenize import word_tokenize\n",
    "from nltk import ngrams\n",
    "from sklearn.feature_extraction.text import TfidfVectorizer\n",
    "from sklearn.decomposition import TruncatedSVD\n",
    "from gensim.models.coherencemodel import CoherenceModel\n",
    "from gensim.corpora.dictionary import Dictionary\n",
    "from gensim import matutils"
   ]
  },
  {
   "cell_type": "code",
   "execution_count": 3,
   "id": "08eb6911-43ac-4cb0-ad7c-89335eb9c660",
   "metadata": {},
   "outputs": [],
   "source": [
    "def gzip_file_to_documents_list(file_name, languages_filter=['en']):\n",
    "    with gzip.open(file_name, 'rb') as f:\n",
    "        decompressed_data = f.read()\n",
    "    df_data = pd.read_csv(StringIO(str(decompressed_data,'utf-8')), index_col=0)\n",
    "    documents = df_data[df_data['language'].isin(languages_filter)]['text'].tolist()\n",
    "    return documents"
   ]
  },
  {
   "cell_type": "code",
   "execution_count": 4,
   "id": "63d2ed12-9339-4e76-aa4d-f3dfd8933452",
   "metadata": {},
   "outputs": [],
   "source": [
    "def uctd_file_name_by_date(month, day):\n",
    "    return '0'*int(month < 10) + str(month) + '0'*int(day < 10) + str(day) + \"_UkraineCombinedTweetsDeduped.csv.gzip\""
   ]
  },
  {
   "cell_type": "code",
   "execution_count": 5,
   "id": "b6a75c9c-6ff9-4ca4-aca3-1094a4f8311c",
   "metadata": {},
   "outputs": [],
   "source": [
    "def get_uctd_documents_between_dates(start: str, end: str,\n",
    "                                     languages_filter=['en'], verbose: int = 0):\n",
    "    # Dates in the 'YYYY-DD-MM' format\n",
    "    date_start = datetime.strptime(start, '%Y-%m-%d')\n",
    "    date_end = datetime.strptime(end, '%Y-%m-%d')\n",
    "    delta_days = date_end - date_start\n",
    "    all_documents = []\n",
    "    for i_d in range(delta_days.days + 1):\n",
    "        date_current = date_start + timedelta(days=i_d)\n",
    "        uctd_file_name = uctd_file_name_by_date(date_current.month, date_current.day)\n",
    "        all_documents += gzip_file_to_documents_list(uctd_file_name, languages_filter=languages_filter)\n",
    "        if verbose == 1:\n",
    "            print(f'--Documents for the day {date_current.date()} processed')\n",
    "    return all_documents"
   ]
  },
  {
   "cell_type": "code",
   "execution_count": 6,
   "id": "3517bf7c-e397-42b3-a29e-0acbbfe7ad1b",
   "metadata": {
    "scrolled": true
   },
   "outputs": [
    {
     "name": "stdout",
     "output_type": "stream",
     "text": [
      "--Documents for the day 2022-09-01 processed\n",
      "--Documents for the day 2022-09-02 processed\n",
      "--Documents for the day 2022-09-03 processed\n",
      "--Documents for the day 2022-09-04 processed\n",
      "--Documents for the day 2022-09-05 processed\n",
      "--Documents for the day 2022-09-06 processed\n",
      "--Documents for the day 2022-09-07 processed\n",
      "--Documents for the day 2022-09-08 processed\n",
      "--Documents for the day 2022-09-09 processed\n",
      "--Documents for the day 2022-09-10 processed\n",
      "--Documents for the day 2022-09-11 processed\n",
      "--Documents for the day 2022-09-12 processed\n",
      "--Documents for the day 2022-09-13 processed\n",
      "--Documents for the day 2022-09-14 processed\n",
      "--Documents for the day 2022-09-15 processed\n",
      "--Documents for the day 2022-09-16 processed\n",
      "--Documents for the day 2022-09-17 processed\n",
      "--Documents for the day 2022-09-18 processed\n",
      "--Documents for the day 2022-09-19 processed\n",
      "--Documents for the day 2022-09-20 processed\n",
      "--Documents for the day 2022-09-21 processed\n",
      "--Documents for the day 2022-09-22 processed\n",
      "--Documents for the day 2022-09-23 processed\n",
      "--Documents for the day 2022-09-24 processed\n",
      "--Documents for the day 2022-09-25 processed\n",
      "--Documents for the day 2022-09-26 processed\n",
      "--Documents for the day 2022-09-27 processed\n",
      "--Documents for the day 2022-09-28 processed\n",
      "--Documents for the day 2022-09-29 processed\n",
      "--Documents for the day 2022-09-30 processed\n"
     ]
    }
   ],
   "source": [
    "all_documents_0922_uk = get_uctd_documents_between_dates('2022-09-01','2022-09-30',\n",
    "                                                         languages_filter=['uk'],verbose=1)"
   ]
  },
  {
   "cell_type": "code",
   "execution_count": 17,
   "id": "27934baa-ae58-498b-b401-d19bbb5632d1",
   "metadata": {},
   "outputs": [],
   "source": [
    "from stop_words import get_stop_words\n",
    "\n",
    "stop_words = get_stop_words('en')"
   ]
  },
  {
   "cell_type": "code",
   "execution_count": 55,
   "id": "dc93e0f6-1371-4ca4-aa10-8cced898d0ab",
   "metadata": {},
   "outputs": [],
   "source": [
    "class UkrainianPreprocessor:\n",
    "    def preprocess_documents(self, documents_list: list, return_strings: bool = True):\n",
    "        return [self.preprocess(doc, return_string=return_strings) for doc in documents_list]\n",
    "    \n",
    "    # Function to preprocess documents\n",
    "    def preprocess(self, document, return_string: bool = True):\n",
    "        # Tokenize\n",
    "        document = self.remove_links_content(document)\n",
    "        document = self.remove_emails(document)\n",
    "        document = self.remove_multiple_space(document)\n",
    "        document = self.remove_hashtags(document)\n",
    "        document = self.remove_punctuation(document)\n",
    "        document = self.remove_multiple_space(document)\n",
    "        \n",
    "        words = word_tokenize(document.lower())\n",
    "        # Remove stopwords and punctuations\n",
    "        filtered_words = [word for word in words if word.isalnum() and not word in stop_words]\n",
    "        # Lemmatize\n",
    "        lemmatized_words = [lemmatizer.lemmatize(word) for word in filtered_words]\n",
    "        if return_string:\n",
    "            return ' '.join(lemmatized_words)\n",
    "        else:\n",
    "            return lemmatized_words\n",
    "    \n",
    "    def remove_links_content(self, text):\n",
    "        text = re.sub(r\"http\\S+\", \"\", text)\n",
    "        return text\n",
    "    \n",
    "    def remove_emails(self, text):\n",
    "        return re.sub('\\S+@\\S*\\s?', '', text)\n",
    "    \n",
    "    def remove_punctuation(self, text):\n",
    "        \"\"\"https://stackoverflow.com/a/37221663\"\"\"\n",
    "        table = str.maketrans({key: None for key in string.punctuation})\n",
    "        return text.translate(table)\n",
    "    \n",
    "    def remove_multiple_space(self, text):\n",
    "        return re.sub(\"\\s\\s+\", \" \", text)\n",
    "\n",
    "    def remove_hashtags(self, text):\n",
    "        old_text = text + '\\n'\n",
    "        new_text = text\n",
    "        while len(new_text) < len(old_text):\n",
    "            old_text = new_text\n",
    "            new_text = re.sub('(?<=[\\s\\n])#\\S+\\s*$', '', new_text)\n",
    "        return new_text"
   ]
  },
  {
   "cell_type": "code",
   "execution_count": 23,
   "id": "148dd69a-1d5b-4374-ac1c-2ceabd13fb3b",
   "metadata": {},
   "outputs": [],
   "source": [
    "class LSAPipelineUkrainian:\n",
    "    def __init__(self, documents_list, tf_idf_max_df=1.0, tf_idf_min_df=1,\n",
    "                 lsa_components: int = 100, svd_n_iter: int = 5,\n",
    "                 n_top_words: int = 10, ngram_range: tuple = (1, 1),\n",
    "                 random_state: int = -1):\n",
    "        self.import_documents_list = UkrainianPreprocessor().preprocess_documents(documents_list)\n",
    "        self.tf_idf_max_df = tf_idf_max_df\n",
    "        self.tf_idf_min_df = tf_idf_min_df\n",
    "        self.lsa_components = lsa_components\n",
    "        self.svd_n_iter = svd_n_iter\n",
    "        self.n_top_words = n_top_words\n",
    "        self.ngram_range = ngram_range\n",
    "        self.random_state = random_state\n",
    "        self.coherence_texts_calculated = False\n",
    "\n",
    "    def run_topics_detection(self):\n",
    "        tfidf_documents = self.TF_IDF()\n",
    "        self.TruncatedSVD(tfidf_documents)\n",
    "        self.topics = self.find_topics()\n",
    "        return self.topics\n",
    "\n",
    "    def transform_documents(self, new_documents_list: list):\n",
    "        return list(map(np.argmax, self.svd_model.transform(\n",
    "            self.tfidf_vectorizer.transform(new_documents_list))))\n",
    "\n",
    "    def import_ready_documents(self, documents_list, texts, dictionary, corpus):\n",
    "        self.import_documents_list = documents_list\n",
    "        self.texts = texts\n",
    "        self.dictionary = dictionary\n",
    "        self.corpus = corpus\n",
    "        self.coherence_texts_calculated = True\n",
    "\n",
    "    def TF_IDF(self):\n",
    "        self.tfidf_vectorizer = TfidfVectorizer(max_df=self.tf_idf_max_df,\n",
    "                                                min_df=self.tf_idf_min_df,\n",
    "                                                ngram_range=self.ngram_range,\n",
    "                                                stop_words=stop_words)\n",
    "        return self.tfidf_vectorizer.fit_transform(self.import_documents_list)\n",
    "        # tfidf_feature_names = self.tfidf_vectorizer.get_feature_names_out()\n",
    "    \n",
    "    def TruncatedSVD(self, tfidf_documents):\n",
    "        if self.random_state != -1:\n",
    "            self.svd_model = TruncatedSVD(n_components=self.lsa_components,\n",
    "                                 n_iter=self.svd_n_iter, random_state=self.random_state)\n",
    "        else:\n",
    "            self.svd_model = TruncatedSVD(n_components=self.lsa_components,\n",
    "                                 n_iter=self.svd_n_iter)\n",
    "        self.svd_model.fit_transform(tfidf_documents)\n",
    "\n",
    "    def find_topics(self):\n",
    "        # Extract the top words for each topic\n",
    "        topics = []\n",
    "        tfidf_feature_names = self.tfidf_vectorizer.get_feature_names_out()\n",
    "        for topic_idx, topic in enumerate(self.svd_model.components_):\n",
    "            top_features_ind = topic.argsort()[:-self.n_top_words - 1:-1]\n",
    "            top_features = [tfidf_feature_names[i] for i in top_features_ind]\n",
    "            topics.append(top_features)\n",
    "        return topics\n",
    "\n",
    "    def calculate_coherence_score(self, recalculate_texts: bool = False, verbose: int = 0):\n",
    "        if not self.coherence_texts_calculated or recalculate_texts:\n",
    "            self.calculate_coherence_texts(verbose=verbose)\n",
    "        # Calculate the coherence score using Gensim\n",
    "        coherence_model = CoherenceModel(topics=self.topics,\n",
    "                                         texts=self.texts,\n",
    "                                         dictionary=self.dictionary,\n",
    "                                         coherence='c_v')\n",
    "        if verbose == 1:\n",
    "            print(f'--Calculating the coherence score')\n",
    "        self.coherence_score = coherence_model.get_coherence()\n",
    "        return self.coherence_score\n",
    "\n",
    "    def calculate_coherence_texts(self, verbose: int = 0):\n",
    "        # Convert the list of top words into a list of lists of words\n",
    "        tfidf_feature_names = set(self.tfidf_vectorizer.get_feature_names_out())\n",
    "        if verbose == 1:\n",
    "            print(f'--Starting forming the texts')\n",
    "        self.texts = [[word for word in doc.lower().split() if (\n",
    "            word in tfidf_feature_names)] for doc in self.import_documents_list]\n",
    "        # Create a Gensim dictionary\n",
    "        if verbose == 1:\n",
    "            print(f'--Creating the Gensim dectionary')\n",
    "        self.dictionary = Dictionary(self.texts)\n",
    "        # Convert the dictionary and the corpus\n",
    "        if verbose == 1:\n",
    "            print(f'--Converting to the corpus')\n",
    "        self.corpus = [dictionary.doc2bow(text) for text in self.texts]\n",
    "        self.coherence_texts_calculated = True"
   ]
  },
  {
   "cell_type": "code",
   "execution_count": 28,
   "id": "4bf5de13-2a14-474d-988e-3ff3112eb6cb",
   "metadata": {},
   "outputs": [],
   "source": [
    "def tokenize_ngrams(document, n_g):\n",
    "    return [' '.join(ngram) for ngram in ngrams(document.lower().split(), n_g)]"
   ]
  },
  {
   "cell_type": "code",
   "execution_count": 21,
   "id": "112e469f-121d-4248-9f05-54047642dc60",
   "metadata": {},
   "outputs": [
    {
     "name": "stderr",
     "output_type": "stream",
     "text": [
      "[nltk_data] Downloading package punkt to /home/oleksii/nltk_data...\n",
      "[nltk_data]   Package punkt is already up-to-date!\n",
      "[nltk_data] Downloading package wordnet to /home/oleksii/nltk_data...\n",
      "[nltk_data]   Package wordnet is already up-to-date!\n"
     ]
    },
    {
     "data": {
      "text/plain": [
       "True"
      ]
     },
     "execution_count": 21,
     "metadata": {},
     "output_type": "execute_result"
    }
   ],
   "source": [
    "nltk.download('punkt')\n",
    "nltk.download('wordnet')"
   ]
  },
  {
   "cell_type": "code",
   "execution_count": 18,
   "id": "46cbbe45-9910-4e22-88e6-b7e5f6ae4639",
   "metadata": {},
   "outputs": [],
   "source": [
    "lemmatizer = WordNetLemmatizer()"
   ]
  },
  {
   "cell_type": "code",
   "execution_count": 24,
   "id": "09ed8269-35ea-49ee-8534-e9a720b8d170",
   "metadata": {},
   "outputs": [
    {
     "name": "stderr",
     "output_type": "stream",
     "text": [
      "/home/oleksii/UCU/ucu_env/lib/python3.9/site-packages/sklearn/feature_extraction/text.py:408: UserWarning: Your stop_words may be inconsistent with your preprocessing. Tokenizing the stop words generated tokens ['aren', 'can', 'couldn', 'didn', 'doesn', 'don', 'hadn', 'hasn', 'haven', 'isn', 'let', 'll', 'mustn', 're', 'shan', 'shouldn', 've', 'wasn', 'weren', 'won', 'wouldn'] not in stop_words.\n",
      "  warnings.warn(\n"
     ]
    }
   ],
   "source": [
    "LSAPipeline = LSAPipelineUkrainian(all_documents_0922_uk, tf_idf_max_df=0.9, tf_idf_min_df=4,\n",
    "                                 lsa_components=5, svd_n_iter=5,\n",
    "                                 n_top_words=10, ngram_range=(1,2),\n",
    "                                 random_state=47)\n",
    "topics = LSAPipeline.run_topics_detection()"
   ]
  },
  {
   "cell_type": "code",
   "execution_count": 31,
   "id": "28a96d89-2b45-4590-8e13-948d9846b761",
   "metadata": {
    "scrolled": true
   },
   "outputs": [
    {
     "data": {
      "text/plain": [
       "[['путін ukrainian',\n",
       "  'ідіть ебать',\n",
       "  'себе путін',\n",
       "  'ебать себе',\n",
       "  'ебать',\n",
       "  'ідіть',\n",
       "  'ukrainian',\n",
       "  'путін',\n",
       "  'себе',\n",
       "  'не'],\n",
       " ['не', 'на', 'це', 'що', 'як', 'так', 'та', 'але', 'за', 'до'],\n",
       " ['дякую',\n",
       "  'дякую за',\n",
       "  'за',\n",
       "  'дуже дякую',\n",
       "  'дуже',\n",
       "  'дякую що',\n",
       "  'дякую вам',\n",
       "  'вам',\n",
       "  'пане',\n",
       "  'дякую пане'],\n",
       " ['війна анімація',\n",
       "  'отже війна',\n",
       "  'анімація',\n",
       "  'отже',\n",
       "  'війна',\n",
       "  'слава',\n",
       "  'україні',\n",
       "  'слава україні',\n",
       "  'ти',\n",
       "  'ukraine'],\n",
       " ['соловїною підписатись',\n",
       "  'дня соловїною',\n",
       "  'підписатись адвокат',\n",
       "  'соловїною',\n",
       "  'адвокат',\n",
       "  'підписатись',\n",
       "  'дня',\n",
       "  'слава',\n",
       "  'слава україні',\n",
       "  'україні']]"
      ]
     },
     "execution_count": 31,
     "metadata": {},
     "output_type": "execute_result"
    }
   ],
   "source": [
    "topics"
   ]
  },
  {
   "cell_type": "code",
   "execution_count": 25,
   "id": "6adc1c27-077e-4ea6-8ee9-e6820592cc5b",
   "metadata": {},
   "outputs": [],
   "source": [
    "tfidf_feature_names = set(LSAPipeline.tfidf_vectorizer.get_feature_names_out())\n",
    "preprocessed_documents = LSAPipeline.import_documents_list"
   ]
  },
  {
   "cell_type": "code",
   "execution_count": 38,
   "id": "7ff6d458-8c1f-48f1-ba9b-5a4c222b4cdd",
   "metadata": {},
   "outputs": [
    {
     "data": {
      "text/plain": [
       "'Міноборони передало до парламенту пропозиції змін до закону про військовий обов’язок щодо добровільності постановки на військовий облік жінок https://t.co/Sh7QfRjxqG #ukraine'"
      ]
     },
     "execution_count": 38,
     "metadata": {},
     "output_type": "execute_result"
    }
   ],
   "source": [
    "all_documents_0922_uk[0]"
   ]
  },
  {
   "cell_type": "code",
   "execution_count": 39,
   "id": "f480ecd6-07d3-4c51-85a4-f7f0847971d1",
   "metadata": {},
   "outputs": [
    {
     "data": {
      "text/plain": [
       "'міноборони передало до парламенту пропозиції змін до закону про військовий обов язок щодо добровільності постановки на військовий облік жінок'"
      ]
     },
     "execution_count": 39,
     "metadata": {},
     "output_type": "execute_result"
    }
   ],
   "source": [
    "preprocessed_documents[0]"
   ]
  },
  {
   "cell_type": "code",
   "execution_count": 29,
   "id": "0c27588c-3bf8-4219-a915-395d0281bbbe",
   "metadata": {},
   "outputs": [],
   "source": [
    "# Convert the list of ngrams into a list of lists of words\n",
    "texts_v4 = [[word for word in doc.lower().split() if (\n",
    "    word in tfidf_feature_names)] + tokenize_ngrams(doc, 2) for doc in preprocessed_documents]\n",
    "\n",
    "# Create a Gensim dictionary\n",
    "dictionary_v4 = Dictionary(texts_v4)\n",
    "\n",
    "# Convert the dictionary and the corpus\n",
    "corpus_v4 = [dictionary_v4.doc2bow(text) for text in texts_v4]"
   ]
  },
  {
   "cell_type": "code",
   "execution_count": 34,
   "id": "23109c22-8314-4ab7-a270-f5656891dc24",
   "metadata": {},
   "outputs": [
    {
     "name": "stdout",
     "output_type": "stream",
     "text": [
      "Coherence Score: 0.5349934782635805\n"
     ]
    }
   ],
   "source": [
    "# Calculate the coherence score using Gensim\n",
    "coherence_model = CoherenceModel(topics=topics,\n",
    "                                 texts=texts_v4,\n",
    "                                 dictionary=dictionary_v4,\n",
    "                                 corpus=corpus_v4,\n",
    "                                 coherence='c_v')\n",
    "coherence_score = coherence_model.get_coherence()\n",
    "\n",
    "print('Coherence Score:', coherence_score)"
   ]
  },
  {
   "cell_type": "markdown",
   "id": "95103d43-660d-4113-9882-86aa98e14f58",
   "metadata": {},
   "source": [
    "## 1- and 2-grams: optimal topics number\n",
    "\n",
    "Model that uses both 1- and 2-grams for the different topics numbers for the data for September 2022 in Ukrainian language."
   ]
  },
  {
   "cell_type": "code",
   "execution_count": 35,
   "id": "9ea5c102-8ca4-49ab-8bcd-bef437bd31b1",
   "metadata": {
    "scrolled": true
   },
   "outputs": [
    {
     "name": "stdout",
     "output_type": "stream",
     "text": [
      "--Topic number 2 coherence score: 0.7049454799307205\n",
      "--Topic number 3 coherence score: 0.667638843216167\n",
      "--Topic number 4 coherence score: 0.5617154300033507\n",
      "--Topic number 5 coherence score: 0.5349934782635805\n",
      "--Topic number 6 coherence score: 0.5689534443157522\n",
      "--Topic number 7 coherence score: 0.6329268395815847\n",
      "--Topic number 8 coherence score: 0.5999801947888078\n",
      "--Topic number 9 coherence score: 0.585342701931277\n",
      "--Topic number 10 coherence score: 0.5733053987225315\n",
      "--Topic number 11 coherence score: 0.567854434888853\n",
      "--Topic number 12 coherence score: 0.5554819209012852\n",
      "--Topic number 13 coherence score: 0.5963965803373524\n",
      "--Topic number 14 coherence score: 0.5332148373432543\n",
      "--Topic number 20 coherence score: 0.523798726405071\n",
      "--Topic number 30 coherence score: 0.5262199590052327\n",
      "--Topic number 40 coherence score: 0.518210233045419\n",
      "--Topic number 50 coherence score: 0.5150692067497479\n",
      "--Topic number 100 coherence score: 0.4772828470753781\n",
      "--Topic number 150 coherence score: 0.44301125036608757\n",
      "--Topic number 200 coherence score: 0.4148632552664271\n"
     ]
    }
   ],
   "source": [
    "topic_numbers_12grams = list(range(2,15)) + [20,30,40,50,100,150,200]\n",
    "coherences_12grams = []\n",
    "predicted_topics_counts_12grams = []\n",
    "for topic_number in topic_numbers_12grams:\n",
    "    LSAPipeline = LSAPipelineUkrainian(all_documents_0922_uk, tf_idf_max_df=0.9, tf_idf_min_df=4,\n",
    "                                 lsa_components=topic_number, svd_n_iter=5,\n",
    "                                 n_top_words=10, ngram_range=(1,2),\n",
    "                                 random_state=47)\n",
    "    topics_12grams = LSAPipeline.run_topics_detection()\n",
    "    tfidf_feature_names = set(LSAPipeline.tfidf_vectorizer.get_feature_names_out())\n",
    "    # Calculate the coherence score using Gensim\n",
    "    coherence_model = CoherenceModel(topics=topics_12grams,\n",
    "                                     texts=texts_v4,\n",
    "                                     dictionary=dictionary_v4,\n",
    "                                     corpus=corpus_v4,\n",
    "                                     coherence='c_v')\n",
    "    coherence_score = coherence_model.get_coherence()\n",
    "    predicted_topics = LSAPipeline.transform_documents(LSAPipeline.import_documents_list)\n",
    "    predicted_topics_count = [predicted_topics.count(x) for x in np.sort(np.unique(predicted_topics))]\n",
    "    \n",
    "    print(f'--Topic number {topic_number} coherence score: {coherence_score}')\n",
    "    coherences_12grams.append(coherence_score)\n",
    "    predicted_topics_counts_12grams.append(predicted_topics_count)"
   ]
  },
  {
   "cell_type": "code",
   "execution_count": 36,
   "id": "985a0a43-df16-423c-8c2e-3229fa2ebabd",
   "metadata": {},
   "outputs": [],
   "source": [
    "with open('coherences_12grams_uk.json','w') as json_file:\n",
    "    json.dump({'coherences': coherences_12grams,\n",
    "               'predicted_topics': predicted_topics_counts_12grams}, json_file)"
   ]
  },
  {
   "cell_type": "code",
   "execution_count": 37,
   "id": "3a9825cb-94ff-4c42-a265-37acf190adf8",
   "metadata": {},
   "outputs": [
    {
     "data": {
      "image/png": "[encoded data removed]",
      "text/plain": [
       "<Figure size 640x480 with 1 Axes>"
      ]
     },
     "metadata": {},
     "output_type": "display_data"
    }
   ],
   "source": [
    "plt.plot(topic_numbers_12grams, coherences_12grams)\n",
    "plt.title('Coherence for different n_topics | 12grams model | Ukrainian')\n",
    "plt.xlabel('Topics number')\n",
    "plt.ylabel('Coherence (c_v) score')\n",
    "plt.grid()\n",
    "plt.show()"
   ]
  },
  {
   "cell_type": "markdown",
   "id": "e4fa11e3-d083-4585-8c5c-637f3d1cdb52",
   "metadata": {},
   "source": [
    "# New preprocessing\n",
    "\n",
    "The old lemmatization and tokenization procedures for Ukrainian don't seem ideal. Let's improve them a bit and observe how it impacts the performance."
   ]
  },
  {
   "cell_type": "code",
   "execution_count": 40,
   "id": "d5dd6c21-2129-4d34-97c5-27cbee4d7ad6",
   "metadata": {},
   "outputs": [
    {
     "data": {
      "text/plain": [
       "['Міноборони передало до парламенту пропозиції змін до закону про військовий обов’язок щодо добровільності постановки на військовий облік жінок https://t.co/Sh7QfRjxqG #ukraine',\n",
       " 'Якшо чесно, я сумніваюсь в її реальності✨🤲🏼 https://t.co/Lp4e31WhJ2',\n",
       " 'Додав трохи фотошопу... Джонні не знав на що підписався https://t.co/7id1m1Zt68',\n",
       " 'Дива трапляються... Дякую за запрошення Alessio Carbone, хореограф у Артему Шошину та партнеру Олексію Потьомкіну 💕💕💕💕 🇺🇦🇺🇦🇮🇹🇮🇹#ballet #balletukraine #yevheniiakorshunova #oleksiipotomkin #artemshoshyn #itali #ballerina #Ukraine️ #Ukraine️ https://t.co/XozJ9ANtAZ',\n",
       " 'о третій ночі зловила повітряну тривогу, така гучна, я трошки не була готова ще🥲']"
      ]
     },
     "execution_count": 40,
     "metadata": {},
     "output_type": "execute_result"
    }
   ],
   "source": [
    "all_documents_0922_uk[:5]"
   ]
  },
  {
   "cell_type": "code",
   "execution_count": 41,
   "id": "03d11b39-4039-4331-a47d-3937d35f6a55",
   "metadata": {},
   "outputs": [
    {
     "data": {
      "text/plain": [
       "['міноборони передало до парламенту пропозиції змін до закону про військовий обов язок щодо добровільності постановки на військовий облік жінок',\n",
       " 'якшо чесно я сумніваюсь в її',\n",
       " 'додав трохи фотошопу джонні не знав на що підписався',\n",
       " 'дива трапляються дякую за запрошення alessio carbone хореограф у артему шошину та партнеру олексію потьомкіну',\n",
       " 'о третій ночі зловила повітряну тривогу така гучна я трошки не була готова']"
      ]
     },
     "execution_count": 41,
     "metadata": {},
     "output_type": "execute_result"
    }
   ],
   "source": [
    "UkrainianPreprocessor().preprocess_documents(all_documents_0922_uk[:5])"
   ]
  },
  {
   "cell_type": "markdown",
   "id": "518686db-c753-4986-8fd8-cd1a83abbf02",
   "metadata": {},
   "source": [
    "New lemmatizer using the [stanza](https://stanfordnlp.github.io/stanza/) library:"
   ]
  },
  {
   "cell_type": "code",
   "execution_count": 43,
   "id": "543983b7-3541-49e3-a6ec-175b73807c32",
   "metadata": {},
   "outputs": [],
   "source": [
    "import stanza"
   ]
  },
  {
   "cell_type": "code",
   "execution_count": 44,
   "id": "81e53a13-f10e-48ee-acc9-a4e49c86d5c0",
   "metadata": {},
   "outputs": [
    {
     "data": {
      "application/vnd.jupyter.widget-view+json": {
       "model_id": "06dc892aa4644caf8c0893767e022456",
       "version_major": 2,
       "version_minor": 0
      },
      "text/plain": [
       "Downloading https://raw.githubusercontent.com/stanfordnlp/stanza-resources/main/resources_1.6.0.json:   0%|   …"
      ]
     },
     "metadata": {},
     "output_type": "display_data"
    },
    {
     "name": "stderr",
     "output_type": "stream",
     "text": [
      "2024-03-15 09:02:34 INFO: Downloading default packages for language: uk (Ukrainian) ...\n",
      "2024-03-15 09:02:35 INFO: File exists: /home/oleksii/stanza_resources/uk/default.zip\n",
      "2024-03-15 09:02:38 INFO: Finished downloading models and saved to /home/oleksii/stanza_resources.\n"
     ]
    }
   ],
   "source": [
    "stanza.download('uk')"
   ]
  },
  {
   "cell_type": "code",
   "execution_count": 45,
   "id": "85789e24-10d9-464e-97fe-215936837453",
   "metadata": {
    "scrolled": true
   },
   "outputs": [
    {
     "name": "stderr",
     "output_type": "stream",
     "text": [
      "2024-03-15 09:02:57 INFO: Checking for updates to resources.json in case models have been updated.  Note: this behavior can be turned off with download_method=None or download_method=DownloadMethod.REUSE_RESOURCES\n"
     ]
    },
    {
     "data": {
      "application/vnd.jupyter.widget-view+json": {
       "model_id": "69865f76fcf64da0a826d9c774e56e22",
       "version_major": 2,
       "version_minor": 0
      },
      "text/plain": [
       "Downloading https://raw.githubusercontent.com/stanfordnlp/stanza-resources/main/resources_1.6.0.json:   0%|   …"
      ]
     },
     "metadata": {},
     "output_type": "display_data"
    },
    {
     "name": "stderr",
     "output_type": "stream",
     "text": [
      "2024-03-15 09:02:58 INFO: Loading these models for language: uk (Ukrainian):\n",
      "===========================\n",
      "| Processor | Package     |\n",
      "---------------------------\n",
      "| tokenize  | iu          |\n",
      "| mwt       | iu          |\n",
      "| pos       | iu_charlm   |\n",
      "| lemma     | iu_nocharlm |\n",
      "===========================\n",
      "\n",
      "2024-03-15 09:02:58 INFO: Using device: cpu\n",
      "2024-03-15 09:02:58 INFO: Loading: tokenize\n",
      "2024-03-15 09:02:58 INFO: Loading: mwt\n",
      "2024-03-15 09:02:58 INFO: Loading: pos\n",
      "2024-03-15 09:02:59 INFO: Loading: lemma\n",
      "2024-03-15 09:02:59 INFO: Done loading processors!\n"
     ]
    }
   ],
   "source": [
    "stanza_pip = stanza.Pipeline(lang='uk', processors='tokenize,mwt,pos,lemma')"
   ]
  },
  {
   "cell_type": "code",
   "execution_count": 46,
   "id": "bf6238c4-3d2d-4ad7-87e1-10fdbbe2de1e",
   "metadata": {},
   "outputs": [
    {
     "data": {
      "text/plain": [
       "'Міноборони передало до парламенту пропозиції змін до закону про військовий обов’язок щодо добровільності постановки на військовий облік жінок https://t.co/Sh7QfRjxqG #ukraine'"
      ]
     },
     "execution_count": 46,
     "metadata": {},
     "output_type": "execute_result"
    }
   ],
   "source": [
    "all_documents_0922_uk[0]"
   ]
  },
  {
   "cell_type": "code",
   "execution_count": 49,
   "id": "7e7660b3-ad75-4f05-9d69-08c75bfce6b6",
   "metadata": {
    "scrolled": true
   },
   "outputs": [
    {
     "name": "stdout",
     "output_type": "stream",
     "text": [
      "word: Міноборони     \tlemma: міноборон\n",
      "word: передало       \tlemma: передати\n",
      "word: до             \tlemma: до\n",
      "word: парламенту     \tlemma: парламент\n",
      "word: пропозиції     \tlemma: пропозиція\n",
      "word: змін           \tlemma: зміна\n",
      "word: до             \tlemma: до\n",
      "word: закону         \tlemma: закон\n",
      "word: про            \tlemma: про\n",
      "word: військовий     \tlemma: військовий\n",
      "word: обов’язок      \tlemma: обов’язка\n",
      "word: щодо           \tlemma: щодо\n",
      "word: добровільності \tlemma: добровільність\n",
      "word: постановки     \tlemma: постановка\n",
      "word: на             \tlemma: на\n",
      "word: військовий     \tlemma: військовий\n",
      "word: облік          \tlemma: облік\n",
      "word: жінок          \tlemma: жінка\n",
      "word: https://t.co/Sh7QfRjxqG \tlemma: https://t.co/Sh7QfRjxqG\n",
      "word: #              \tlemma: #\n",
      "word: ukraine        \tlemma: ukraine\n",
      "Міноборони передало до парламенту пропозиції змін до закону про військовий обов’язок щодо добровільності постановки на військовий облік жінок https://t.co/Sh7QfRjxqG #ukraine\n"
     ]
    }
   ],
   "source": [
    "doc = stanza_pip(all_documents_0922_uk[0])\n",
    "print(*[f'word: {word.text+\" \":15}\\tlemma: {word.lemma}' for sent in doc.sentences for word in sent.words], sep='\\n')"
   ]
  },
  {
   "cell_type": "code",
   "execution_count": 54,
   "id": "6caaec13-3edd-40f4-84a4-2089149894f5",
   "metadata": {
    "scrolled": true
   },
   "outputs": [
    {
     "name": "stdout",
     "output_type": "stream",
     "text": [
      "[{\n",
      "  \"id\": 1,\n",
      "  \"text\": \"Міноборони\",\n",
      "  \"lemma\": \"міноборон\",\n",
      "  \"upos\": \"NOUN\",\n",
      "  \"xpos\": \"Ncmpnn\",\n",
      "  \"feats\": \"Animacy=Inan|Case=Nom|Gender=Masc|Number=Plur\",\n",
      "  \"start_char\": 0,\n",
      "  \"end_char\": 10\n",
      "}, {\n",
      "  \"id\": 2,\n",
      "  \"text\": \"передало\",\n",
      "  \"lemma\": \"передати\",\n",
      "  \"upos\": \"VERB\",\n",
      "  \"xpos\": \"Vmeis-sn\",\n",
      "  \"feats\": \"Aspect=Perf|Gender=Neut|Mood=Ind|Number=Sing|Tense=Past|VerbForm=Fin\",\n",
      "  \"start_char\": 11,\n",
      "  \"end_char\": 19\n",
      "}, {\n",
      "  \"id\": 3,\n",
      "  \"text\": \"до\",\n",
      "  \"lemma\": \"до\",\n",
      "  \"upos\": \"ADP\",\n",
      "  \"xpos\": \"Spsg\",\n",
      "  \"feats\": \"Case=Gen\",\n",
      "  \"start_char\": 20,\n",
      "  \"end_char\": 22\n",
      "}, {\n",
      "  \"id\": 4,\n",
      "  \"text\": \"парламенту\",\n",
      "  \"lemma\": \"парламент\",\n",
      "  \"upos\": \"NOUN\",\n",
      "  \"xpos\": \"Ncmsgn\",\n",
      "  \"feats\": \"Animacy=Inan|Case=Gen|Gender=Masc|Number=Sing\",\n",
      "  \"start_char\": 23,\n",
      "  \"end_char\": 33\n",
      "}, {\n",
      "  \"id\": 5,\n",
      "  \"text\": \"пропозиції\",\n",
      "  \"lemma\": \"пропозиція\",\n",
      "  \"upos\": \"NOUN\",\n",
      "  \"xpos\": \"Ncfpan\",\n",
      "  \"feats\": \"Animacy=Inan|Case=Acc|Gender=Fem|Number=Plur\",\n",
      "  \"start_char\": 34,\n",
      "  \"end_char\": 44\n",
      "}, {\n",
      "  \"id\": 6,\n",
      "  \"text\": \"змін\",\n",
      "  \"lemma\": \"зміна\",\n",
      "  \"upos\": \"NOUN\",\n",
      "  \"xpos\": \"Ncfpgn\",\n",
      "  \"feats\": \"Animacy=Inan|Case=Gen|Gender=Fem|Number=Plur\",\n",
      "  \"start_char\": 45,\n",
      "  \"end_char\": 49\n",
      "}, {\n",
      "  \"id\": 7,\n",
      "  \"text\": \"до\",\n",
      "  \"lemma\": \"до\",\n",
      "  \"upos\": \"ADP\",\n",
      "  \"xpos\": \"Spsg\",\n",
      "  \"feats\": \"Case=Gen\",\n",
      "  \"start_char\": 50,\n",
      "  \"end_char\": 52\n",
      "}, {\n",
      "  \"id\": 8,\n",
      "  \"text\": \"закону\",\n",
      "  \"lemma\": \"закон\",\n",
      "  \"upos\": \"NOUN\",\n",
      "  \"xpos\": \"Ncmsgn\",\n",
      "  \"feats\": \"Animacy=Inan|Case=Gen|Gender=Masc|Number=Sing\",\n",
      "  \"start_char\": 53,\n",
      "  \"end_char\": 59\n",
      "}, {\n",
      "  \"id\": 9,\n",
      "  \"text\": \"про\",\n",
      "  \"lemma\": \"про\",\n",
      "  \"upos\": \"ADP\",\n",
      "  \"xpos\": \"Spsa\",\n",
      "  \"feats\": \"Case=Acc\",\n",
      "  \"start_char\": 60,\n",
      "  \"end_char\": 63\n",
      "}, {\n",
      "  \"id\": 10,\n",
      "  \"text\": \"військовий\",\n",
      "  \"lemma\": \"військовий\",\n",
      "  \"upos\": \"ADJ\",\n",
      "  \"xpos\": \"Ao-msafn\",\n",
      "  \"feats\": \"Animacy=Inan|Case=Acc|Gender=Masc|Number=Sing\",\n",
      "  \"start_char\": 64,\n",
      "  \"end_char\": 74\n",
      "}, {\n",
      "  \"id\": 11,\n",
      "  \"text\": \"обов’язок\",\n",
      "  \"lemma\": \"обов’язка\",\n",
      "  \"upos\": \"NOUN\",\n",
      "  \"xpos\": \"Ncmsan\",\n",
      "  \"feats\": \"Animacy=Inan|Case=Acc|Gender=Masc|Number=Sing\",\n",
      "  \"start_char\": 75,\n",
      "  \"end_char\": 84\n",
      "}, {\n",
      "  \"id\": 12,\n",
      "  \"text\": \"щодо\",\n",
      "  \"lemma\": \"щодо\",\n",
      "  \"upos\": \"ADP\",\n",
      "  \"xpos\": \"Spsg\",\n",
      "  \"feats\": \"Case=Gen\",\n",
      "  \"start_char\": 85,\n",
      "  \"end_char\": 89\n",
      "}, {\n",
      "  \"id\": 13,\n",
      "  \"text\": \"добровільності\",\n",
      "  \"lemma\": \"добровільність\",\n",
      "  \"upos\": \"NOUN\",\n",
      "  \"xpos\": \"Ncfsgn\",\n",
      "  \"feats\": \"Animacy=Inan|Case=Gen|Gender=Fem|Number=Sing\",\n",
      "  \"start_char\": 90,\n",
      "  \"end_char\": 104\n",
      "}, {\n",
      "  \"id\": 14,\n",
      "  \"text\": \"постановки\",\n",
      "  \"lemma\": \"постановка\",\n",
      "  \"upos\": \"NOUN\",\n",
      "  \"xpos\": \"Ncfsgn\",\n",
      "  \"feats\": \"Animacy=Inan|Case=Gen|Gender=Fem|Number=Sing\",\n",
      "  \"start_char\": 105,\n",
      "  \"end_char\": 115\n",
      "}, {\n",
      "  \"id\": 15,\n",
      "  \"text\": \"на\",\n",
      "  \"lemma\": \"на\",\n",
      "  \"upos\": \"ADP\",\n",
      "  \"xpos\": \"Spsa\",\n",
      "  \"feats\": \"Case=Acc\",\n",
      "  \"start_char\": 116,\n",
      "  \"end_char\": 118\n",
      "}, {\n",
      "  \"id\": 16,\n",
      "  \"text\": \"військовий\",\n",
      "  \"lemma\": \"військовий\",\n",
      "  \"upos\": \"ADJ\",\n",
      "  \"xpos\": \"Ao-msafn\",\n",
      "  \"feats\": \"Animacy=Inan|Case=Acc|Gender=Masc|Number=Sing\",\n",
      "  \"start_char\": 119,\n",
      "  \"end_char\": 129\n",
      "}, {\n",
      "  \"id\": 17,\n",
      "  \"text\": \"облік\",\n",
      "  \"lemma\": \"облік\",\n",
      "  \"upos\": \"NOUN\",\n",
      "  \"xpos\": \"Ncmsan\",\n",
      "  \"feats\": \"Animacy=Inan|Case=Acc|Gender=Masc|Number=Sing\",\n",
      "  \"start_char\": 130,\n",
      "  \"end_char\": 135\n",
      "}, {\n",
      "  \"id\": 18,\n",
      "  \"text\": \"жінок\",\n",
      "  \"lemma\": \"жінка\",\n",
      "  \"upos\": \"NOUN\",\n",
      "  \"xpos\": \"Ncfpgy\",\n",
      "  \"feats\": \"Animacy=Anim|Case=Gen|Gender=Fem|Number=Plur\",\n",
      "  \"start_char\": 136,\n",
      "  \"end_char\": 141\n",
      "}, {\n",
      "  \"id\": 19,\n",
      "  \"text\": \"https://t.co/Sh7QfRjxqG\",\n",
      "  \"lemma\": \"https://t.co/Sh7QfRjxqG\",\n",
      "  \"upos\": \"SYM\",\n",
      "  \"xpos\": \"X\",\n",
      "  \"start_char\": 142,\n",
      "  \"end_char\": 165\n",
      "}, {\n",
      "  \"id\": 20,\n",
      "  \"text\": \"#\",\n",
      "  \"lemma\": \"#\",\n",
      "  \"upos\": \"SYM\",\n",
      "  \"xpos\": \"X\",\n",
      "  \"start_char\": 166,\n",
      "  \"end_char\": 167\n",
      "}, {\n",
      "  \"id\": 21,\n",
      "  \"text\": \"ukraine\",\n",
      "  \"lemma\": \"ukraine\",\n",
      "  \"upos\": \"X\",\n",
      "  \"xpos\": \"X\",\n",
      "  \"feats\": \"Foreign=Yes\",\n",
      "  \"start_char\": 167,\n",
      "  \"end_char\": 174\n",
      "}]\n"
     ]
    }
   ],
   "source": [
    "print([word for sent in doc.sentences for word in sent.words])"
   ]
  },
  {
   "cell_type": "code",
   "execution_count": 51,
   "id": "57ca0365-9e82-4fb1-a052-e934f1bca3fb",
   "metadata": {},
   "outputs": [
    {
     "name": "stdout",
     "output_type": "stream",
     "text": [
      "['міноборон', 'передати', 'до', 'парламент', 'пропозиція', 'зміна', 'до', 'закон', 'про', 'військовий', 'обов’язка', 'щодо', 'добровільність', 'постановка', 'на', 'військовий', 'облік', 'жінка', 'https://t.co/Sh7QfRjxqG', '#', 'ukraine']\n"
     ]
    }
   ],
   "source": [
    "print([word.lemma for sent in doc.sentences for word in sent.words])"
   ]
  },
  {
   "cell_type": "code",
   "execution_count": 56,
   "id": "4f51d941-6416-4afa-bcc2-9dcb4e385cae",
   "metadata": {},
   "outputs": [],
   "source": [
    "class UkrainianPreprocessor_v2:\n",
    "    def preprocess_documents(self, documents_list: list, return_strings: bool = True):\n",
    "        return [self.preprocess(doc, return_string=return_strings) for doc in documents_list]\n",
    "    \n",
    "    # Function to preprocess documents\n",
    "    def preprocess(self, document, return_string: bool = True):\n",
    "        # Clean the document\n",
    "        document = self.remove_links_content(document)\n",
    "        document = self.remove_emails(document)\n",
    "        document = self.remove_multiple_space(document)\n",
    "        document = self.remove_hashtags(document)\n",
    "        document = self.remove_punctuation(document)\n",
    "        document = self.remove_multiple_space(document)\n",
    "        \n",
    "        # Tokenize and lemmatize\n",
    "        processed_document = stanza_pip(document.lower())\n",
    "        lemmatized_words = [word.lemma for sent in processed_document.sentences for word in sent.words]\n",
    "        # Remove stopwords and punctuations\n",
    "        filtered_words = [word for word in lemmatized_words if word.isalnum() and not word in stop_words]\n",
    "        if return_string:\n",
    "            return ' '.join(lemmatized_words)\n",
    "        else:\n",
    "            return lemmatized_words\n",
    "    \n",
    "    def remove_links_content(self, text):\n",
    "        text = re.sub(r\"http\\S+\", \"\", text)\n",
    "        return text\n",
    "    \n",
    "    def remove_emails(self, text):\n",
    "        return re.sub('\\S+@\\S*\\s?', '', text)\n",
    "    \n",
    "    def remove_punctuation(self, text):\n",
    "        \"\"\"https://stackoverflow.com/a/37221663\"\"\"\n",
    "        table = str.maketrans({key: None for key in string.punctuation})\n",
    "        return text.translate(table)\n",
    "    \n",
    "    def remove_multiple_space(self, text):\n",
    "        return re.sub(\"\\s\\s+\", \" \", text)\n",
    "\n",
    "    def remove_hashtags(self, text):\n",
    "        old_text = text + '\\n'\n",
    "        new_text = text\n",
    "        while len(new_text) < len(old_text):\n",
    "            old_text = new_text\n",
    "            new_text = re.sub('(?<=[\\s\\n])#\\S+\\s*$', '', new_text)\n",
    "        return new_text"
   ]
  },
  {
   "cell_type": "code",
   "execution_count": 64,
   "id": "2ec83c56-fe96-41b2-9072-fb557ebf9b32",
   "metadata": {},
   "outputs": [
    {
     "name": "stdout",
     "output_type": "stream",
     "text": [
      "--Document 0:\n",
      "--Old processing: міноборони передало до парламенту пропозиції змін до закону про військовий обов язок щодо добровільності постановки на військовий облік жінок\n",
      "--New processing: міноборони передати до парламент пропозиція зміна до закон про військовий обов’язка щодо добровільність постановка на військовий облік жінка\n",
      "\n",
      "--Document 1:\n",
      "--Old processing: якшо чесно я сумніваюсь в її\n",
      "--New processing: якшо чесно я сумніватися в її реальності✨🤲 🏼\n",
      "\n",
      "--Document 2:\n",
      "--Old processing: додав трохи фотошопу джонні не знав на що підписався\n",
      "--New processing: додати трохи фотошоп джоння не знати на що підписатися\n",
      "\n",
      "--Document 3:\n",
      "--Old processing: дива трапляються дякую за запрошення alessio carbone хореограф у артему шошину та партнеру олексію потьомкіну\n",
      "--New processing: диво траплятися дякувати за запрошення alessio carbone хореограф у артем шошин та партнер олексія потьомкін 💕💕💕💕 🇺🇦🇺🇦🇮🇹🇮 🇹ballet\n",
      "\n",
      "--Document 4:\n",
      "--Old processing: о третій ночі зловила повітряну тривогу така гучна я трошки не була готова\n",
      "--New processing: о третій ніч зловити повітряний тривіг такий гучний я трошки не бути готовий ще 🥲\n",
      "\n"
     ]
    }
   ],
   "source": [
    "# Old and preprocessing comparison\n",
    "for i_d, document in enumerate(all_documents_0922_uk[:5]):\n",
    "    print(f'--Document {i_d}:')\n",
    "    print(f'--Old processing: {UkrainianPreprocessor().preprocess_documents([document])[0]}')\n",
    "    print(f'--New processing: {UkrainianPreprocessor_v2().preprocess_documents([document])[0]}\\n')"
   ]
  },
  {
   "cell_type": "markdown",
   "id": "22155aaf-58e4-4b3b-825f-90a338b8d9c4",
   "metadata": {},
   "source": [
    "## 1- and 2-grams with the new processing: optimal topics number\n",
    "\n",
    "Model that uses both 1- and 2-grams with the new preprocessing for the different topics numbers for the data for September 2022 in Ukrainian language."
   ]
  },
  {
   "cell_type": "code",
   "execution_count": 65,
   "id": "7e89028b-a05b-4d9d-88da-c320c1e802e9",
   "metadata": {},
   "outputs": [],
   "source": [
    "# The new preprocessing class is now our main one\n",
    "class UkrainianPreprocessor:\n",
    "    def preprocess_documents(self, documents_list: list, return_strings: bool = True):\n",
    "        return [self.preprocess(doc, return_string=return_strings) for doc in documents_list]\n",
    "    \n",
    "    # Function to preprocess documents\n",
    "    def preprocess(self, document, return_string: bool = True):\n",
    "        # Clean the document\n",
    "        document = self.remove_links_content(document)\n",
    "        document = self.remove_emails(document)\n",
    "        document = self.remove_multiple_space(document)\n",
    "        document = self.remove_hashtags(document)\n",
    "        document = self.remove_punctuation(document)\n",
    "        document = self.remove_multiple_space(document)\n",
    "        \n",
    "        # Tokenize and lemmatize\n",
    "        processed_document = stanza_pip(document.lower())\n",
    "        lemmatized_words = [word.lemma for sent in processed_document.sentences for word in sent.words]\n",
    "        # Remove stopwords and punctuations\n",
    "        filtered_words = [word for word in lemmatized_words if word.isalnum() and not word in stop_words]\n",
    "        if return_string:\n",
    "            return ' '.join(lemmatized_words)\n",
    "        else:\n",
    "            return lemmatized_words\n",
    "    \n",
    "    def remove_links_content(self, text):\n",
    "        text = re.sub(r\"http\\S+\", \"\", text)\n",
    "        return text\n",
    "    \n",
    "    def remove_emails(self, text):\n",
    "        return re.sub('\\S+@\\S*\\s?', '', text)\n",
    "    \n",
    "    def remove_punctuation(self, text):\n",
    "        \"\"\"https://stackoverflow.com/a/37221663\"\"\"\n",
    "        table = str.maketrans({key: None for key in string.punctuation})\n",
    "        return text.translate(table)\n",
    "    \n",
    "    def remove_multiple_space(self, text):\n",
    "        return re.sub(\"\\s\\s+\", \" \", text)\n",
    "\n",
    "    def remove_hashtags(self, text):\n",
    "        old_text = text + '\\n'\n",
    "        new_text = text\n",
    "        while len(new_text) < len(old_text):\n",
    "            old_text = new_text\n",
    "            new_text = re.sub('(?<=[\\s\\n])#\\S+\\s*$', '', new_text)\n",
    "        return new_text"
   ]
  },
  {
   "cell_type": "code",
   "execution_count": null,
   "id": "27fbe565-3204-4cb6-bfe9-8fb2bc936c93",
   "metadata": {},
   "outputs": [],
   "source": [
    "topic_numbers_12grams = list(range(2,15)) + [20,30,40,50,100,150,200]\n",
    "coherences_12grams = []\n",
    "predicted_topics_counts_12grams = []\n",
    "for topic_number in topic_numbers_12grams:\n",
    "    LSAPipeline = LSAPipelineUkrainian(all_documents_0922_uk, tf_idf_max_df=0.9, tf_idf_min_df=4,\n",
    "                                 lsa_components=topic_number, svd_n_iter=5,\n",
    "                                 n_top_words=10, ngram_range=(1,2),\n",
    "                                 random_state=47)\n",
    "    topics_12grams = LSAPipeline.run_topics_detection()\n",
    "    tfidf_feature_names = set(LSAPipeline.tfidf_vectorizer.get_feature_names_out())\n",
    "    # Calculate the coherence score using Gensim\n",
    "    coherence_model = CoherenceModel(topics=topics_12grams,\n",
    "                                     texts=texts_v4,\n",
    "                                     dictionary=dictionary_v4,\n",
    "                                     corpus=corpus_v4,\n",
    "                                     coherence='c_v')\n",
    "    coherence_score = coherence_model.get_coherence()\n",
    "    predicted_topics = LSAPipeline.transform_documents(LSAPipeline.import_documents_list)\n",
    "    predicted_topics_count = [predicted_topics.count(x) for x in np.sort(np.unique(predicted_topics))]\n",
    "    \n",
    "    print(f'--Topic number {topic_number} coherence score: {coherence_score}')\n",
    "    coherences_12grams.append(coherence_score)\n",
    "    predicted_topics_counts_12grams.append(predicted_topics_count)"
   ]
  },
  {
   "cell_type": "code",
   "execution_count": 35,
   "id": "686bc8a6-3fb7-4a84-8529-ccf79e848f74",
   "metadata": {
    "scrolled": true
   },
   "outputs": [
    {
     "name": "stdout",
     "output_type": "stream",
     "text": [
      "--Topic number 2 coherence score: 0.7049454799307205\n",
      "--Topic number 3 coherence score: 0.667638843216167\n",
      "--Topic number 4 coherence score: 0.5617154300033507\n",
      "--Topic number 5 coherence score: 0.5349934782635805\n",
      "--Topic number 6 coherence score: 0.5689534443157522\n",
      "--Topic number 7 coherence score: 0.6329268395815847\n",
      "--Topic number 8 coherence score: 0.5999801947888078\n",
      "--Topic number 9 coherence score: 0.585342701931277\n",
      "--Topic number 10 coherence score: 0.5733053987225315\n",
      "--Topic number 11 coherence score: 0.567854434888853\n",
      "--Topic number 12 coherence score: 0.5554819209012852\n",
      "--Topic number 13 coherence score: 0.5963965803373524\n",
      "--Topic number 14 coherence score: 0.5332148373432543\n",
      "--Topic number 20 coherence score: 0.523798726405071\n",
      "--Topic number 30 coherence score: 0.5262199590052327\n",
      "--Topic number 40 coherence score: 0.518210233045419\n",
      "--Topic number 50 coherence score: 0.5150692067497479\n",
      "--Topic number 100 coherence score: 0.4772828470753781\n",
      "--Topic number 150 coherence score: 0.44301125036608757\n",
      "--Topic number 200 coherence score: 0.4148632552664271\n"
     ]
    }
   ],
   "source": [
    "topic_numbers_12grams = list(range(2,15)) + [20,30,40,50,100,150,200]\n",
    "coherences_12grams = []\n",
    "predicted_topics_counts_12grams = []\n",
    "for topic_number in topic_numbers_12grams:\n",
    "    LSAPipeline = LSAPipelineUkrainian(all_documents_0922_uk, tf_idf_max_df=0.9, tf_idf_min_df=4,\n",
    "                                 lsa_components=topic_number, svd_n_iter=5,\n",
    "                                 n_top_words=10, ngram_range=(1,2),\n",
    "                                 random_state=47)\n",
    "    topics_12grams = LSAPipeline.run_topics_detection()\n",
    "    tfidf_feature_names = set(LSAPipeline.tfidf_vectorizer.get_feature_names_out())\n",
    "    # Calculate the coherence score using Gensim\n",
    "    coherence_model = CoherenceModel(topics=topics_12grams,\n",
    "                                     texts=texts_v4,\n",
    "                                     dictionary=dictionary_v4,\n",
    "                                     corpus=corpus_v4,\n",
    "                                     coherence='c_v')\n",
    "    coherence_score = coherence_model.get_coherence()\n",
    "    predicted_topics = LSAPipeline.transform_documents(LSAPipeline.import_documents_list)\n",
    "    predicted_topics_count = [predicted_topics.count(x) for x in np.sort(np.unique(predicted_topics))]\n",
    "    \n",
    "    print(f'--Topic number {topic_number} coherence score: {coherence_score}')\n",
    "    coherences_12grams.append(coherence_score)\n",
    "    predicted_topics_counts_12grams.append(predicted_topics_count)"
   ]
  },
  {
   "cell_type": "code",
   "execution_count": null,
   "id": "95cf712a-0b4e-49f9-bfbe-709ddaea1ee9",
   "metadata": {},
   "outputs": [],
   "source": [
    "with open('coherences_12grams_uk_new.json','w') as json_file:\n",
    "    json.dump({'coherences': coherences_12grams,\n",
    "               'predicted_topics': predicted_topics_counts_12grams}, json_file)"
   ]
  },
  {
   "cell_type": "code",
   "execution_count": null,
   "id": "a182ad48-0c3e-45b8-8a67-8d4b729ba438",
   "metadata": {},
   "outputs": [],
   "source": [
    "plt.plot(topic_numbers_12grams, coherences_12grams)\n",
    "plt.title('Coherence for different n_topics | 12grams model, new preprocessing | Ukrainian')\n",
    "plt.xlabel('Topics number')\n",
    "plt.ylabel('Coherence (c_v) score')\n",
    "plt.grid()\n",
    "plt.show()"
   ]
  },
  {
   "cell_type": "markdown",
   "id": "a82d9aa5-7990-4094-87b0-b822d7cd5e64",
   "metadata": {},
   "source": [
    "# 1- and 2-grams with the new processing, only certain PoS\n",
    "\n",
    "Let's biuld a model that performa topic modelling only gfor the certain most important parts of speech (PoS), starting with the nouns, verbs, adjectives, and adverbs. We have such an information thanks to using the `stanza` pipeline. The motivation behind this is that the most important speech parts may store the most information about the document'ds idea and purpose, which is even more important in the case of the tweets.\n",
    "\n",
    "We'll later likely return to review the models based only a single PoS, like, for example, nouns. This can also be useful to detect spam in the messages, and adjectives can potentially be useful in detecting propaganda or emotionally charged documents."
   ]
  },
  {
   "cell_type": "code",
   "execution_count": null,
   "id": "4a92d01c-2c74-4983-9e3b-282915d96b34",
   "metadata": {},
   "outputs": [],
   "source": []
  },
  {
   "cell_type": "code",
   "execution_count": null,
   "id": "b1b35277-cfc5-47ce-aeee-b660a3c83c80",
   "metadata": {},
   "outputs": [],
   "source": []
  }
 ],
 "metadata": {
  "kernelspec": {
   "display_name": "Python 3 (ipykernel)",
   "language": "python",
   "name": "python3"
  },
  "language_info": {
   "codemirror_mode": {
    "name": "ipython",
    "version": 3
   },
   "file_extension": ".py",
   "mimetype": "text/x-python",
   "name": "python",
   "nbconvert_exporter": "python",
   "pygments_lexer": "ipython3",
   "version": "3.9.18"
  }
 },
 "nbformat": 4,
 "nbformat_minor": 5
}
