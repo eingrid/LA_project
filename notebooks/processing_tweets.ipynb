{
 "cells": [
  {
   "cell_type": "code",
   "execution_count": 1,
   "metadata": {},
   "outputs": [
    {
     "name": "stderr",
     "output_type": "stream",
     "text": [
      "/tmp/ipykernel_2884/1509092301.py:1: DeprecationWarning: \n",
      "Pyarrow will become a required dependency of pandas in the next major release of pandas (pandas 3.0),\n",
      "(to allow more performant data types, such as the Arrow string type, and better interoperability with other libraries)\n",
      "but was not found to be installed on your system.\n",
      "If this would cause problems for you,\n",
      "please provide us feedback at https://github.com/pandas-dev/pandas/issues/54466\n",
      "        \n",
      "  import pandas as pd\n"
     ]
    }
   ],
   "source": [
    "import pandas as pd \n",
    "\n",
    "ukrainian_tweets = pd.read_csv('data/ukrainian_only/en_tweets_first_half.csv')\n",
    "ukrainian_tweets.shape"
   ]
  },
  {
   "cell_type": "markdown",
   "metadata": {},
   "source": [
    "### drop rows with empty text and duplicates"
   ]
  },
  {
   "cell_type": "code",
   "execution_count": 115,
   "metadata": {},
   "outputs": [
    {
     "data": {
      "text/plain": [
       "(21281, 30)"
      ]
     },
     "execution_count": 115,
     "metadata": {},
     "output_type": "execute_result"
    }
   ],
   "source": [
    "ukrainian_tweets = ukrainian_tweets.dropna(subset=['text'])\n",
    "ukrainian_tweets = ukrainian_tweets[ukrainian_tweets.language =='en']\n",
    "ukrainian_tweets = ukrainian_tweets.drop_duplicates(subset=['text'])\n",
    "ukrainian_tweets['text'] = ukrainian_tweets.text.apply(lambda x : x.lower())\n",
    "ukrainian_tweets.shape"
   ]
  },
  {
   "cell_type": "code",
   "execution_count": 116,
   "metadata": {},
   "outputs": [],
   "source": [
    "### Remove links \n",
    "\n",
    "import re\n",
    "\n",
    "def remove_links(text : str):\n",
    "    text = text = re.sub(r\"\\S*https?:\\S*\", \"\", text)\n",
    "    return text"
   ]
  },
  {
   "cell_type": "code",
   "execution_count": 117,
   "metadata": {},
   "outputs": [],
   "source": [
    "ukrainian_tweets.text = ukrainian_tweets.text.apply(lambda x : remove_links(x))"
   ]
  },
  {
   "cell_type": "code",
   "execution_count": 118,
   "metadata": {},
   "outputs": [],
   "source": [
    "ukrainian_tweets.text = ukrainian_tweets.text.apply(lambda x: re.sub(r'[#@&][\\S]+', '', str(x)))"
   ]
  },
  {
   "cell_type": "code",
   "execution_count": 119,
   "metadata": {},
   "outputs": [
    {
     "data": {
      "text/plain": [
       "0        dear vaccine advocate\\n\\ndo take the covid19 m...\n",
       "2        animal shelter dogs and cats, we need your hel...\n",
       "3        welcome to our shelter!\\nlocated in ukraine, k...\n",
       "5        👇 good news you may have missed: first  shipme...\n",
       "6        opinion: the ukraine war is also being fought ...\n",
       "                               ...                        \n",
       "47986    russian t72 tank hits a ukrainian mine / date ...\n",
       "47987    turks, putin's hand-picked  ''mediators'', con...\n",
       "47989    everything as usual, just another russian gove...\n",
       "47990                                 twisted firestarter!\n",
       "47993    when people say the us was in better shape whi...\n",
       "Name: text, Length: 21281, dtype: object"
      ]
     },
     "execution_count": 119,
     "metadata": {},
     "output_type": "execute_result"
    }
   ],
   "source": [
    "ukrainian_tweets.text"
   ]
  },
  {
   "cell_type": "markdown",
   "metadata": {},
   "source": [
    "### replace all hashtags, ampersands, and character references with no space"
   ]
  },
  {
   "cell_type": "code",
   "execution_count": 120,
   "metadata": {},
   "outputs": [],
   "source": [
    "# ukrainian_tweets['text'] = ukrainian_tweets.text.apply(lambda x: re.sub(r'#[\\S]+','', str(x)))\n",
    "# ukrainian_tweets['text'] = ukrainian_tweets.text.apply(lambda x: re.sub(r'@[\\S]+','', str(x)))"
   ]
  },
  {
   "cell_type": "code",
   "execution_count": 121,
   "metadata": {},
   "outputs": [
    {
     "data": {
      "text/plain": [
       "0        dear vaccine advocate\\n\\ndo take the covid19 m...\n",
       "2        animal shelter dogs and cats, we need your hel...\n",
       "3        welcome to our shelter!\\nlocated in ukraine, k...\n",
       "5        👇 good news you may have missed: first  shipme...\n",
       "6        opinion: the ukraine war is also being fought ...\n",
       "                               ...                        \n",
       "47986    russian t72 tank hits a ukrainian mine / date ...\n",
       "47987    turks, putin's hand-picked  ''mediators'', con...\n",
       "47989    everything as usual, just another russian gove...\n",
       "47990                                 twisted firestarter!\n",
       "47993    when people say the us was in better shape whi...\n",
       "Name: text, Length: 21281, dtype: object"
      ]
     },
     "execution_count": 121,
     "metadata": {},
     "output_type": "execute_result"
    }
   ],
   "source": [
    "ukrainian_tweets.text"
   ]
  },
  {
   "cell_type": "markdown",
   "metadata": {},
   "source": [
    "### remove emoji"
   ]
  },
  {
   "cell_type": "code",
   "execution_count": 122,
   "metadata": {},
   "outputs": [],
   "source": [
    "try:\n",
    "    import emoji\n",
    "except ModuleNotFoundError:\n",
    "    !python -m pip install emoji --upgrade\n",
    "    import emoji\n",
    "    \n",
    "def give_emoji_free_text(text):\n",
    "    return emoji.replace_emoji(text,replace='')"
   ]
  },
  {
   "cell_type": "code",
   "execution_count": 123,
   "metadata": {},
   "outputs": [],
   "source": [
    "ukrainian_tweets['text_processed'] =  ukrainian_tweets['text'].apply(lambda x : give_emoji_free_text(x))"
   ]
  },
  {
   "cell_type": "code",
   "execution_count": 124,
   "metadata": {},
   "outputs": [
    {
     "data": {
      "text/plain": [
       "0        dear vaccine advocate\\n\\ndo take the covid19 m...\n",
       "2        animal shelter dogs and cats, we need your hel...\n",
       "3        welcome to our shelter!\\nlocated in ukraine, k...\n",
       "5         good news you may have missed: first  shipmen...\n",
       "6        opinion: the ukraine war is also being fought ...\n",
       "                               ...                        \n",
       "47986    russian t72 tank hits a ukrainian mine / date ...\n",
       "47987    turks, putin's hand-picked  ''mediators'', con...\n",
       "47989    everything as usual, just another russian gove...\n",
       "47990                                 twisted firestarter!\n",
       "47993    when people say the us was in better shape whi...\n",
       "Name: text_processed, Length: 21281, dtype: object"
      ]
     },
     "execution_count": 124,
     "metadata": {},
     "output_type": "execute_result"
    }
   ],
   "source": [
    "ukrainian_tweets['text_processed']"
   ]
  },
  {
   "cell_type": "markdown",
   "metadata": {},
   "source": [
    "### Remove stopwords and punctuation"
   ]
  },
  {
   "cell_type": "code",
   "execution_count": 125,
   "metadata": {},
   "outputs": [],
   "source": [
    "from nltk.corpus import stopwords"
   ]
  },
  {
   "cell_type": "code",
   "execution_count": 126,
   "metadata": {},
   "outputs": [],
   "source": [
    "stopwords = stopwords.words('english')"
   ]
  },
  {
   "cell_type": "code",
   "execution_count": 127,
   "metadata": {},
   "outputs": [],
   "source": [
    "import re\n",
    "\n",
    "def remove_stopwords_and_punctuation(text : str):\n",
    "    \"\"\"Split text by space char and remove stopwords\"\"\"\n",
    "\n",
    "    text_no_punctuation = re.sub(r'[^\\w\\s]', '', text)\n",
    "    words = text_no_punctuation.split()  # Split text into words\n",
    "    filtered_words = [word for word in words if word not in stopwords]  # Keep words that are not in stopwords\n",
    "    return ' '.join(filtered_words)  # Join words back into a string"
   ]
  },
  {
   "cell_type": "code",
   "execution_count": 128,
   "metadata": {},
   "outputs": [],
   "source": [
    "ukrainian_tweets['text_processed'] =  ukrainian_tweets['text_processed'].apply(remove_stopwords_and_punctuation)"
   ]
  },
  {
   "cell_type": "code",
   "execution_count": 129,
   "metadata": {},
   "outputs": [
    {
     "data": {
      "text/plain": [
       "0        dear vaccine advocate take covid19 mrna shot b...\n",
       "2        animal shelter dogs cats need help raising fun...\n",
       "3        welcome shelter located ukraine kyiv shelter n...\n",
       "5        good news may missed first shipment wheat oper...\n",
       "6             opinion ukraine war also fought language cnn\n",
       "                               ...                        \n",
       "47986    russian t72 tank hits ukrainian mine date unknown\n",
       "47987    turks putins handpicked mediators continue thu...\n",
       "47989    everything usual another russian government pe...\n",
       "47990                                  twisted firestarter\n",
       "47993    people say us better shape trump office l remi...\n",
       "Name: text_processed, Length: 21281, dtype: object"
      ]
     },
     "execution_count": 129,
     "metadata": {},
     "output_type": "execute_result"
    }
   ],
   "source": [
    "ukrainian_tweets['text_processed']"
   ]
  },
  {
   "cell_type": "code",
   "execution_count": 130,
   "metadata": {},
   "outputs": [],
   "source": [
    "ukrainian_tweets = ukrainian_tweets[~ukrainian_tweets['text_processed'].isna()]"
   ]
  },
  {
   "cell_type": "markdown",
   "metadata": {},
   "source": [
    "### remove english characters ?"
   ]
  },
  {
   "cell_type": "code",
   "execution_count": 131,
   "metadata": {},
   "outputs": [],
   "source": [
    "# def remove_english_characters(text):\n",
    "#     return re.sub(r'[a-zA-Z]', '', text)"
   ]
  },
  {
   "cell_type": "code",
   "execution_count": 132,
   "metadata": {},
   "outputs": [],
   "source": [
    "# ukrainian_tweets['text_processed'] = ukrainian_tweets['text_processed'].apply(remove_english_characters)"
   ]
  },
  {
   "cell_type": "code",
   "execution_count": 133,
   "metadata": {},
   "outputs": [
    {
     "data": {
      "text/plain": [
       "0        dear vaccine advocate take covid19 mrna shot b...\n",
       "2        animal shelter dogs cats need help raising fun...\n",
       "3        welcome shelter located ukraine kyiv shelter n...\n",
       "5        good news may missed first shipment wheat oper...\n",
       "6             opinion ukraine war also fought language cnn\n",
       "                               ...                        \n",
       "47986    russian t72 tank hits ukrainian mine date unknown\n",
       "47987    turks putins handpicked mediators continue thu...\n",
       "47989    everything usual another russian government pe...\n",
       "47990                                  twisted firestarter\n",
       "47993    people say us better shape trump office l remi...\n",
       "Name: text_processed, Length: 21281, dtype: object"
      ]
     },
     "execution_count": 133,
     "metadata": {},
     "output_type": "execute_result"
    }
   ],
   "source": [
    "ukrainian_tweets['text_processed']"
   ]
  },
  {
   "cell_type": "markdown",
   "metadata": {},
   "source": [
    "### remove numbers and remove extra spaces"
   ]
  },
  {
   "cell_type": "code",
   "execution_count": 134,
   "metadata": {},
   "outputs": [],
   "source": [
    "def remove_numbers(text):\n",
    "    return re.sub(r'\\d+', '', text)"
   ]
  },
  {
   "cell_type": "code",
   "execution_count": 135,
   "metadata": {},
   "outputs": [],
   "source": [
    "def remove_extra_spaces(text):\n",
    "    text = re.sub(r'\\s+', ' ', text).strip()\n",
    "    return text.replace('_','') "
   ]
  },
  {
   "cell_type": "code",
   "execution_count": 136,
   "metadata": {},
   "outputs": [],
   "source": [
    "ukrainian_tweets['text_processed'] = ukrainian_tweets['text_processed'].apply(remove_numbers)"
   ]
  },
  {
   "cell_type": "code",
   "execution_count": 137,
   "metadata": {},
   "outputs": [
    {
     "data": {
      "text/plain": [
       "0        dear vaccine advocate take covid mrna shot boo...\n",
       "2        animal shelter dogs cats need help raising fun...\n",
       "3        welcome shelter located ukraine kyiv shelter n...\n",
       "5        good news may missed first shipment wheat oper...\n",
       "6             opinion ukraine war also fought language cnn\n",
       "                               ...                        \n",
       "47986      russian t tank hits ukrainian mine date unknown\n",
       "47987    turks putins handpicked mediators continue thu...\n",
       "47989    everything usual another russian government pe...\n",
       "47990                                  twisted firestarter\n",
       "47993    people say us better shape trump office l remi...\n",
       "Name: text_processed, Length: 21281, dtype: object"
      ]
     },
     "execution_count": 137,
     "metadata": {},
     "output_type": "execute_result"
    }
   ],
   "source": [
    "ukrainian_tweets['text_processed'] "
   ]
  },
  {
   "cell_type": "code",
   "execution_count": 138,
   "metadata": {},
   "outputs": [],
   "source": [
    "ukrainian_tweets['text_processed'] = ukrainian_tweets['text_processed'].apply(remove_extra_spaces)"
   ]
  },
  {
   "cell_type": "code",
   "execution_count": 139,
   "metadata": {},
   "outputs": [
    {
     "data": {
      "text/plain": [
       "0        dear vaccine advocate take covid mrna shot boo...\n",
       "2        animal shelter dogs cats need help raising fun...\n",
       "3        welcome shelter located ukraine kyiv shelter n...\n",
       "5        good news may missed first shipment wheat oper...\n",
       "6             opinion ukraine war also fought language cnn\n",
       "                               ...                        \n",
       "47986      russian t tank hits ukrainian mine date unknown\n",
       "47987    turks putins handpicked mediators continue thu...\n",
       "47989    everything usual another russian government pe...\n",
       "47990                                  twisted firestarter\n",
       "47993    people say us better shape trump office l remi...\n",
       "Name: text_processed, Length: 21281, dtype: object"
      ]
     },
     "execution_count": 139,
     "metadata": {},
     "output_type": "execute_result"
    }
   ],
   "source": [
    "ukrainian_tweets['text_processed']"
   ]
  },
  {
   "cell_type": "markdown",
   "metadata": {},
   "source": [
    "### lemmatization"
   ]
  },
  {
   "cell_type": "code",
   "execution_count": 24,
   "metadata": {},
   "outputs": [
    {
     "name": "stdout",
     "output_type": "stream",
     "text": [
      "Collecting pymorphy3\n",
      "  Obtaining dependency information for pymorphy3 from https://files.pythonhosted.org/packages/ee/53/862f7b7f3e488e5420bebd5cf59362cb175463ad3cfddd61ade15a738dc7/pymorphy3-2.0.1-py3-none-any.whl.metadata\n",
      "  Downloading pymorphy3-2.0.1-py3-none-any.whl.metadata (1.8 kB)\n",
      "Requirement already satisfied: dawg-python>=0.7.1 in ./env/lib/python3.11/site-packages (from pymorphy3) (0.7.2)\n",
      "Collecting pymorphy3-dicts-ru (from pymorphy3)\n",
      "  Obtaining dependency information for pymorphy3-dicts-ru from https://files.pythonhosted.org/packages/b0/67/469e9e52d046863f5959928794d3067d455a77f580bf4a662630a43eb426/pymorphy3_dicts_ru-2.4.417150.4580142-py2.py3-none-any.whl.metadata\n",
      "  Downloading pymorphy3_dicts_ru-2.4.417150.4580142-py2.py3-none-any.whl.metadata (2.0 kB)\n",
      "Downloading pymorphy3-2.0.1-py3-none-any.whl (53 kB)\n",
      "\u001b[2K   \u001b[90m━━━━━━━━━━━━━━━━━━━━━━━━━━━━━━━━━━━━━━━━\u001b[0m \u001b[32m53.2/53.2 kB\u001b[0m \u001b[31m965.5 kB/s\u001b[0m eta \u001b[36m0:00:00\u001b[0m\u001b[36m0:00:01\u001b[0m\n",
      "\u001b[?25hDownloading pymorphy3_dicts_ru-2.4.417150.4580142-py2.py3-none-any.whl (8.4 MB)\n",
      "\u001b[2K   \u001b[90m━━━━━━━━━━━━━━━━━━━━━━━━━━━━━━━━━━━━━━━━\u001b[0m \u001b[32m8.4/8.4 MB\u001b[0m \u001b[31m6.3 MB/s\u001b[0m eta \u001b[36m0:00:00\u001b[0m00:01\u001b[0m00:01\u001b[0m\n",
      "\u001b[?25hInstalling collected packages: pymorphy3-dicts-ru, pymorphy3\n",
      "Successfully installed pymorphy3-2.0.1 pymorphy3-dicts-ru-2.4.417150.4580142\n",
      "\n",
      "\u001b[1m[\u001b[0m\u001b[34;49mnotice\u001b[0m\u001b[1;39;49m]\u001b[0m\u001b[39;49m A new release of pip is available: \u001b[0m\u001b[31;49m23.2.1\u001b[0m\u001b[39;49m -> \u001b[0m\u001b[32;49m24.0\u001b[0m\n",
      "\u001b[1m[\u001b[0m\u001b[34;49mnotice\u001b[0m\u001b[1;39;49m]\u001b[0m\u001b[39;49m To update, run: \u001b[0m\u001b[32;49mpip install --upgrade pip\u001b[0m\n"
     ]
    }
   ],
   "source": [
    "try :\n",
    "    import pymorphy3\n",
    "except ModuleNotFoundError:\n",
    "    ! pip install pymorphy3\n",
    "    ! pip install pymorphy3-dicts-uk\n",
    "    import pymorphy3\n",
    "except Exception as e:\n",
    "    print(f\"Error occured during importing pymorphy {e}\")\n",
    "    "
   ]
  },
  {
   "cell_type": "code",
   "execution_count": 30,
   "metadata": {},
   "outputs": [],
   "source": [
    "# Create a morphological analyzer for Ukrainian\n",
    "morph = pymorphy3.MorphAnalyzer(lang='uk')\n",
    "\n",
    "\n",
    "def lemmatize_text_uk(text):\n",
    "    words = text.split()  \n",
    "    lemmatized_words = [morph.parse(word)[0].normal_form for word in words]\n",
    "    return ' '.join(lemmatized_words)"
   ]
  },
  {
   "cell_type": "code",
   "execution_count": 31,
   "metadata": {},
   "outputs": [],
   "source": [
    "ukrainian_tweets['text_processed'] = ukrainian_tweets['text_processed'].apply(lemmatize_text_uk) "
   ]
  },
  {
   "cell_type": "code",
   "execution_count": 24,
   "metadata": {},
   "outputs": [
    {
     "data": {
      "text/plain": [
       "0        dear vaccine advocate take covid mrna shot boo...\n",
       "2        animal shelter dogs cats need help raising fun...\n",
       "3        welcome shelter located ukraine kyiv shelter n...\n",
       "5        good news may missed first shipment wheat oper...\n",
       "6        opinion ukraine war also fought language cnn h...\n",
       "                               ...                        \n",
       "47986    russian t tank hits ukrainian mine date unknow...\n",
       "47987    turks putins handpicked mediators continue thu...\n",
       "47989    everything usual another russian government pe...\n",
       "47990                                  twisted firestarter\n",
       "47993    people say us better shape trump office l remi...\n",
       "Name: text_processed, Length: 23010, dtype: object"
      ]
     },
     "execution_count": 24,
     "metadata": {},
     "output_type": "execute_result"
    }
   ],
   "source": [
    "ukrainian_tweets['text_processed'] "
   ]
  },
  {
   "cell_type": "code",
   "execution_count": 79,
   "metadata": {},
   "outputs": [],
   "source": [
    "ukrainian_tweets.to_csv('./data/processed/en_tweets_processed.csv',index=False)"
   ]
  },
  {
   "cell_type": "code",
   "execution_count": 113,
   "metadata": {},
   "outputs": [
    {
     "data": {
      "text/html": [
       "<div>\n",
       "<style scoped>\n",
       "    .dataframe tbody tr th:only-of-type {\n",
       "        vertical-align: middle;\n",
       "    }\n",
       "\n",
       "    .dataframe tbody tr th {\n",
       "        vertical-align: top;\n",
       "    }\n",
       "\n",
       "    .dataframe thead th {\n",
       "        text-align: right;\n",
       "    }\n",
       "</style>\n",
       "<table border=\"1\" class=\"dataframe\">\n",
       "  <thead>\n",
       "    <tr style=\"text-align: right;\">\n",
       "      <th></th>\n",
       "      <th>Unnamed: 0</th>\n",
       "      <th>userid</th>\n",
       "      <th>username</th>\n",
       "      <th>acctdesc</th>\n",
       "      <th>location</th>\n",
       "      <th>following</th>\n",
       "      <th>followers</th>\n",
       "      <th>totaltweets</th>\n",
       "      <th>usercreatedts</th>\n",
       "      <th>tweetid</th>\n",
       "      <th>...</th>\n",
       "      <th>original_tweet_username</th>\n",
       "      <th>in_reply_to_status_id</th>\n",
       "      <th>in_reply_to_user_id</th>\n",
       "      <th>in_reply_to_screen_name</th>\n",
       "      <th>is_quote_status</th>\n",
       "      <th>quoted_status_id</th>\n",
       "      <th>quoted_status_userid</th>\n",
       "      <th>quoted_status_username</th>\n",
       "      <th>extractedts</th>\n",
       "      <th>text_processed</th>\n",
       "    </tr>\n",
       "  </thead>\n",
       "  <tbody>\n",
       "  </tbody>\n",
       "</table>\n",
       "<p>0 rows × 30 columns</p>\n",
       "</div>"
      ],
      "text/plain": [
       "Empty DataFrame\n",
       "Columns: [Unnamed: 0, userid, username, acctdesc, location, following, followers, totaltweets, usercreatedts, tweetid, tweetcreatedts, retweetcount, text, hashtags, language, coordinates, favorite_count, is_retweet, original_tweet_id, original_tweet_userid, original_tweet_username, in_reply_to_status_id, in_reply_to_user_id, in_reply_to_screen_name, is_quote_status, quoted_status_id, quoted_status_userid, quoted_status_username, extractedts, text_processed]\n",
       "Index: []\n",
       "\n",
       "[0 rows x 30 columns]"
      ]
     },
     "execution_count": 113,
     "metadata": {},
     "output_type": "execute_result"
    }
   ],
   "source": [
    "ukrainian_tweets[ukrainian_tweets.text.apply(lambda x : 'https' in x)]"
   ]
  },
  {
   "cell_type": "code",
   "execution_count": 114,
   "metadata": {},
   "outputs": [
    {
     "data": {
      "text/plain": [
       "0        dear vaccine advocate\\n\\ndo take the covid19 m...\n",
       "2        animal shelter dogs and cats, we need your hel...\n",
       "3        welcome to our shelter!\\nlocated in ukraine, k...\n",
       "5        👇 good news you may have missed: first  shipme...\n",
       "6        opinion: the ukraine war is also being fought ...\n",
       "                               ...                        \n",
       "47986    russian t72 tank hits a ukrainian mine / date ...\n",
       "47987    turks, putin's hand-picked  ''mediators'', con...\n",
       "47989    everything as usual, just another russian gove...\n",
       "47990                                 twisted firestarter!\n",
       "47993    when people say the us was in better shape whi...\n",
       "Name: text, Length: 23010, dtype: object"
      ]
     },
     "execution_count": 114,
     "metadata": {},
     "output_type": "execute_result"
    }
   ],
   "source": [
    "ukrainian_tweets.text"
   ]
  }
 ],
 "metadata": {
  "kernelspec": {
   "display_name": "env",
   "language": "python",
   "name": "python3"
  },
  "language_info": {
   "codemirror_mode": {
    "name": "ipython",
    "version": 3
   },
   "file_extension": ".py",
   "mimetype": "text/x-python",
   "name": "python",
   "nbconvert_exporter": "python",
   "pygments_lexer": "ipython3",
   "version": "3.11.6"
  }
 },
 "nbformat": 4,
 "nbformat_minor": 2
}
