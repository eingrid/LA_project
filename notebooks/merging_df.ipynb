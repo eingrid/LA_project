{
 "cells": [
  {
   "cell_type": "code",
   "execution_count": 2,
   "metadata": {},
   "outputs": [
    {
     "data": {
      "text/plain": [
       "291"
      ]
     },
     "execution_count": 2,
     "metadata": {},
     "output_type": "execute_result"
    }
   ],
   "source": [
    "import os\n",
    "import pandas as pd\n",
    "\n",
    "\n",
    "csv_files = []\n",
    "base_dir_path = './data/raw'\n",
    "\n",
    "for _file in os.listdir(base_dir_path):\n",
    "    if _file.endswith('.csv'):\n",
    "        csv_files.append(_file)\n",
    "\n",
    "len(csv_files)"
   ]
  },
  {
   "cell_type": "code",
   "execution_count": 3,
   "metadata": {},
   "outputs": [
    {
     "name": "stderr",
     "output_type": "stream",
     "text": [
      "/tmp/ipykernel_103179/2610351162.py:4: DtypeWarning: Columns (15) have mixed types. Specify dtype option on import or set low_memory=False.\n",
      "  new_csv = pd.read_csv(base_dir_path + \"/\"+ csv_file)\n"
     ]
    }
   ],
   "source": [
    "base_file = None\n",
    "\n",
    "for csv_file in csv_files[:100]:\n",
    "    new_csv = pd.read_csv(base_dir_path + \"/\"+ csv_file)\n",
    "    new_csv = new_csv[new_csv['language']=='en']\n",
    "    if base_file is None:\n",
    "        base_file = new_csv\n",
    "    else:\n",
    "        base_file = pd.concat([base_file,new_csv]).drop_duplicates(subset=['text'])"
   ]
  },
  {
   "cell_type": "code",
   "execution_count": null,
   "metadata": {},
   "outputs": [],
   "source": [
    "base_file.drop_duplicates(subset=['text'])"
   ]
  },
  {
   "cell_type": "code",
   "execution_count": 5,
   "metadata": {},
   "outputs": [],
   "source": [
    "base_file.to_csv(\"en_tweets_first_half.csv\")"
   ]
  },
  {
   "cell_type": "code",
   "execution_count": 20,
   "metadata": {},
   "outputs": [
    {
     "data": {
      "text/plain": [
       "1033.0"
      ]
     },
     "execution_count": 20,
     "metadata": {},
     "output_type": "execute_result"
    }
   ],
   "source": [
    "base_file.followers.quantile(0.66)"
   ]
  },
  {
   "cell_type": "code",
   "execution_count": 30,
   "metadata": {},
   "outputs": [
    {
     "data": {
      "text/plain": [
       "89.0"
      ]
     },
     "execution_count": 30,
     "metadata": {},
     "output_type": "execute_result"
    }
   ],
   "source": [
    "base_file['text'].apply(lambda x : len(x)).quantile(0.1)"
   ]
  },
  {
   "cell_type": "markdown",
   "metadata": {},
   "source": [
    "## merge per month"
   ]
  },
  {
   "cell_type": "code",
   "execution_count": 1,
   "metadata": {},
   "outputs": [
    {
     "name": "stderr",
     "output_type": "stream",
     "text": [
      "/tmp/ipykernel_2502/3015658441.py:2: DeprecationWarning: \n",
      "Pyarrow will become a required dependency of pandas in the next major release of pandas (pandas 3.0),\n",
      "(to allow more performant data types, such as the Arrow string type, and better interoperability with other libraries)\n",
      "but was not found to be installed on your system.\n",
      "If this would cause problems for you,\n",
      "please provide us feedback at https://github.com/pandas-dev/pandas/issues/54466\n",
      "        \n",
      "  import pandas as pd\n"
     ]
    },
    {
     "data": {
      "text/plain": [
       "291"
      ]
     },
     "execution_count": 1,
     "metadata": {},
     "output_type": "execute_result"
    }
   ],
   "source": [
    "import os\n",
    "import pandas as pd\n",
    "\n",
    "\n",
    "csv_files = []\n",
    "base_dir_path = './data/raw'\n",
    "\n",
    "for _file in os.listdir(base_dir_path):\n",
    "    if _file.endswith('.csv'):\n",
    "        csv_files.append(_file)\n",
    "\n",
    "len(csv_files)"
   ]
  },
  {
   "cell_type": "code",
   "execution_count": 8,
   "metadata": {},
   "outputs": [
    {
     "name": "stderr",
     "output_type": "stream",
     "text": [
      "/tmp/ipykernel_2502/1408257609.py:25: DtypeWarning: Columns (15) have mixed types. Specify dtype option on import or set low_memory=False.\n",
      "  monthly_dataframe = pd.concat([monthly_dataframe,pd.read_csv(base_dir_path +'/'+ csv_file)])\n",
      "/tmp/ipykernel_2502/1408257609.py:25: DtypeWarning: Columns (15) have mixed types. Specify dtype option on import or set low_memory=False.\n",
      "  monthly_dataframe = pd.concat([monthly_dataframe,pd.read_csv(base_dir_path +'/'+ csv_file)])\n",
      "/tmp/ipykernel_2502/1408257609.py:25: DtypeWarning: Columns (15) have mixed types. Specify dtype option on import or set low_memory=False.\n",
      "  monthly_dataframe = pd.concat([monthly_dataframe,pd.read_csv(base_dir_path +'/'+ csv_file)])\n"
     ]
    }
   ],
   "source": [
    "\n",
    "monthly_dataframe = None\n",
    "prev_month = ''\n",
    "for csv_file in sorted(csv_files):\n",
    "    date = csv_file.split('_')[0]\n",
    "    if len(date) == 4:\n",
    "        month = date[0:2]\n",
    "        day = date[2:4]\n",
    "        year = 2022\n",
    "    elif len(date) == 8:\n",
    "        year = 2023\n",
    "        month = date[4:6]\n",
    "        day = date[6:8]\n",
    "\n",
    "    current_month = f\"{year}_{month}\"\n",
    "    if prev_month != \"\" and prev_month != current_month and monthly_dataframe is not None:\n",
    "        monthly_dataframe = monthly_dataframe.drop_duplicates(subset=['text'])\n",
    "        monthly_dataframe = monthly_dataframe[monthly_dataframe.language == 'en']\n",
    "        monthly_dataframe.to_csv(f\"data/montly_data/{prev_month}_data_en.csv\")\n",
    "        monthly_dataframe = None\n",
    "        \n",
    "    elif monthly_dataframe is None:\n",
    "        monthly_dataframe = pd.read_csv(base_dir_path +'/'+ csv_file)\n",
    "        prev_month = f\"{year}_{month}\"\n",
    "    elif monthly_dataframe is not None:\n",
    "        monthly_dataframe = pd.concat([monthly_dataframe,pd.read_csv(base_dir_path +'/'+ csv_file)])\n",
    "    "
   ]
  },
  {
   "cell_type": "code",
   "execution_count": 6,
   "metadata": {},
   "outputs": [
    {
     "data": {
      "text/plain": [
       "['0819_UkraineCombinedTweetsDeduped.csv',\n",
       " '0820_UkraineCombinedTweetsDeduped.csv',\n",
       " '0821_UkraineCombinedTweetsDeduped.csv',\n",
       " '0822_UkraineCombinedTweetsDeduped.csv',\n",
       " '0823_UkraineCombinedTweetsDeduped.csv',\n",
       " '0824_UkraineCombinedTweetsDeduped.csv',\n",
       " '0825_UkraineCombinedTweetsDeduped.csv',\n",
       " '0826_UkraineCombinedTweetsDeduped.csv',\n",
       " '0827_UkraineCombinedTweetsDeduped.csv',\n",
       " '0828_UkraineCombinedTweetsDeduped.csv',\n",
       " '0829_UkraineCombinedTweetsDeduped.csv',\n",
       " '0830_UkraineCombinedTweetsDeduped.csv',\n",
       " '0831_UkraineCombinedTweetsDeduped.csv',\n",
       " '0901_UkraineCombinedTweetsDeduped.csv',\n",
       " '0902_UkraineCombinedTweetsDeduped.csv',\n",
       " '0903_UkraineCombinedTweetsDeduped.csv',\n",
       " '0904_UkraineCombinedTweetsDeduped.csv',\n",
       " '0905_UkraineCombinedTweetsDeduped.csv',\n",
       " '0906_UkraineCombinedTweetsDeduped.csv',\n",
       " '0907_UkraineCombinedTweetsDeduped.csv',\n",
       " '0908_UkraineCombinedTweetsDeduped.csv',\n",
       " '0909_UkraineCombinedTweetsDeduped.csv',\n",
       " '0910_UkraineCombinedTweetsDeduped.csv',\n",
       " '0911_UkraineCombinedTweetsDeduped.csv',\n",
       " '0912_UkraineCombinedTweetsDeduped.csv',\n",
       " '0913_UkraineCombinedTweetsDeduped.csv',\n",
       " '0914_UkraineCombinedTweetsDeduped.csv',\n",
       " '0915_UkraineCombinedTweetsDeduped.csv',\n",
       " '0916_UkraineCombinedTweetsDeduped.csv',\n",
       " '0917_UkraineCombinedTweetsDeduped.csv',\n",
       " '0918_UkraineCombinedTweetsDeduped.csv',\n",
       " '0919_UkraineCombinedTweetsDeduped.csv',\n",
       " '0920_UkraineCombinedTweetsDeduped.csv',\n",
       " '0921_UkraineCombinedTweetsDeduped.csv',\n",
       " '0922_UkraineCombinedTweetsDeduped.csv',\n",
       " '0923_UkraineCombinedTweetsDeduped.csv',\n",
       " '0924_UkraineCombinedTweetsDeduped.csv',\n",
       " '0925_UkraineCombinedTweetsDeduped.csv',\n",
       " '0926_UkraineCombinedTweetsDeduped.csv',\n",
       " '0927_UkraineCombinedTweetsDeduped.csv',\n",
       " '0928_UkraineCombinedTweetsDeduped.csv',\n",
       " '0929_UkraineCombinedTweetsDeduped.csv',\n",
       " '0930_UkraineCombinedTweetsDeduped.csv',\n",
       " '1001_UkraineCombinedTweetsDeduped.csv',\n",
       " '1002_UkraineCombinedTweetsDeduped.csv',\n",
       " '1003_UkraineCombinedTweetsDeduped.csv',\n",
       " '1004_UkraineCombinedTweetsDeduped.csv',\n",
       " '1005_UkraineCombinedTweetsDeduped.csv',\n",
       " '1006_UkraineCombinedTweetsDeduped.csv',\n",
       " '1007_UkraineCombinedTweetsDeduped.csv',\n",
       " '1008_UkraineCombinedTweetsDeduped.csv',\n",
       " '1009_UkraineCombinedTweetsDeduped.csv',\n",
       " '1010_UkraineCombinedTweetsDeduped.csv',\n",
       " '1011_UkraineCombinedTweetsDeduped.csv',\n",
       " '1012_UkraineCombinedTweetsDeduped.csv',\n",
       " '1013_UkraineCombinedTweetsDeduped.csv',\n",
       " '1014_UkraineCombinedTweetsDeduped.csv',\n",
       " '1015_UkraineCombinedTweetsDeduped.csv',\n",
       " '1016_UkraineCombinedTweetsDeduped.csv',\n",
       " '1017_UkraineCombinedTweetsDeduped.csv',\n",
       " '1018_UkraineCombinedTweetsDeduped.csv',\n",
       " '1019_UkraineCombinedTweetsDeduped.csv',\n",
       " '1020_UkraineCombinedTweetsDeduped.csv',\n",
       " '1021_UkraineCombinedTweetsDeduped.csv',\n",
       " '1022_UkraineCombinedTweetsDeduped.csv',\n",
       " '1023_UkraineCombinedTweetsDeduped.csv',\n",
       " '1024_UkraineCombinedTweetsDeduped.csv',\n",
       " '1025_UkraineCombinedTweetsDeduped.csv',\n",
       " '1026_UkraineCombinedTweetsDeduped.csv',\n",
       " '1027_UkraineCombinedTweetsDeduped.csv',\n",
       " '1028_UkraineCombinedTweetsDeduped.csv',\n",
       " '1029_UkraineCombinedTweetsDeduped.csv',\n",
       " '1030_UkraineCombinedTweetsDeduped.csv',\n",
       " '1031_UkraineCombinedTweetsDeduped.csv',\n",
       " '1101_UkraineCombinedTweetsDeduped.csv',\n",
       " '1102_UkraineCombinedTweetsDeduped.csv',\n",
       " '1103_UkraineCombinedTweetsDeduped.csv',\n",
       " '1104_UkraineCombinedTweetsDeduped.csv',\n",
       " '1105_UkraineCombinedTweetsDeduped.csv',\n",
       " '1106_UkraineCombinedTweetsDeduped.csv',\n",
       " '1107_UkraineCombinedTweetsDeduped.csv',\n",
       " '1108_UkraineCombinedTweetsDeduped.csv',\n",
       " '1109_UkraineCombinedTweetsDeduped.csv',\n",
       " '1110_UkraineCombinedTweetsDeduped.csv',\n",
       " '1111_UkraineCombinedTweetsDeduped.csv',\n",
       " '1112_UkraineCombinedTweetsDeduped.csv',\n",
       " '1113_UkraineCombinedTweetsDeduped.csv',\n",
       " '1114_UkraineCombinedTweetsDeduped.csv',\n",
       " '1115_UkraineCombinedTweetsDeduped.csv',\n",
       " '1116_UkraineCombinedTweetsDeduped.csv',\n",
       " '1117_UkraineCombinedTweetsDeduped.csv',\n",
       " '1118_UkraineCombinedTweetsDeduped.csv',\n",
       " '1119_UkraineCombinedTweetsDeduped.csv',\n",
       " '1120_UkraineCombinedTweetsDeduped.csv',\n",
       " '1121_UkraineCombinedTweetsDeduped.csv',\n",
       " '1122_UkraineCombinedTweetsDeduped.csv',\n",
       " '1123_UkraineCombinedTweetsDeduped.csv',\n",
       " '1124_UkraineCombinedTweetsDeduped.csv',\n",
       " '1125_UkraineCombinedTweetsDeduped.csv',\n",
       " '1126_UkraineCombinedTweetsDeduped.csv',\n",
       " '1127_UkraineCombinedTweetsDeduped.csv',\n",
       " '1128_UkraineCombinedTweetsDeduped.csv',\n",
       " '1129_UkraineCombinedTweetsDeduped.csv',\n",
       " '1130_UkraineCombinedTweetsDeduped.csv',\n",
       " '1201_UkraineCombinedTweetsDeduped.csv',\n",
       " '1202_UkraineCombinedTweetsDeduped.csv',\n",
       " '1203_UkraineCombinedTweetsDeduped.csv',\n",
       " '1204_UkraineCombinedTweetsDeduped.csv',\n",
       " '1205_UkraineCombinedTweetsDeduped.csv',\n",
       " '1206_UkraineCombinedTweetsDeduped.csv',\n",
       " '1207_UkraineCombinedTweetsDeduped.csv',\n",
       " '1208_UkraineCombinedTweetsDeduped.csv',\n",
       " '1209_UkraineCombinedTweetsDeduped.csv',\n",
       " '1210_UkraineCombinedTweetsDeduped.csv',\n",
       " '1211_UkraineCombinedTweetsDeduped.csv',\n",
       " '1212_UkraineCombinedTweetsDeduped.csv',\n",
       " '1213_UkraineCombinedTweetsDeduped.csv',\n",
       " '1214_UkraineCombinedTweetsDeduped.csv',\n",
       " '1215_UkraineCombinedTweetsDeduped.csv',\n",
       " '1216_UkraineCombinedTweetsDeduped.csv',\n",
       " '1217_UkraineCombinedTweetsDeduped.csv',\n",
       " '1218_UkraineCombinedTweetsDeduped.csv',\n",
       " '1219_UkraineCombinedTweetsDeduped.csv',\n",
       " '1220_UkraineCombinedTweetsDeduped.csv',\n",
       " '1221_UkraineCombinedTweetsDeduped.csv',\n",
       " '1222_UkraineCombinedTweetsDeduped.csv',\n",
       " '1223_UkraineCombinedTweetsDeduped.csv',\n",
       " '1224_UkraineCombinedTweetsDeduped.csv',\n",
       " '1225_UkraineCombinedTweetsDeduped.csv',\n",
       " '1226_UkraineCombinedTweetsDeduped.csv',\n",
       " '1227_UkraineCombinedTweetsDeduped.csv',\n",
       " '1228_UkraineCombinedTweetsDeduped.csv',\n",
       " '1229_UkraineCombinedTweetsDeduped.csv',\n",
       " '1230_UkraineCombinedTweetsDeduped.csv',\n",
       " '1231_UkraineCombinedTweetsDeduped.csv',\n",
       " '20230101_UkraineCombinedTweetsDeduped.csv',\n",
       " '20230102_UkraineCombinedTweetsDeduped.csv',\n",
       " '20230103_UkraineCombinedTweetsDeduped.csv',\n",
       " '20230104_UkraineCombinedTweetsDeduped.csv',\n",
       " '20230105_UkraineCombinedTweetsDeduped.csv',\n",
       " '20230106_UkraineCombinedTweetsDeduped.csv',\n",
       " '20230107_UkraineCombinedTweetsDeduped.csv',\n",
       " '20230108_UkraineCombinedTweetsDeduped.csv',\n",
       " '20230109_UkraineCombinedTweetsDeduped.csv',\n",
       " '20230110_UkraineCombinedTweetsDeduped.csv',\n",
       " '20230111_UkraineCombinedTweetsDeduped.csv',\n",
       " '20230112_UkraineCombinedTweetsDeduped.csv',\n",
       " '20230113_UkraineCombinedTweetsDeduped.csv',\n",
       " '20230114_UkraineCombinedTweetsDeduped.csv',\n",
       " '20230115_UkraineCombinedTweetsDeduped.csv',\n",
       " '20230116_UkraineCombinedTweetsDeduped.csv',\n",
       " '20230117_UkraineCombinedTweetsDeduped.csv',\n",
       " '20230118_UkraineCombinedTweetsDeduped.csv',\n",
       " '20230119_UkraineCombinedTweetsDeduped.csv',\n",
       " '20230120_UkraineCombinedTweetsDeduped.csv',\n",
       " '20230121_UkraineCombinedTweetsDeduped.csv',\n",
       " '20230122_UkraineCombinedTweetsDeduped.csv',\n",
       " '20230123_UkraineCombinedTweetsDeduped.csv',\n",
       " '20230124_UkraineCombinedTweetsDeduped.csv',\n",
       " '20230125_UkraineCombinedTweetsDeduped.csv',\n",
       " '20230126_UkraineCombinedTweetsDeduped.csv',\n",
       " '20230127_UkraineCombinedTweetsDeduped.csv',\n",
       " '20230128_UkraineCombinedTweetsDeduped.csv',\n",
       " '20230129_UkraineCombinedTweetsDeduped.csv',\n",
       " '20230130_UkraineCombinedTweetsDeduped.csv',\n",
       " '20230131_UkraineCombinedTweetsDeduped.csv',\n",
       " '20230201_UkraineCombinedTweetsDeduped.csv',\n",
       " '20230202_UkraineCombinedTweetsDeduped.csv',\n",
       " '20230203_UkraineCombinedTweetsDeduped.csv',\n",
       " '20230204_UkraineCombinedTweetsDeduped.csv',\n",
       " '20230205_UkraineCombinedTweetsDeduped.csv',\n",
       " '20230206_UkraineCombinedTweetsDeduped.csv',\n",
       " '20230207_UkraineCombinedTweetsDeduped.csv',\n",
       " '20230208_UkraineCombinedTweetsDeduped.csv',\n",
       " '20230209_UkraineCombinedTweetsDeduped.csv',\n",
       " '20230210_UkraineCombinedTweetsDeduped.csv',\n",
       " '20230211_UkraineCombinedTweetsDeduped.csv',\n",
       " '20230212_UkraineCombinedTweetsDeduped.csv',\n",
       " '20230213_UkraineCombinedTweetsDeduped.csv',\n",
       " '20230214_UkraineCombinedTweetsDeduped.csv',\n",
       " '20230215_UkraineCombinedTweetsDeduped.csv',\n",
       " '20230216_UkraineCombinedTweetsDeduped.csv',\n",
       " '20230217_UkraineCombinedTweetsDeduped.csv',\n",
       " '20230218_UkraineCombinedTweetsDeduped.csv',\n",
       " '20230219_UkraineCombinedTweetsDeduped.csv',\n",
       " '20230220_UkraineCombinedTweetsDeduped.csv',\n",
       " '20230221_UkraineCombinedTweetsDeduped.csv',\n",
       " '20230222_UkraineCombinedTweetsDeduped.csv',\n",
       " '20230223_UkraineCombinedTweetsDeduped.csv',\n",
       " '20230224_UkraineCombinedTweetsDeduped.csv',\n",
       " '20230225_UkraineCombinedTweetsDeduped.csv',\n",
       " '20230226_UkraineCombinedTweetsDeduped.csv',\n",
       " '20230227_UkraineCombinedTweetsDeduped.csv',\n",
       " '20230228_UkraineCombinedTweetsDeduped.csv',\n",
       " '20230301_UkraineCombinedTweetsDeduped.csv',\n",
       " '20230302_UkraineCombinedTweetsDeduped.csv',\n",
       " '20230303_UkraineCombinedTweetsDeduped.csv',\n",
       " '20230304_UkraineCombinedTweetsDeduped.csv',\n",
       " '20230305_UkraineCombinedTweetsDeduped.csv',\n",
       " '20230306_UkraineCombinedTweetsDeduped.csv',\n",
       " '20230307_UkraineCombinedTweetsDeduped.csv',\n",
       " '20230308_UkraineCombinedTweetsDeduped.csv',\n",
       " '20230309_UkraineCombinedTweetsDeduped.csv',\n",
       " '20230310_UkraineCombinedTweetsDeduped.csv',\n",
       " '20230311_UkraineCombinedTweetsDeduped.csv',\n",
       " '20230312_UkraineCombinedTweetsDeduped.csv',\n",
       " '20230313_UkraineCombinedTweetsDeduped.csv',\n",
       " '20230314_UkraineCombinedTweetsDeduped.csv',\n",
       " '20230315_UkraineCombinedTweetsDeduped.csv',\n",
       " '20230316_UkraineCombinedTweetsDeduped.csv',\n",
       " '20230317_UkraineCombinedTweetsDeduped.csv',\n",
       " '20230318_UkraineCombinedTweetsDeduped.csv',\n",
       " '20230319_UkraineCombinedTweetsDeduped.csv',\n",
       " '20230320_UkraineCombinedTweetsDeduped.csv',\n",
       " '20230321_UkraineCombinedTweetsDeduped.csv',\n",
       " '20230322_UkraineCombinedTweetsDeduped.csv',\n",
       " '20230323_UkraineCombinedTweetsDeduped.csv',\n",
       " '20230324_UkraineCombinedTweetsDeduped.csv',\n",
       " '20230325_UkraineCombinedTweetsDeduped.csv',\n",
       " '20230326_UkraineCombinedTweetsDeduped.csv',\n",
       " '20230327_UkraineCombinedTweetsDeduped.csv',\n",
       " '20230328_UkraineCombinedTweetsDeduped.csv',\n",
       " '20230329_UkraineCombinedTweetsDeduped.csv',\n",
       " '20230330_UkraineCombinedTweetsDeduped.csv',\n",
       " '20230331_UkraineCombinedTweetsDeduped.csv',\n",
       " '20230401_UkraineCombinedTweetsDeduped.csv',\n",
       " '20230402_UkraineCombinedTweetsDeduped.csv',\n",
       " '20230403_UkraineCombinedTweetsDeduped.csv',\n",
       " '20230404_UkraineCombinedTweetsDeduped.csv',\n",
       " '20230405_UkraineCombinedTweetsDeduped.csv',\n",
       " '20230406_UkraineCombinedTweetsDeduped.csv',\n",
       " '20230407_UkraineCombinedTweetsDeduped.csv',\n",
       " '20230408_UkraineCombinedTweetsDeduped.csv',\n",
       " '20230409_UkraineCombinedTweetsDeduped.csv',\n",
       " '20230410_UkraineCombinedTweetsDeduped.csv',\n",
       " '20230411_UkraineCombinedTweetsDeduped.csv',\n",
       " '20230412_UkraineCombinedTweetsDeduped.csv',\n",
       " '20230413_UkraineCombinedTweetsDeduped.csv',\n",
       " '20230414_UkraineCombinedTweetsDeduped.csv',\n",
       " '20230415_UkraineCombinedTweetsDeduped.csv',\n",
       " '20230416_UkraineCombinedTweetsDeduped.csv',\n",
       " '20230417_UkraineCombinedTweetsDeduped.csv',\n",
       " '20230418_UkraineCombinedTweetsDeduped.csv',\n",
       " '20230419_UkraineCombinedTweetsDeduped.csv',\n",
       " '20230420_UkraineCombinedTweetsDeduped.csv',\n",
       " '20230421_UkraineCombinedTweetsDeduped.csv',\n",
       " '20230422_UkraineCombinedTweetsDeduped.csv',\n",
       " '20230423_UkraineCombinedTweetsDeduped.csv',\n",
       " '20230424_UkraineCombinedTweetsDeduped.csv',\n",
       " '20230425_UkraineCombinedTweetsDeduped.csv',\n",
       " '20230426_UkraineCombinedTweetsDeduped.csv',\n",
       " '20230427_UkraineCombinedTweetsDeduped.csv',\n",
       " '20230428_UkraineCombinedTweetsDeduped.csv',\n",
       " '20230429_to_20230430_UkraineCombinedTweetsDeduped.csv',\n",
       " '20230501_to_20230502_UkraineCombinedTweetsDeduped.csv',\n",
       " '20230503_UkraineCombinedTweetsDeduped.csv',\n",
       " '20230504_UkraineCombinedTweetsDeduped.csv',\n",
       " '20230505_to_20230508_UkraineCombinedTweetsDeduped.csv',\n",
       " '20230509_UkraineCombinedTweetsDeduped.csv',\n",
       " '20230510_UkraineCombinedTweetsDeduped.csv',\n",
       " '20230511_to_20230512_UkraineCombinedTweetsDeduped.csv',\n",
       " '20230513_UkraineCombinedTweetsDeduped.csv',\n",
       " '20230514_UkraineCombinedTweetsDeduped.csv',\n",
       " '20230515_to_20230516_UkraineCombinedTweetsDeduped.csv',\n",
       " '20230517_UkraineCombinedTweetsDeduped.csv',\n",
       " '20230518_to_20230520_UkraineCombinedTweetsDeduped.csv',\n",
       " '20230521_UkraineCombinedTweetsDeduped.csv',\n",
       " '20230522_UkraineCombinedTweetsDeduped.csv',\n",
       " '20230523_UkraineCombinedTweetsDeduped.csv',\n",
       " '20230524_UkraineCombinedTweetsDeduped.csv',\n",
       " '20230525_UkraineCombinedTweetsDeduped.csv',\n",
       " '20230526_UkraineCombinedTweetsDeduped.csv',\n",
       " '20230527_UkraineCombinedTweetsDeduped.csv',\n",
       " '20230528_UkraineCombinedTweetsDeduped.csv',\n",
       " '20230529_UkraineCombinedTweetsDeduped.csv',\n",
       " '20230530_UkraineCombinedTweetsDeduped.csv',\n",
       " '20230531_UkraineCombinedTweetsDeduped.csv',\n",
       " '20230601_UkraineCombinedTweetsDeduped.csv',\n",
       " '20230602_UkraineCombinedTweetsDeduped.csv',\n",
       " '20230603_UkraineCombinedTweetsDeduped.csv',\n",
       " '20230604_UkraineCombinedTweetsDeduped.csv',\n",
       " '20230605_UkraineCombinedTweetsDeduped.csv',\n",
       " '20230606_UkraineCombinedTweetsDeduped.csv',\n",
       " '20230607_UkraineCombinedTweetsDeduped.csv',\n",
       " '20230608_UkraineCombinedTweetsDeduped.csv',\n",
       " '20230609_UkraineCombinedTweetsDeduped.csv',\n",
       " '20230610_UkraineCombinedTweetsDeduped.csv',\n",
       " '20230611_UkraineCombinedTweetsDeduped.csv',\n",
       " '20230612_UkraineCombinedTweetsDeduped.csv',\n",
       " '20230613_UkraineCombinedTweetsDeduped.csv',\n",
       " '20230614_UkraineCombinedTweetsDeduped.csv']"
      ]
     },
     "execution_count": 6,
     "metadata": {},
     "output_type": "execute_result"
    }
   ],
   "source": [
    "sorted(csv_files)"
   ]
  },
  {
   "cell_type": "code",
   "execution_count": null,
   "metadata": {},
   "outputs": [],
   "source": []
  }
 ],
 "metadata": {
  "kernelspec": {
   "display_name": "env",
   "language": "python",
   "name": "python3"
  },
  "language_info": {
   "codemirror_mode": {
    "name": "ipython",
    "version": 3
   },
   "file_extension": ".py",
   "mimetype": "text/x-python",
   "name": "python",
   "nbconvert_exporter": "python",
   "pygments_lexer": "ipython3",
   "version": "3.11.6"
  }
 },
 "nbformat": 4,
 "nbformat_minor": 2
}
